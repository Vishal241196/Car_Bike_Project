{
 "cells": [
  {
   "cell_type": "markdown",
   "metadata": {},
   "source": [
    "##### Database Details : \n",
    "- Host: 18.136.157.135\n",
    "- Port: 3306 \n",
    "- Username : dm_team \n",
    "- Password: DM!$Team@&27920!"
   ]
  },
  {
   "cell_type": "markdown",
   "metadata": {},
   "source": [
    "### Load The Data"
   ]
  },
  {
   "cell_type": "code",
   "execution_count": 1,
   "metadata": {},
   "outputs": [
    {
     "name": "stdout",
     "output_type": "stream",
     "text": [
      "Requirement already satisfied: mysql-connector in f:\\anaconda\\anaconda setup\\lib\\site-packages (2.2.9)\n"
     ]
    }
   ],
   "source": [
    "# import necessary package\n",
    "#!pip install mysql-connector\n",
    "import os\n",
    "import mysql.connector\n",
    "import pandas as pd\n",
    "import numpy as np\n",
    "import matplotlib.pyplot as plt\n",
    "from scipy import stats\n",
    "from sklearn.model_selection import train_test_split\n",
    "from collections import Counter\n",
    "from sklearn.preprocessing import MinMaxScaler\n",
    "import seaborn as sns\n",
    "from sklearn.metrics import accuracy_score, confusion_matrix\n",
    "from sklearn.preprocessing import LabelEncoder, StandardScaler"
   ]
  },
  {
   "cell_type": "code",
   "execution_count": 2,
   "metadata": {},
   "outputs": [],
   "source": [
    "from sqlalchemy import create_engine"
   ]
  },
  {
   "cell_type": "markdown",
   "metadata": {},
   "source": [
    "## making connections\n"
   ]
  },
  {
   "cell_type": "code",
   "execution_count": 3,
   "metadata": {},
   "outputs": [],
   "source": [
    "connection=mysql.connector.connect(host='18.136.157.135',\n",
    "                                  user='dm_team',\n",
    "                                  password='DM!$Team@&27920!')"
   ]
  },
  {
   "cell_type": "code",
   "execution_count": 4,
   "metadata": {},
   "outputs": [
    {
     "name": "stdout",
     "output_type": "stream",
     "text": [
      "<mysql.connector.connection.MySQLConnection object at 0x0000022A644DC610>\n"
     ]
    }
   ],
   "source": [
    "print(connection)"
   ]
  },
  {
   "cell_type": "code",
   "execution_count": 5,
   "metadata": {},
   "outputs": [
    {
     "name": "stdout",
     "output_type": "stream",
     "text": [
      "('information_schema',)\n",
      "('project_itsm',)\n"
     ]
    }
   ],
   "source": [
    "cursor=connection.cursor()\n",
    "cursor.execute('show databases')\n",
    "for i in cursor:\n",
    "    print(i)"
   ]
  },
  {
   "cell_type": "code",
   "execution_count": 6,
   "metadata": {},
   "outputs": [],
   "source": [
    "connection=mysql.connector.connect(host='18.136.157.135',\n",
    "                                  user='dm_team',\n",
    "                                  password='DM!$Team@&27920!',\n",
    "                                  database='project_itsm')"
   ]
  },
  {
   "cell_type": "code",
   "execution_count": 7,
   "metadata": {},
   "outputs": [
    {
     "name": "stdout",
     "output_type": "stream",
     "text": [
      "  Tables_in_project_itsm\n",
      "0           dataset_list\n"
     ]
    }
   ],
   "source": [
    "db_tables=pd.read_sql_query('show tables',connection)\n",
    "print(db_tables)\n"
   ]
  },
  {
   "cell_type": "code",
   "execution_count": 8,
   "metadata": {},
   "outputs": [
    {
     "name": "stdout",
     "output_type": "stream",
     "text": [
      "(46606, 25)\n"
     ]
    },
    {
     "data": {
      "text/html": [
       "<div>\n",
       "<style scoped>\n",
       "    .dataframe tbody tr th:only-of-type {\n",
       "        vertical-align: middle;\n",
       "    }\n",
       "\n",
       "    .dataframe tbody tr th {\n",
       "        vertical-align: top;\n",
       "    }\n",
       "\n",
       "    .dataframe thead th {\n",
       "        text-align: right;\n",
       "    }\n",
       "</style>\n",
       "<table border=\"1\" class=\"dataframe\">\n",
       "  <thead>\n",
       "    <tr style=\"text-align: right;\">\n",
       "      <th></th>\n",
       "      <th>CI_Name</th>\n",
       "      <th>CI_Cat</th>\n",
       "      <th>CI_Subcat</th>\n",
       "      <th>WBS</th>\n",
       "      <th>Incident_ID</th>\n",
       "      <th>Status</th>\n",
       "      <th>Impact</th>\n",
       "      <th>Urgency</th>\n",
       "      <th>Priority</th>\n",
       "      <th>number_cnt</th>\n",
       "      <th>...</th>\n",
       "      <th>Reopen_Time</th>\n",
       "      <th>Resolved_Time</th>\n",
       "      <th>Close_Time</th>\n",
       "      <th>Handle_Time_hrs</th>\n",
       "      <th>Closure_Code</th>\n",
       "      <th>No_of_Related_Interactions</th>\n",
       "      <th>Related_Interaction</th>\n",
       "      <th>No_of_Related_Incidents</th>\n",
       "      <th>No_of_Related_Changes</th>\n",
       "      <th>Related_Change</th>\n",
       "    </tr>\n",
       "  </thead>\n",
       "  <tbody>\n",
       "    <tr>\n",
       "      <th>0</th>\n",
       "      <td>SUB000508</td>\n",
       "      <td>subapplication</td>\n",
       "      <td>Web Based Application</td>\n",
       "      <td>WBS000162</td>\n",
       "      <td>IM0000004</td>\n",
       "      <td>Closed</td>\n",
       "      <td>4</td>\n",
       "      <td>4</td>\n",
       "      <td>4</td>\n",
       "      <td>0.601292279</td>\n",
       "      <td>...</td>\n",
       "      <td></td>\n",
       "      <td>04-11-2013 13:50</td>\n",
       "      <td>04-11-2013 13:51</td>\n",
       "      <td>3,87,16,91,111</td>\n",
       "      <td>Other</td>\n",
       "      <td>1</td>\n",
       "      <td>SD0000007</td>\n",
       "      <td>2</td>\n",
       "      <td></td>\n",
       "      <td></td>\n",
       "    </tr>\n",
       "    <tr>\n",
       "      <th>1</th>\n",
       "      <td>WBA000124</td>\n",
       "      <td>application</td>\n",
       "      <td>Web Based Application</td>\n",
       "      <td>WBS000088</td>\n",
       "      <td>IM0000005</td>\n",
       "      <td>Closed</td>\n",
       "      <td>3</td>\n",
       "      <td>3</td>\n",
       "      <td>3</td>\n",
       "      <td>0.415049969</td>\n",
       "      <td>...</td>\n",
       "      <td>02-12-2013 12:31</td>\n",
       "      <td>02-12-2013 12:36</td>\n",
       "      <td>02-12-2013 12:36</td>\n",
       "      <td>4,35,47,86,389</td>\n",
       "      <td>Software</td>\n",
       "      <td>1</td>\n",
       "      <td>SD0000011</td>\n",
       "      <td>1</td>\n",
       "      <td></td>\n",
       "      <td></td>\n",
       "    </tr>\n",
       "    <tr>\n",
       "      <th>2</th>\n",
       "      <td>DTA000024</td>\n",
       "      <td>application</td>\n",
       "      <td>Desktop Application</td>\n",
       "      <td>WBS000092</td>\n",
       "      <td>IM0000006</td>\n",
       "      <td>Closed</td>\n",
       "      <td>NS</td>\n",
       "      <td>3</td>\n",
       "      <td>NA</td>\n",
       "      <td>0.517551335</td>\n",
       "      <td>...</td>\n",
       "      <td></td>\n",
       "      <td>13-01-2014 15:12</td>\n",
       "      <td>13-01-2014 15:13</td>\n",
       "      <td>4,84,31,19,444</td>\n",
       "      <td>No error - works as designed</td>\n",
       "      <td>1</td>\n",
       "      <td>SD0000017</td>\n",
       "      <td></td>\n",
       "      <td></td>\n",
       "      <td></td>\n",
       "    </tr>\n",
       "    <tr>\n",
       "      <th>3</th>\n",
       "      <td>WBA000124</td>\n",
       "      <td>application</td>\n",
       "      <td>Web Based Application</td>\n",
       "      <td>WBS000088</td>\n",
       "      <td>IM0000011</td>\n",
       "      <td>Closed</td>\n",
       "      <td>4</td>\n",
       "      <td>4</td>\n",
       "      <td>4</td>\n",
       "      <td>0.642927218</td>\n",
       "      <td>...</td>\n",
       "      <td></td>\n",
       "      <td>14-11-2013 09:31</td>\n",
       "      <td>14-11-2013 09:31</td>\n",
       "      <td>4,32,18,33,333</td>\n",
       "      <td>Operator error</td>\n",
       "      <td>1</td>\n",
       "      <td>SD0000025</td>\n",
       "      <td></td>\n",
       "      <td></td>\n",
       "      <td></td>\n",
       "    </tr>\n",
       "    <tr>\n",
       "      <th>4</th>\n",
       "      <td>WBA000124</td>\n",
       "      <td>application</td>\n",
       "      <td>Web Based Application</td>\n",
       "      <td>WBS000088</td>\n",
       "      <td>IM0000012</td>\n",
       "      <td>Closed</td>\n",
       "      <td>4</td>\n",
       "      <td>4</td>\n",
       "      <td>4</td>\n",
       "      <td>0.345258343</td>\n",
       "      <td>...</td>\n",
       "      <td></td>\n",
       "      <td>08-11-2013 13:55</td>\n",
       "      <td>08-11-2013 13:55</td>\n",
       "      <td>3,38,39,03,333</td>\n",
       "      <td>Other</td>\n",
       "      <td>1</td>\n",
       "      <td>SD0000029</td>\n",
       "      <td></td>\n",
       "      <td></td>\n",
       "      <td></td>\n",
       "    </tr>\n",
       "  </tbody>\n",
       "</table>\n",
       "<p>5 rows × 25 columns</p>\n",
       "</div>"
      ],
      "text/plain": [
       "     CI_Name          CI_Cat              CI_Subcat        WBS Incident_ID  \\\n",
       "0  SUB000508  subapplication  Web Based Application  WBS000162   IM0000004   \n",
       "1  WBA000124     application  Web Based Application  WBS000088   IM0000005   \n",
       "2  DTA000024     application    Desktop Application  WBS000092   IM0000006   \n",
       "3  WBA000124     application  Web Based Application  WBS000088   IM0000011   \n",
       "4  WBA000124     application  Web Based Application  WBS000088   IM0000012   \n",
       "\n",
       "   Status Impact Urgency Priority   number_cnt  ...       Reopen_Time  \\\n",
       "0  Closed      4       4        4  0.601292279  ...                     \n",
       "1  Closed      3       3        3  0.415049969  ...  02-12-2013 12:31   \n",
       "2  Closed     NS       3       NA  0.517551335  ...                     \n",
       "3  Closed      4       4        4  0.642927218  ...                     \n",
       "4  Closed      4       4        4  0.345258343  ...                     \n",
       "\n",
       "      Resolved_Time        Close_Time Handle_Time_hrs  \\\n",
       "0  04-11-2013 13:50  04-11-2013 13:51  3,87,16,91,111   \n",
       "1  02-12-2013 12:36  02-12-2013 12:36  4,35,47,86,389   \n",
       "2  13-01-2014 15:12  13-01-2014 15:13  4,84,31,19,444   \n",
       "3  14-11-2013 09:31  14-11-2013 09:31  4,32,18,33,333   \n",
       "4  08-11-2013 13:55  08-11-2013 13:55  3,38,39,03,333   \n",
       "\n",
       "                   Closure_Code No_of_Related_Interactions  \\\n",
       "0                         Other                          1   \n",
       "1                      Software                          1   \n",
       "2  No error - works as designed                          1   \n",
       "3                Operator error                          1   \n",
       "4                         Other                          1   \n",
       "\n",
       "  Related_Interaction No_of_Related_Incidents No_of_Related_Changes  \\\n",
       "0           SD0000007                       2                         \n",
       "1           SD0000011                       1                         \n",
       "2           SD0000017                                                 \n",
       "3           SD0000025                                                 \n",
       "4           SD0000029                                                 \n",
       "\n",
       "  Related_Change  \n",
       "0                 \n",
       "1                 \n",
       "2                 \n",
       "3                 \n",
       "4                 \n",
       "\n",
       "[5 rows x 25 columns]"
      ]
     },
     "execution_count": 8,
     "metadata": {},
     "output_type": "execute_result"
    }
   ],
   "source": [
    "query = 'select * from dataset_list'\n",
    "df = pd.read_sql(query,connection)\n",
    "print(df.shape)\n",
    "df.head()\n"
   ]
  },
  {
   "cell_type": "markdown",
   "metadata": {},
   "source": [
    "### Exploratory Data Analysis"
   ]
  },
  {
   "cell_type": "code",
   "execution_count": 9,
   "metadata": {},
   "outputs": [
    {
     "data": {
      "text/html": [
       "<div>\n",
       "<style scoped>\n",
       "    .dataframe tbody tr th:only-of-type {\n",
       "        vertical-align: middle;\n",
       "    }\n",
       "\n",
       "    .dataframe tbody tr th {\n",
       "        vertical-align: top;\n",
       "    }\n",
       "\n",
       "    .dataframe thead th {\n",
       "        text-align: right;\n",
       "    }\n",
       "</style>\n",
       "<table border=\"1\" class=\"dataframe\">\n",
       "  <thead>\n",
       "    <tr style=\"text-align: right;\">\n",
       "      <th></th>\n",
       "      <th>CI_Name</th>\n",
       "      <th>CI_Cat</th>\n",
       "      <th>CI_Subcat</th>\n",
       "      <th>WBS</th>\n",
       "      <th>Incident_ID</th>\n",
       "      <th>Status</th>\n",
       "      <th>Impact</th>\n",
       "      <th>Urgency</th>\n",
       "      <th>Priority</th>\n",
       "      <th>number_cnt</th>\n",
       "      <th>...</th>\n",
       "      <th>Reopen_Time</th>\n",
       "      <th>Resolved_Time</th>\n",
       "      <th>Close_Time</th>\n",
       "      <th>Handle_Time_hrs</th>\n",
       "      <th>Closure_Code</th>\n",
       "      <th>No_of_Related_Interactions</th>\n",
       "      <th>Related_Interaction</th>\n",
       "      <th>No_of_Related_Incidents</th>\n",
       "      <th>No_of_Related_Changes</th>\n",
       "      <th>Related_Change</th>\n",
       "    </tr>\n",
       "  </thead>\n",
       "  <tbody>\n",
       "    <tr>\n",
       "      <th>0</th>\n",
       "      <td>SUB000508</td>\n",
       "      <td>subapplication</td>\n",
       "      <td>Web Based Application</td>\n",
       "      <td>WBS000162</td>\n",
       "      <td>IM0000004</td>\n",
       "      <td>Closed</td>\n",
       "      <td>4</td>\n",
       "      <td>4</td>\n",
       "      <td>4</td>\n",
       "      <td>0.601292279</td>\n",
       "      <td>...</td>\n",
       "      <td></td>\n",
       "      <td>04-11-2013 13:50</td>\n",
       "      <td>04-11-2013 13:51</td>\n",
       "      <td>3,87,16,91,111</td>\n",
       "      <td>Other</td>\n",
       "      <td>1</td>\n",
       "      <td>SD0000007</td>\n",
       "      <td>2</td>\n",
       "      <td></td>\n",
       "      <td></td>\n",
       "    </tr>\n",
       "    <tr>\n",
       "      <th>1</th>\n",
       "      <td>WBA000124</td>\n",
       "      <td>application</td>\n",
       "      <td>Web Based Application</td>\n",
       "      <td>WBS000088</td>\n",
       "      <td>IM0000005</td>\n",
       "      <td>Closed</td>\n",
       "      <td>3</td>\n",
       "      <td>3</td>\n",
       "      <td>3</td>\n",
       "      <td>0.415049969</td>\n",
       "      <td>...</td>\n",
       "      <td>02-12-2013 12:31</td>\n",
       "      <td>02-12-2013 12:36</td>\n",
       "      <td>02-12-2013 12:36</td>\n",
       "      <td>4,35,47,86,389</td>\n",
       "      <td>Software</td>\n",
       "      <td>1</td>\n",
       "      <td>SD0000011</td>\n",
       "      <td>1</td>\n",
       "      <td></td>\n",
       "      <td></td>\n",
       "    </tr>\n",
       "    <tr>\n",
       "      <th>2</th>\n",
       "      <td>DTA000024</td>\n",
       "      <td>application</td>\n",
       "      <td>Desktop Application</td>\n",
       "      <td>WBS000092</td>\n",
       "      <td>IM0000006</td>\n",
       "      <td>Closed</td>\n",
       "      <td>NS</td>\n",
       "      <td>3</td>\n",
       "      <td>NA</td>\n",
       "      <td>0.517551335</td>\n",
       "      <td>...</td>\n",
       "      <td></td>\n",
       "      <td>13-01-2014 15:12</td>\n",
       "      <td>13-01-2014 15:13</td>\n",
       "      <td>4,84,31,19,444</td>\n",
       "      <td>No error - works as designed</td>\n",
       "      <td>1</td>\n",
       "      <td>SD0000017</td>\n",
       "      <td></td>\n",
       "      <td></td>\n",
       "      <td></td>\n",
       "    </tr>\n",
       "    <tr>\n",
       "      <th>3</th>\n",
       "      <td>WBA000124</td>\n",
       "      <td>application</td>\n",
       "      <td>Web Based Application</td>\n",
       "      <td>WBS000088</td>\n",
       "      <td>IM0000011</td>\n",
       "      <td>Closed</td>\n",
       "      <td>4</td>\n",
       "      <td>4</td>\n",
       "      <td>4</td>\n",
       "      <td>0.642927218</td>\n",
       "      <td>...</td>\n",
       "      <td></td>\n",
       "      <td>14-11-2013 09:31</td>\n",
       "      <td>14-11-2013 09:31</td>\n",
       "      <td>4,32,18,33,333</td>\n",
       "      <td>Operator error</td>\n",
       "      <td>1</td>\n",
       "      <td>SD0000025</td>\n",
       "      <td></td>\n",
       "      <td></td>\n",
       "      <td></td>\n",
       "    </tr>\n",
       "    <tr>\n",
       "      <th>4</th>\n",
       "      <td>WBA000124</td>\n",
       "      <td>application</td>\n",
       "      <td>Web Based Application</td>\n",
       "      <td>WBS000088</td>\n",
       "      <td>IM0000012</td>\n",
       "      <td>Closed</td>\n",
       "      <td>4</td>\n",
       "      <td>4</td>\n",
       "      <td>4</td>\n",
       "      <td>0.345258343</td>\n",
       "      <td>...</td>\n",
       "      <td></td>\n",
       "      <td>08-11-2013 13:55</td>\n",
       "      <td>08-11-2013 13:55</td>\n",
       "      <td>3,38,39,03,333</td>\n",
       "      <td>Other</td>\n",
       "      <td>1</td>\n",
       "      <td>SD0000029</td>\n",
       "      <td></td>\n",
       "      <td></td>\n",
       "      <td></td>\n",
       "    </tr>\n",
       "  </tbody>\n",
       "</table>\n",
       "<p>5 rows × 25 columns</p>\n",
       "</div>"
      ],
      "text/plain": [
       "     CI_Name          CI_Cat              CI_Subcat        WBS Incident_ID  \\\n",
       "0  SUB000508  subapplication  Web Based Application  WBS000162   IM0000004   \n",
       "1  WBA000124     application  Web Based Application  WBS000088   IM0000005   \n",
       "2  DTA000024     application    Desktop Application  WBS000092   IM0000006   \n",
       "3  WBA000124     application  Web Based Application  WBS000088   IM0000011   \n",
       "4  WBA000124     application  Web Based Application  WBS000088   IM0000012   \n",
       "\n",
       "   Status Impact Urgency Priority   number_cnt  ...       Reopen_Time  \\\n",
       "0  Closed      4       4        4  0.601292279  ...                     \n",
       "1  Closed      3       3        3  0.415049969  ...  02-12-2013 12:31   \n",
       "2  Closed     NS       3       NA  0.517551335  ...                     \n",
       "3  Closed      4       4        4  0.642927218  ...                     \n",
       "4  Closed      4       4        4  0.345258343  ...                     \n",
       "\n",
       "      Resolved_Time        Close_Time Handle_Time_hrs  \\\n",
       "0  04-11-2013 13:50  04-11-2013 13:51  3,87,16,91,111   \n",
       "1  02-12-2013 12:36  02-12-2013 12:36  4,35,47,86,389   \n",
       "2  13-01-2014 15:12  13-01-2014 15:13  4,84,31,19,444   \n",
       "3  14-11-2013 09:31  14-11-2013 09:31  4,32,18,33,333   \n",
       "4  08-11-2013 13:55  08-11-2013 13:55  3,38,39,03,333   \n",
       "\n",
       "                   Closure_Code No_of_Related_Interactions  \\\n",
       "0                         Other                          1   \n",
       "1                      Software                          1   \n",
       "2  No error - works as designed                          1   \n",
       "3                Operator error                          1   \n",
       "4                         Other                          1   \n",
       "\n",
       "  Related_Interaction No_of_Related_Incidents No_of_Related_Changes  \\\n",
       "0           SD0000007                       2                         \n",
       "1           SD0000011                       1                         \n",
       "2           SD0000017                                                 \n",
       "3           SD0000025                                                 \n",
       "4           SD0000029                                                 \n",
       "\n",
       "  Related_Change  \n",
       "0                 \n",
       "1                 \n",
       "2                 \n",
       "3                 \n",
       "4                 \n",
       "\n",
       "[5 rows x 25 columns]"
      ]
     },
     "execution_count": 9,
     "metadata": {},
     "output_type": "execute_result"
    }
   ],
   "source": [
    "data1=df.copy()\n",
    "data1.head()"
   ]
  },
  {
   "cell_type": "code",
   "execution_count": 10,
   "metadata": {},
   "outputs": [
    {
     "data": {
      "text/plain": [
       "Index(['CI_Name', 'CI_Cat', 'CI_Subcat', 'WBS', 'Incident_ID', 'Status',\n",
       "       'Impact', 'Urgency', 'Priority', 'number_cnt', 'Category', 'KB_number',\n",
       "       'Alert_Status', 'No_of_Reassignments', 'Open_Time', 'Reopen_Time',\n",
       "       'Resolved_Time', 'Close_Time', 'Handle_Time_hrs', 'Closure_Code',\n",
       "       'No_of_Related_Interactions', 'Related_Interaction',\n",
       "       'No_of_Related_Incidents', 'No_of_Related_Changes', 'Related_Change'],\n",
       "      dtype='object')"
      ]
     },
     "execution_count": 10,
     "metadata": {},
     "output_type": "execute_result"
    }
   ],
   "source": [
    "df.columns"
   ]
  },
  {
   "cell_type": "code",
   "execution_count": 11,
   "metadata": {},
   "outputs": [
    {
     "data": {
      "text/html": [
       "<div>\n",
       "<style scoped>\n",
       "    .dataframe tbody tr th:only-of-type {\n",
       "        vertical-align: middle;\n",
       "    }\n",
       "\n",
       "    .dataframe tbody tr th {\n",
       "        vertical-align: top;\n",
       "    }\n",
       "\n",
       "    .dataframe thead th {\n",
       "        text-align: right;\n",
       "    }\n",
       "</style>\n",
       "<table border=\"1\" class=\"dataframe\">\n",
       "  <thead>\n",
       "    <tr style=\"text-align: right;\">\n",
       "      <th></th>\n",
       "      <th>CI_Name</th>\n",
       "      <th>CI_Cat</th>\n",
       "      <th>CI_Subcat</th>\n",
       "      <th>WBS</th>\n",
       "      <th>Incident_ID</th>\n",
       "      <th>Status</th>\n",
       "      <th>Impact</th>\n",
       "      <th>Urgency</th>\n",
       "      <th>Priority</th>\n",
       "      <th>number_cnt</th>\n",
       "      <th>...</th>\n",
       "      <th>Reopen_Time</th>\n",
       "      <th>Resolved_Time</th>\n",
       "      <th>Close_Time</th>\n",
       "      <th>Handle_Time_hrs</th>\n",
       "      <th>Closure_Code</th>\n",
       "      <th>No_of_Related_Interactions</th>\n",
       "      <th>Related_Interaction</th>\n",
       "      <th>No_of_Related_Incidents</th>\n",
       "      <th>No_of_Related_Changes</th>\n",
       "      <th>Related_Change</th>\n",
       "    </tr>\n",
       "  </thead>\n",
       "  <tbody>\n",
       "    <tr>\n",
       "      <th>0</th>\n",
       "      <td>SUB000508</td>\n",
       "      <td>subapplication</td>\n",
       "      <td>Web Based Application</td>\n",
       "      <td>WBS000162</td>\n",
       "      <td>IM0000004</td>\n",
       "      <td>Closed</td>\n",
       "      <td>4</td>\n",
       "      <td>4</td>\n",
       "      <td>4</td>\n",
       "      <td>0.601292279</td>\n",
       "      <td>...</td>\n",
       "      <td></td>\n",
       "      <td>04-11-2013 13:50</td>\n",
       "      <td>04-11-2013 13:51</td>\n",
       "      <td>3,87,16,91,111</td>\n",
       "      <td>Other</td>\n",
       "      <td>1</td>\n",
       "      <td>SD0000007</td>\n",
       "      <td>2</td>\n",
       "      <td></td>\n",
       "      <td></td>\n",
       "    </tr>\n",
       "    <tr>\n",
       "      <th>1</th>\n",
       "      <td>WBA000124</td>\n",
       "      <td>application</td>\n",
       "      <td>Web Based Application</td>\n",
       "      <td>WBS000088</td>\n",
       "      <td>IM0000005</td>\n",
       "      <td>Closed</td>\n",
       "      <td>3</td>\n",
       "      <td>3</td>\n",
       "      <td>3</td>\n",
       "      <td>0.415049969</td>\n",
       "      <td>...</td>\n",
       "      <td>02-12-2013 12:31</td>\n",
       "      <td>02-12-2013 12:36</td>\n",
       "      <td>02-12-2013 12:36</td>\n",
       "      <td>4,35,47,86,389</td>\n",
       "      <td>Software</td>\n",
       "      <td>1</td>\n",
       "      <td>SD0000011</td>\n",
       "      <td>1</td>\n",
       "      <td></td>\n",
       "      <td></td>\n",
       "    </tr>\n",
       "    <tr>\n",
       "      <th>2</th>\n",
       "      <td>DTA000024</td>\n",
       "      <td>application</td>\n",
       "      <td>Desktop Application</td>\n",
       "      <td>WBS000092</td>\n",
       "      <td>IM0000006</td>\n",
       "      <td>Closed</td>\n",
       "      <td>NS</td>\n",
       "      <td>3</td>\n",
       "      <td>NA</td>\n",
       "      <td>0.517551335</td>\n",
       "      <td>...</td>\n",
       "      <td></td>\n",
       "      <td>13-01-2014 15:12</td>\n",
       "      <td>13-01-2014 15:13</td>\n",
       "      <td>4,84,31,19,444</td>\n",
       "      <td>No error - works as designed</td>\n",
       "      <td>1</td>\n",
       "      <td>SD0000017</td>\n",
       "      <td></td>\n",
       "      <td></td>\n",
       "      <td></td>\n",
       "    </tr>\n",
       "    <tr>\n",
       "      <th>3</th>\n",
       "      <td>WBA000124</td>\n",
       "      <td>application</td>\n",
       "      <td>Web Based Application</td>\n",
       "      <td>WBS000088</td>\n",
       "      <td>IM0000011</td>\n",
       "      <td>Closed</td>\n",
       "      <td>4</td>\n",
       "      <td>4</td>\n",
       "      <td>4</td>\n",
       "      <td>0.642927218</td>\n",
       "      <td>...</td>\n",
       "      <td></td>\n",
       "      <td>14-11-2013 09:31</td>\n",
       "      <td>14-11-2013 09:31</td>\n",
       "      <td>4,32,18,33,333</td>\n",
       "      <td>Operator error</td>\n",
       "      <td>1</td>\n",
       "      <td>SD0000025</td>\n",
       "      <td></td>\n",
       "      <td></td>\n",
       "      <td></td>\n",
       "    </tr>\n",
       "    <tr>\n",
       "      <th>4</th>\n",
       "      <td>WBA000124</td>\n",
       "      <td>application</td>\n",
       "      <td>Web Based Application</td>\n",
       "      <td>WBS000088</td>\n",
       "      <td>IM0000012</td>\n",
       "      <td>Closed</td>\n",
       "      <td>4</td>\n",
       "      <td>4</td>\n",
       "      <td>4</td>\n",
       "      <td>0.345258343</td>\n",
       "      <td>...</td>\n",
       "      <td></td>\n",
       "      <td>08-11-2013 13:55</td>\n",
       "      <td>08-11-2013 13:55</td>\n",
       "      <td>3,38,39,03,333</td>\n",
       "      <td>Other</td>\n",
       "      <td>1</td>\n",
       "      <td>SD0000029</td>\n",
       "      <td></td>\n",
       "      <td></td>\n",
       "      <td></td>\n",
       "    </tr>\n",
       "    <tr>\n",
       "      <th>...</th>\n",
       "      <td>...</td>\n",
       "      <td>...</td>\n",
       "      <td>...</td>\n",
       "      <td>...</td>\n",
       "      <td>...</td>\n",
       "      <td>...</td>\n",
       "      <td>...</td>\n",
       "      <td>...</td>\n",
       "      <td>...</td>\n",
       "      <td>...</td>\n",
       "      <td>...</td>\n",
       "      <td>...</td>\n",
       "      <td>...</td>\n",
       "      <td>...</td>\n",
       "      <td>...</td>\n",
       "      <td>...</td>\n",
       "      <td>...</td>\n",
       "      <td>...</td>\n",
       "      <td>...</td>\n",
       "      <td>...</td>\n",
       "      <td>...</td>\n",
       "    </tr>\n",
       "    <tr>\n",
       "      <th>95</th>\n",
       "      <td>SUB000545</td>\n",
       "      <td>subapplication</td>\n",
       "      <td>Web Based Application</td>\n",
       "      <td>WBS000073</td>\n",
       "      <td>IM0000140</td>\n",
       "      <td>Closed</td>\n",
       "      <td>5</td>\n",
       "      <td>5</td>\n",
       "      <td>5</td>\n",
       "      <td>0.399095833</td>\n",
       "      <td>...</td>\n",
       "      <td></td>\n",
       "      <td>20-11-2013 16:43</td>\n",
       "      <td>20-11-2013 16:43</td>\n",
       "      <td>1,26,83,19,167</td>\n",
       "      <td>Software</td>\n",
       "      <td>1</td>\n",
       "      <td>SD0000169</td>\n",
       "      <td></td>\n",
       "      <td></td>\n",
       "      <td></td>\n",
       "    </tr>\n",
       "    <tr>\n",
       "      <th>96</th>\n",
       "      <td>SAP000004</td>\n",
       "      <td>application</td>\n",
       "      <td>SAP</td>\n",
       "      <td>WBS000271</td>\n",
       "      <td>IM0000142</td>\n",
       "      <td>Closed</td>\n",
       "      <td>5</td>\n",
       "      <td>5</td>\n",
       "      <td>5</td>\n",
       "      <td>0.602360706</td>\n",
       "      <td>...</td>\n",
       "      <td>13-09-2013 11:33</td>\n",
       "      <td>23-10-2013 17:21</td>\n",
       "      <td>23-10-2013 17:21</td>\n",
       "      <td>6,30,11,72,222</td>\n",
       "      <td>Questions</td>\n",
       "      <td>2</td>\n",
       "      <td>#MULTIVALUE</td>\n",
       "      <td></td>\n",
       "      <td></td>\n",
       "      <td></td>\n",
       "    </tr>\n",
       "    <tr>\n",
       "      <th>97</th>\n",
       "      <td>SBA000834</td>\n",
       "      <td>application</td>\n",
       "      <td>Server Based Application</td>\n",
       "      <td>WBS000223</td>\n",
       "      <td>IM0000143</td>\n",
       "      <td>Closed</td>\n",
       "      <td>4</td>\n",
       "      <td>4</td>\n",
       "      <td>4</td>\n",
       "      <td>0.428121508</td>\n",
       "      <td>...</td>\n",
       "      <td>10-06-2013 12:22</td>\n",
       "      <td>04-12-2013 14:54</td>\n",
       "      <td>04-12-2013 14:54</td>\n",
       "      <td>1,32,05,49,722</td>\n",
       "      <td>Operator error</td>\n",
       "      <td>4</td>\n",
       "      <td>#MULTIVALUE</td>\n",
       "      <td></td>\n",
       "      <td></td>\n",
       "      <td></td>\n",
       "    </tr>\n",
       "    <tr>\n",
       "      <th>98</th>\n",
       "      <td>WBA000133</td>\n",
       "      <td>application</td>\n",
       "      <td>Web Based Application</td>\n",
       "      <td>WBS000073</td>\n",
       "      <td>IM0000145</td>\n",
       "      <td>Closed</td>\n",
       "      <td>4</td>\n",
       "      <td>5</td>\n",
       "      <td>4</td>\n",
       "      <td>0.587638286</td>\n",
       "      <td>...</td>\n",
       "      <td></td>\n",
       "      <td>15-11-2013 15:27</td>\n",
       "      <td>15-11-2013 15:27</td>\n",
       "      <td>7,01,48,91,667</td>\n",
       "      <td>Unknown</td>\n",
       "      <td>1</td>\n",
       "      <td>SD0000171</td>\n",
       "      <td></td>\n",
       "      <td></td>\n",
       "      <td></td>\n",
       "    </tr>\n",
       "    <tr>\n",
       "      <th>99</th>\n",
       "      <td>STA000033</td>\n",
       "      <td>application</td>\n",
       "      <td>Standard Application</td>\n",
       "      <td>WBS000066</td>\n",
       "      <td>IM0000146</td>\n",
       "      <td>Closed</td>\n",
       "      <td>3</td>\n",
       "      <td>3</td>\n",
       "      <td>3</td>\n",
       "      <td>0.939614352</td>\n",
       "      <td>...</td>\n",
       "      <td></td>\n",
       "      <td>29-01-2014 14:30</td>\n",
       "      <td>29-01-2014 14:31</td>\n",
       "      <td>1,57,50,72,222</td>\n",
       "      <td>Other</td>\n",
       "      <td>1</td>\n",
       "      <td>SD0000173</td>\n",
       "      <td></td>\n",
       "      <td></td>\n",
       "      <td></td>\n",
       "    </tr>\n",
       "  </tbody>\n",
       "</table>\n",
       "<p>100 rows × 25 columns</p>\n",
       "</div>"
      ],
      "text/plain": [
       "      CI_Name          CI_Cat                 CI_Subcat        WBS  \\\n",
       "0   SUB000508  subapplication     Web Based Application  WBS000162   \n",
       "1   WBA000124     application     Web Based Application  WBS000088   \n",
       "2   DTA000024     application       Desktop Application  WBS000092   \n",
       "3   WBA000124     application     Web Based Application  WBS000088   \n",
       "4   WBA000124     application     Web Based Application  WBS000088   \n",
       "..        ...             ...                       ...        ...   \n",
       "95  SUB000545  subapplication     Web Based Application  WBS000073   \n",
       "96  SAP000004     application                       SAP  WBS000271   \n",
       "97  SBA000834     application  Server Based Application  WBS000223   \n",
       "98  WBA000133     application     Web Based Application  WBS000073   \n",
       "99  STA000033     application      Standard Application  WBS000066   \n",
       "\n",
       "   Incident_ID  Status Impact Urgency Priority   number_cnt  ...  \\\n",
       "0    IM0000004  Closed      4       4        4  0.601292279  ...   \n",
       "1    IM0000005  Closed      3       3        3  0.415049969  ...   \n",
       "2    IM0000006  Closed     NS       3       NA  0.517551335  ...   \n",
       "3    IM0000011  Closed      4       4        4  0.642927218  ...   \n",
       "4    IM0000012  Closed      4       4        4  0.345258343  ...   \n",
       "..         ...     ...    ...     ...      ...          ...  ...   \n",
       "95   IM0000140  Closed      5       5        5  0.399095833  ...   \n",
       "96   IM0000142  Closed      5       5        5  0.602360706  ...   \n",
       "97   IM0000143  Closed      4       4        4  0.428121508  ...   \n",
       "98   IM0000145  Closed      4       5        4  0.587638286  ...   \n",
       "99   IM0000146  Closed      3       3        3  0.939614352  ...   \n",
       "\n",
       "         Reopen_Time     Resolved_Time        Close_Time Handle_Time_hrs  \\\n",
       "0                     04-11-2013 13:50  04-11-2013 13:51  3,87,16,91,111   \n",
       "1   02-12-2013 12:31  02-12-2013 12:36  02-12-2013 12:36  4,35,47,86,389   \n",
       "2                     13-01-2014 15:12  13-01-2014 15:13  4,84,31,19,444   \n",
       "3                     14-11-2013 09:31  14-11-2013 09:31  4,32,18,33,333   \n",
       "4                     08-11-2013 13:55  08-11-2013 13:55  3,38,39,03,333   \n",
       "..               ...               ...               ...             ...   \n",
       "95                    20-11-2013 16:43  20-11-2013 16:43  1,26,83,19,167   \n",
       "96  13-09-2013 11:33  23-10-2013 17:21  23-10-2013 17:21  6,30,11,72,222   \n",
       "97  10-06-2013 12:22  04-12-2013 14:54  04-12-2013 14:54  1,32,05,49,722   \n",
       "98                    15-11-2013 15:27  15-11-2013 15:27  7,01,48,91,667   \n",
       "99                    29-01-2014 14:30  29-01-2014 14:31  1,57,50,72,222   \n",
       "\n",
       "                    Closure_Code No_of_Related_Interactions  \\\n",
       "0                          Other                          1   \n",
       "1                       Software                          1   \n",
       "2   No error - works as designed                          1   \n",
       "3                 Operator error                          1   \n",
       "4                          Other                          1   \n",
       "..                           ...                        ...   \n",
       "95                      Software                          1   \n",
       "96                     Questions                          2   \n",
       "97                Operator error                          4   \n",
       "98                       Unknown                          1   \n",
       "99                         Other                          1   \n",
       "\n",
       "   Related_Interaction No_of_Related_Incidents No_of_Related_Changes  \\\n",
       "0            SD0000007                       2                         \n",
       "1            SD0000011                       1                         \n",
       "2            SD0000017                                                 \n",
       "3            SD0000025                                                 \n",
       "4            SD0000029                                                 \n",
       "..                 ...                     ...                   ...   \n",
       "95           SD0000169                                                 \n",
       "96         #MULTIVALUE                                                 \n",
       "97         #MULTIVALUE                                                 \n",
       "98           SD0000171                                                 \n",
       "99           SD0000173                                                 \n",
       "\n",
       "   Related_Change  \n",
       "0                  \n",
       "1                  \n",
       "2                  \n",
       "3                  \n",
       "4                  \n",
       "..            ...  \n",
       "95                 \n",
       "96                 \n",
       "97                 \n",
       "98                 \n",
       "99                 \n",
       "\n",
       "[100 rows x 25 columns]"
      ]
     },
     "execution_count": 11,
     "metadata": {},
     "output_type": "execute_result"
    }
   ],
   "source": [
    "df.head(100)"
   ]
  },
  {
   "cell_type": "code",
   "execution_count": 12,
   "metadata": {},
   "outputs": [
    {
     "name": "stdout",
     "output_type": "stream",
     "text": [
      "<class 'pandas.core.frame.DataFrame'>\n",
      "RangeIndex: 46606 entries, 0 to 46605\n",
      "Data columns (total 25 columns):\n",
      " #   Column                      Non-Null Count  Dtype \n",
      "---  ------                      --------------  ----- \n",
      " 0   CI_Name                     46606 non-null  object\n",
      " 1   CI_Cat                      46606 non-null  object\n",
      " 2   CI_Subcat                   46606 non-null  object\n",
      " 3   WBS                         46606 non-null  object\n",
      " 4   Incident_ID                 46606 non-null  object\n",
      " 5   Status                      46606 non-null  object\n",
      " 6   Impact                      46606 non-null  object\n",
      " 7   Urgency                     46606 non-null  object\n",
      " 8   Priority                    46606 non-null  object\n",
      " 9   number_cnt                  46606 non-null  object\n",
      " 10  Category                    46606 non-null  object\n",
      " 11  KB_number                   46606 non-null  object\n",
      " 12  Alert_Status                46606 non-null  object\n",
      " 13  No_of_Reassignments         46606 non-null  object\n",
      " 14  Open_Time                   46606 non-null  object\n",
      " 15  Reopen_Time                 46606 non-null  object\n",
      " 16  Resolved_Time               46606 non-null  object\n",
      " 17  Close_Time                  46606 non-null  object\n",
      " 18  Handle_Time_hrs             46606 non-null  object\n",
      " 19  Closure_Code                46606 non-null  object\n",
      " 20  No_of_Related_Interactions  46606 non-null  object\n",
      " 21  Related_Interaction         46606 non-null  object\n",
      " 22  No_of_Related_Incidents     46606 non-null  object\n",
      " 23  No_of_Related_Changes       46606 non-null  object\n",
      " 24  Related_Change              46606 non-null  object\n",
      "dtypes: object(25)\n",
      "memory usage: 8.9+ MB\n"
     ]
    }
   ],
   "source": [
    "df.info()"
   ]
  },
  {
   "cell_type": "markdown",
   "metadata": {},
   "source": [
    "##### Removing columns which  having ids and most missing values"
   ]
  },
  {
   "cell_type": "code",
   "execution_count": 13,
   "metadata": {},
   "outputs": [
    {
     "data": {
      "text/html": [
       "<div>\n",
       "<style scoped>\n",
       "    .dataframe tbody tr th:only-of-type {\n",
       "        vertical-align: middle;\n",
       "    }\n",
       "\n",
       "    .dataframe tbody tr th {\n",
       "        vertical-align: top;\n",
       "    }\n",
       "\n",
       "    .dataframe thead th {\n",
       "        text-align: right;\n",
       "    }\n",
       "</style>\n",
       "<table border=\"1\" class=\"dataframe\">\n",
       "  <thead>\n",
       "    <tr style=\"text-align: right;\">\n",
       "      <th></th>\n",
       "      <th>CI_Cat</th>\n",
       "      <th>CI_Subcat</th>\n",
       "      <th>Status</th>\n",
       "      <th>Impact</th>\n",
       "      <th>Urgency</th>\n",
       "      <th>Priority</th>\n",
       "      <th>number_cnt</th>\n",
       "      <th>Category</th>\n",
       "      <th>Alert_Status</th>\n",
       "      <th>No_of_Reassignments</th>\n",
       "      <th>Open_Time</th>\n",
       "      <th>Reopen_Time</th>\n",
       "      <th>Resolved_Time</th>\n",
       "      <th>Close_Time</th>\n",
       "      <th>Handle_Time_hrs</th>\n",
       "      <th>Closure_Code</th>\n",
       "      <th>No_of_Related_Interactions</th>\n",
       "      <th>No_of_Related_Incidents</th>\n",
       "      <th>No_of_Related_Changes</th>\n",
       "      <th>Related_Change</th>\n",
       "    </tr>\n",
       "  </thead>\n",
       "  <tbody>\n",
       "    <tr>\n",
       "      <th>0</th>\n",
       "      <td>subapplication</td>\n",
       "      <td>Web Based Application</td>\n",
       "      <td>Closed</td>\n",
       "      <td>4</td>\n",
       "      <td>4</td>\n",
       "      <td>4</td>\n",
       "      <td>0.601292279</td>\n",
       "      <td>incident</td>\n",
       "      <td>closed</td>\n",
       "      <td>26</td>\n",
       "      <td>05-02-2012 13:32</td>\n",
       "      <td></td>\n",
       "      <td>04-11-2013 13:50</td>\n",
       "      <td>04-11-2013 13:51</td>\n",
       "      <td>3,87,16,91,111</td>\n",
       "      <td>Other</td>\n",
       "      <td>1</td>\n",
       "      <td>2</td>\n",
       "      <td></td>\n",
       "      <td></td>\n",
       "    </tr>\n",
       "    <tr>\n",
       "      <th>1</th>\n",
       "      <td>application</td>\n",
       "      <td>Web Based Application</td>\n",
       "      <td>Closed</td>\n",
       "      <td>3</td>\n",
       "      <td>3</td>\n",
       "      <td>3</td>\n",
       "      <td>0.415049969</td>\n",
       "      <td>incident</td>\n",
       "      <td>closed</td>\n",
       "      <td>33</td>\n",
       "      <td>12-03-2012 15:44</td>\n",
       "      <td>02-12-2013 12:31</td>\n",
       "      <td>02-12-2013 12:36</td>\n",
       "      <td>02-12-2013 12:36</td>\n",
       "      <td>4,35,47,86,389</td>\n",
       "      <td>Software</td>\n",
       "      <td>1</td>\n",
       "      <td>1</td>\n",
       "      <td></td>\n",
       "      <td></td>\n",
       "    </tr>\n",
       "    <tr>\n",
       "      <th>2</th>\n",
       "      <td>application</td>\n",
       "      <td>Desktop Application</td>\n",
       "      <td>Closed</td>\n",
       "      <td>NS</td>\n",
       "      <td>3</td>\n",
       "      <td>NA</td>\n",
       "      <td>0.517551335</td>\n",
       "      <td>request for information</td>\n",
       "      <td>closed</td>\n",
       "      <td>3</td>\n",
       "      <td>29-03-2012 12:36</td>\n",
       "      <td></td>\n",
       "      <td>13-01-2014 15:12</td>\n",
       "      <td>13-01-2014 15:13</td>\n",
       "      <td>4,84,31,19,444</td>\n",
       "      <td>No error - works as designed</td>\n",
       "      <td>1</td>\n",
       "      <td></td>\n",
       "      <td></td>\n",
       "      <td></td>\n",
       "    </tr>\n",
       "    <tr>\n",
       "      <th>3</th>\n",
       "      <td>application</td>\n",
       "      <td>Web Based Application</td>\n",
       "      <td>Closed</td>\n",
       "      <td>4</td>\n",
       "      <td>4</td>\n",
       "      <td>4</td>\n",
       "      <td>0.642927218</td>\n",
       "      <td>incident</td>\n",
       "      <td>closed</td>\n",
       "      <td>13</td>\n",
       "      <td>17-07-2012 11:49</td>\n",
       "      <td></td>\n",
       "      <td>14-11-2013 09:31</td>\n",
       "      <td>14-11-2013 09:31</td>\n",
       "      <td>4,32,18,33,333</td>\n",
       "      <td>Operator error</td>\n",
       "      <td>1</td>\n",
       "      <td></td>\n",
       "      <td></td>\n",
       "      <td></td>\n",
       "    </tr>\n",
       "    <tr>\n",
       "      <th>4</th>\n",
       "      <td>application</td>\n",
       "      <td>Web Based Application</td>\n",
       "      <td>Closed</td>\n",
       "      <td>4</td>\n",
       "      <td>4</td>\n",
       "      <td>4</td>\n",
       "      <td>0.345258343</td>\n",
       "      <td>incident</td>\n",
       "      <td>closed</td>\n",
       "      <td>2</td>\n",
       "      <td>10-08-2012 11:01</td>\n",
       "      <td></td>\n",
       "      <td>08-11-2013 13:55</td>\n",
       "      <td>08-11-2013 13:55</td>\n",
       "      <td>3,38,39,03,333</td>\n",
       "      <td>Other</td>\n",
       "      <td>1</td>\n",
       "      <td></td>\n",
       "      <td></td>\n",
       "      <td></td>\n",
       "    </tr>\n",
       "  </tbody>\n",
       "</table>\n",
       "</div>"
      ],
      "text/plain": [
       "           CI_Cat              CI_Subcat  Status Impact Urgency Priority  \\\n",
       "0  subapplication  Web Based Application  Closed      4       4        4   \n",
       "1     application  Web Based Application  Closed      3       3        3   \n",
       "2     application    Desktop Application  Closed     NS       3       NA   \n",
       "3     application  Web Based Application  Closed      4       4        4   \n",
       "4     application  Web Based Application  Closed      4       4        4   \n",
       "\n",
       "    number_cnt                 Category Alert_Status No_of_Reassignments  \\\n",
       "0  0.601292279                 incident       closed                  26   \n",
       "1  0.415049969                 incident       closed                  33   \n",
       "2  0.517551335  request for information       closed                   3   \n",
       "3  0.642927218                 incident       closed                  13   \n",
       "4  0.345258343                 incident       closed                   2   \n",
       "\n",
       "          Open_Time       Reopen_Time     Resolved_Time        Close_Time  \\\n",
       "0  05-02-2012 13:32                    04-11-2013 13:50  04-11-2013 13:51   \n",
       "1  12-03-2012 15:44  02-12-2013 12:31  02-12-2013 12:36  02-12-2013 12:36   \n",
       "2  29-03-2012 12:36                    13-01-2014 15:12  13-01-2014 15:13   \n",
       "3  17-07-2012 11:49                    14-11-2013 09:31  14-11-2013 09:31   \n",
       "4  10-08-2012 11:01                    08-11-2013 13:55  08-11-2013 13:55   \n",
       "\n",
       "  Handle_Time_hrs                  Closure_Code No_of_Related_Interactions  \\\n",
       "0  3,87,16,91,111                         Other                          1   \n",
       "1  4,35,47,86,389                      Software                          1   \n",
       "2  4,84,31,19,444  No error - works as designed                          1   \n",
       "3  4,32,18,33,333                Operator error                          1   \n",
       "4  3,38,39,03,333                         Other                          1   \n",
       "\n",
       "  No_of_Related_Incidents No_of_Related_Changes Related_Change  \n",
       "0                       2                                       \n",
       "1                       1                                       \n",
       "2                                                               \n",
       "3                                                               \n",
       "4                                                               "
      ]
     },
     "execution_count": 13,
     "metadata": {},
     "output_type": "execute_result"
    }
   ],
   "source": [
    "df.drop(['CI_Name','WBS','Incident_ID','Related_Interaction','KB_number'],axis=1,inplace=True)\n",
    "df.head()"
   ]
  },
  {
   "cell_type": "code",
   "execution_count": 14,
   "metadata": {},
   "outputs": [
    {
     "data": {
      "text/html": [
       "<div>\n",
       "<style scoped>\n",
       "    .dataframe tbody tr th:only-of-type {\n",
       "        vertical-align: middle;\n",
       "    }\n",
       "\n",
       "    .dataframe tbody tr th {\n",
       "        vertical-align: top;\n",
       "    }\n",
       "\n",
       "    .dataframe thead th {\n",
       "        text-align: right;\n",
       "    }\n",
       "</style>\n",
       "<table border=\"1\" class=\"dataframe\">\n",
       "  <thead>\n",
       "    <tr style=\"text-align: right;\">\n",
       "      <th></th>\n",
       "      <th>CI_Cat</th>\n",
       "      <th>CI_Subcat</th>\n",
       "      <th>Status</th>\n",
       "      <th>Impact</th>\n",
       "      <th>Urgency</th>\n",
       "      <th>Priority</th>\n",
       "      <th>number_cnt</th>\n",
       "      <th>Category</th>\n",
       "      <th>Alert_Status</th>\n",
       "      <th>No_of_Reassignments</th>\n",
       "      <th>Open_Time</th>\n",
       "      <th>Reopen_Time</th>\n",
       "      <th>Resolved_Time</th>\n",
       "      <th>Close_Time</th>\n",
       "      <th>Handle_Time_hrs</th>\n",
       "      <th>Closure_Code</th>\n",
       "      <th>No_of_Related_Interactions</th>\n",
       "      <th>No_of_Related_Incidents</th>\n",
       "    </tr>\n",
       "  </thead>\n",
       "  <tbody>\n",
       "    <tr>\n",
       "      <th>0</th>\n",
       "      <td>subapplication</td>\n",
       "      <td>Web Based Application</td>\n",
       "      <td>Closed</td>\n",
       "      <td>4</td>\n",
       "      <td>4</td>\n",
       "      <td>4</td>\n",
       "      <td>0.601292279</td>\n",
       "      <td>incident</td>\n",
       "      <td>closed</td>\n",
       "      <td>26</td>\n",
       "      <td>05-02-2012 13:32</td>\n",
       "      <td></td>\n",
       "      <td>04-11-2013 13:50</td>\n",
       "      <td>04-11-2013 13:51</td>\n",
       "      <td>3,87,16,91,111</td>\n",
       "      <td>Other</td>\n",
       "      <td>1</td>\n",
       "      <td>2</td>\n",
       "    </tr>\n",
       "    <tr>\n",
       "      <th>1</th>\n",
       "      <td>application</td>\n",
       "      <td>Web Based Application</td>\n",
       "      <td>Closed</td>\n",
       "      <td>3</td>\n",
       "      <td>3</td>\n",
       "      <td>3</td>\n",
       "      <td>0.415049969</td>\n",
       "      <td>incident</td>\n",
       "      <td>closed</td>\n",
       "      <td>33</td>\n",
       "      <td>12-03-2012 15:44</td>\n",
       "      <td>02-12-2013 12:31</td>\n",
       "      <td>02-12-2013 12:36</td>\n",
       "      <td>02-12-2013 12:36</td>\n",
       "      <td>4,35,47,86,389</td>\n",
       "      <td>Software</td>\n",
       "      <td>1</td>\n",
       "      <td>1</td>\n",
       "    </tr>\n",
       "    <tr>\n",
       "      <th>2</th>\n",
       "      <td>application</td>\n",
       "      <td>Desktop Application</td>\n",
       "      <td>Closed</td>\n",
       "      <td>NS</td>\n",
       "      <td>3</td>\n",
       "      <td>NA</td>\n",
       "      <td>0.517551335</td>\n",
       "      <td>request for information</td>\n",
       "      <td>closed</td>\n",
       "      <td>3</td>\n",
       "      <td>29-03-2012 12:36</td>\n",
       "      <td></td>\n",
       "      <td>13-01-2014 15:12</td>\n",
       "      <td>13-01-2014 15:13</td>\n",
       "      <td>4,84,31,19,444</td>\n",
       "      <td>No error - works as designed</td>\n",
       "      <td>1</td>\n",
       "      <td></td>\n",
       "    </tr>\n",
       "    <tr>\n",
       "      <th>3</th>\n",
       "      <td>application</td>\n",
       "      <td>Web Based Application</td>\n",
       "      <td>Closed</td>\n",
       "      <td>4</td>\n",
       "      <td>4</td>\n",
       "      <td>4</td>\n",
       "      <td>0.642927218</td>\n",
       "      <td>incident</td>\n",
       "      <td>closed</td>\n",
       "      <td>13</td>\n",
       "      <td>17-07-2012 11:49</td>\n",
       "      <td></td>\n",
       "      <td>14-11-2013 09:31</td>\n",
       "      <td>14-11-2013 09:31</td>\n",
       "      <td>4,32,18,33,333</td>\n",
       "      <td>Operator error</td>\n",
       "      <td>1</td>\n",
       "      <td></td>\n",
       "    </tr>\n",
       "    <tr>\n",
       "      <th>4</th>\n",
       "      <td>application</td>\n",
       "      <td>Web Based Application</td>\n",
       "      <td>Closed</td>\n",
       "      <td>4</td>\n",
       "      <td>4</td>\n",
       "      <td>4</td>\n",
       "      <td>0.345258343</td>\n",
       "      <td>incident</td>\n",
       "      <td>closed</td>\n",
       "      <td>2</td>\n",
       "      <td>10-08-2012 11:01</td>\n",
       "      <td></td>\n",
       "      <td>08-11-2013 13:55</td>\n",
       "      <td>08-11-2013 13:55</td>\n",
       "      <td>3,38,39,03,333</td>\n",
       "      <td>Other</td>\n",
       "      <td>1</td>\n",
       "      <td></td>\n",
       "    </tr>\n",
       "  </tbody>\n",
       "</table>\n",
       "</div>"
      ],
      "text/plain": [
       "           CI_Cat              CI_Subcat  Status Impact Urgency Priority  \\\n",
       "0  subapplication  Web Based Application  Closed      4       4        4   \n",
       "1     application  Web Based Application  Closed      3       3        3   \n",
       "2     application    Desktop Application  Closed     NS       3       NA   \n",
       "3     application  Web Based Application  Closed      4       4        4   \n",
       "4     application  Web Based Application  Closed      4       4        4   \n",
       "\n",
       "    number_cnt                 Category Alert_Status No_of_Reassignments  \\\n",
       "0  0.601292279                 incident       closed                  26   \n",
       "1  0.415049969                 incident       closed                  33   \n",
       "2  0.517551335  request for information       closed                   3   \n",
       "3  0.642927218                 incident       closed                  13   \n",
       "4  0.345258343                 incident       closed                   2   \n",
       "\n",
       "          Open_Time       Reopen_Time     Resolved_Time        Close_Time  \\\n",
       "0  05-02-2012 13:32                    04-11-2013 13:50  04-11-2013 13:51   \n",
       "1  12-03-2012 15:44  02-12-2013 12:31  02-12-2013 12:36  02-12-2013 12:36   \n",
       "2  29-03-2012 12:36                    13-01-2014 15:12  13-01-2014 15:13   \n",
       "3  17-07-2012 11:49                    14-11-2013 09:31  14-11-2013 09:31   \n",
       "4  10-08-2012 11:01                    08-11-2013 13:55  08-11-2013 13:55   \n",
       "\n",
       "  Handle_Time_hrs                  Closure_Code No_of_Related_Interactions  \\\n",
       "0  3,87,16,91,111                         Other                          1   \n",
       "1  4,35,47,86,389                      Software                          1   \n",
       "2  4,84,31,19,444  No error - works as designed                          1   \n",
       "3  4,32,18,33,333                Operator error                          1   \n",
       "4  3,38,39,03,333                         Other                          1   \n",
       "\n",
       "  No_of_Related_Incidents  \n",
       "0                       2  \n",
       "1                       1  \n",
       "2                          \n",
       "3                          \n",
       "4                          "
      ]
     },
     "execution_count": 14,
     "metadata": {},
     "output_type": "execute_result"
    }
   ],
   "source": [
    "df.drop(['No_of_Related_Changes','Related_Change'],axis=1,inplace=True)\n",
    "df.head()"
   ]
  },
  {
   "cell_type": "code",
   "execution_count": 15,
   "metadata": {},
   "outputs": [
    {
     "data": {
      "text/plain": [
       "(46606, 18)"
      ]
     },
     "execution_count": 15,
     "metadata": {},
     "output_type": "execute_result"
    }
   ],
   "source": [
    "df.shape"
   ]
  },
  {
   "cell_type": "code",
   "execution_count": 16,
   "metadata": {},
   "outputs": [
    {
     "data": {
      "text/plain": [
       "Index(['CI_Cat', 'CI_Subcat', 'Status', 'Impact', 'Urgency', 'Priority',\n",
       "       'number_cnt', 'Category', 'Alert_Status', 'No_of_Reassignments',\n",
       "       'Open_Time', 'Reopen_Time', 'Resolved_Time', 'Close_Time',\n",
       "       'Handle_Time_hrs', 'Closure_Code', 'No_of_Related_Interactions',\n",
       "       'No_of_Related_Incidents'],\n",
       "      dtype='object')"
      ]
     },
     "execution_count": 16,
     "metadata": {},
     "output_type": "execute_result"
    }
   ],
   "source": [
    "df.columns"
   ]
  },
  {
   "cell_type": "code",
   "execution_count": 17,
   "metadata": {},
   "outputs": [
    {
     "data": {
      "text/plain": [
       "(46606, 18)"
      ]
     },
     "execution_count": 17,
     "metadata": {},
     "output_type": "execute_result"
    }
   ],
   "source": [
    "#Checking for duplicate rows and removing them if there are any.\n",
    "df.drop_duplicates()\n",
    "df.shape"
   ]
  },
  {
   "cell_type": "markdown",
   "metadata": {},
   "source": [
    "- No duplicate rows found in the data"
   ]
  },
  {
   "cell_type": "code",
   "execution_count": 18,
   "metadata": {},
   "outputs": [
    {
     "data": {
      "text/plain": [
       "<bound method DataFrame.info of                CI_Cat                 CI_Subcat  Status Impact Urgency  \\\n",
       "0      subapplication     Web Based Application  Closed      4       4   \n",
       "1         application     Web Based Application  Closed      3       3   \n",
       "2         application       Desktop Application  Closed     NS       3   \n",
       "3         application     Web Based Application  Closed      4       4   \n",
       "4         application     Web Based Application  Closed      4       4   \n",
       "...               ...                       ...     ...    ...     ...   \n",
       "46601     application  Server Based Application  Closed      4       4   \n",
       "46602     application  Server Based Application  Closed      4       4   \n",
       "46603        computer                    Laptop  Closed      5       5   \n",
       "46604     application     Web Based Application  Closed      4       4   \n",
       "46605        hardware       DataCenterEquipment  Closed      3       3   \n",
       "\n",
       "      Priority   number_cnt                 Category Alert_Status  \\\n",
       "0            4  0.601292279                 incident       closed   \n",
       "1            3  0.415049969                 incident       closed   \n",
       "2           NA  0.517551335  request for information       closed   \n",
       "3            4  0.642927218                 incident       closed   \n",
       "4            4  0.345258343                 incident       closed   \n",
       "...        ...          ...                      ...          ...   \n",
       "46601        4   0.23189604                 incident       closed   \n",
       "46602        4  0.805153085                 incident       closed   \n",
       "46603        5  0.917466294                 incident       closed   \n",
       "46604        4  0.701278158                 incident       closed   \n",
       "46605        3  0.902319509                 incident       closed   \n",
       "\n",
       "      No_of_Reassignments         Open_Time       Reopen_Time  \\\n",
       "0                      26  05-02-2012 13:32                     \n",
       "1                      33  12-03-2012 15:44  02-12-2013 12:31   \n",
       "2                       3  29-03-2012 12:36                     \n",
       "3                      13  17-07-2012 11:49                     \n",
       "4                       2  10-08-2012 11:01                     \n",
       "...                   ...               ...               ...   \n",
       "46601                   0  31-03-2014 16:23                     \n",
       "46602                   0  31-03-2014 15:03                     \n",
       "46603                   0  31-03-2014 15:28                     \n",
       "46604                   0  31-03-2014 15:35                     \n",
       "46605                   0  31-03-2014 17:24                     \n",
       "\n",
       "          Resolved_Time        Close_Time Handle_Time_hrs  \\\n",
       "0      04-11-2013 13:50  04-11-2013 13:51  3,87,16,91,111   \n",
       "1      02-12-2013 12:36  02-12-2013 12:36  4,35,47,86,389   \n",
       "2      13-01-2014 15:12  13-01-2014 15:13  4,84,31,19,444   \n",
       "3      14-11-2013 09:31  14-11-2013 09:31  4,32,18,33,333   \n",
       "4      08-11-2013 13:55  08-11-2013 13:55  3,38,39,03,333   \n",
       "...                 ...               ...             ...   \n",
       "46601  31-03-2014 16:29  31-03-2014 16:29           0,095   \n",
       "46602  31-03-2014 15:29  31-03-2014 15:29     0,428333333   \n",
       "46603  31-03-2014 15:32  31-03-2014 15:32     0,071666667   \n",
       "46604  31-03-2014 15:42  31-03-2014 15:42     0,116944444   \n",
       "46605  31-03-2014 22:47  31-03-2014 22:47     0,586388889   \n",
       "\n",
       "                       Closure_Code No_of_Related_Interactions  \\\n",
       "0                             Other                          1   \n",
       "1                          Software                          1   \n",
       "2      No error - works as designed                          1   \n",
       "3                    Operator error                          1   \n",
       "4                             Other                          1   \n",
       "...                             ...                        ...   \n",
       "46601                         Other                          1   \n",
       "46602                    User error                          1   \n",
       "46603                      Hardware                          1   \n",
       "46604                      Software                          1   \n",
       "46605                      Hardware                          1   \n",
       "\n",
       "      No_of_Related_Incidents  \n",
       "0                           2  \n",
       "1                           1  \n",
       "2                              \n",
       "3                              \n",
       "4                              \n",
       "...                       ...  \n",
       "46601                          \n",
       "46602                          \n",
       "46603                          \n",
       "46604                          \n",
       "46605                          \n",
       "\n",
       "[46606 rows x 18 columns]>"
      ]
     },
     "execution_count": 18,
     "metadata": {},
     "output_type": "execute_result"
    }
   ],
   "source": [
    "# Information about the data\n",
    "df.info"
   ]
  },
  {
   "cell_type": "code",
   "execution_count": 19,
   "metadata": {},
   "outputs": [
    {
     "data": {
      "text/plain": [
       "CI_Cat                        0\n",
       "CI_Subcat                     0\n",
       "Status                        0\n",
       "Impact                        0\n",
       "Urgency                       0\n",
       "Priority                      0\n",
       "number_cnt                    0\n",
       "Category                      0\n",
       "Alert_Status                  0\n",
       "No_of_Reassignments           0\n",
       "Open_Time                     0\n",
       "Reopen_Time                   0\n",
       "Resolved_Time                 0\n",
       "Close_Time                    0\n",
       "Handle_Time_hrs               0\n",
       "Closure_Code                  0\n",
       "No_of_Related_Interactions    0\n",
       "No_of_Related_Incidents       0\n",
       "dtype: int64"
      ]
     },
     "execution_count": 19,
     "metadata": {},
     "output_type": "execute_result"
    }
   ],
   "source": [
    "# Checking for null values in the data\n",
    "df.isnull().sum()"
   ]
  },
  {
   "cell_type": "code",
   "execution_count": 20,
   "metadata": {},
   "outputs": [
    {
     "data": {
      "text/plain": [
       "False"
      ]
     },
     "execution_count": 20,
     "metadata": {},
     "output_type": "execute_result"
    }
   ],
   "source": [
    "# chack nan values\n",
    "np.nan == True"
   ]
  },
  {
   "cell_type": "code",
   "execution_count": 21,
   "metadata": {},
   "outputs": [],
   "source": [
    "# checking missing values"
   ]
  },
  {
   "cell_type": "code",
   "execution_count": 22,
   "metadata": {},
   "outputs": [
    {
     "name": "stdout",
     "output_type": "stream",
     "text": [
      "In total, there are 0 variables with missing values\n"
     ]
    }
   ],
   "source": [
    "vars_with_missing = []\n",
    "for f in df.columns:\n",
    "    missings = df[df[f] == -1][f].count()\n",
    "    if missings > 0:\n",
    "        vars_with_missing.append(f)\n",
    "        missings_perc = missings/df.shape[0]\n",
    "        \n",
    "        print('Variable {} has {} records ({:.2%}) with missing values'.format(f, missings, missings_perc))\n",
    "        \n",
    "print('In total, there are {} variables with missing values'.format(len(vars_with_missing)))"
   ]
  },
  {
   "cell_type": "code",
   "execution_count": 23,
   "metadata": {},
   "outputs": [
    {
     "data": {
      "text/html": [
       "<div>\n",
       "<style scoped>\n",
       "    .dataframe tbody tr th:only-of-type {\n",
       "        vertical-align: middle;\n",
       "    }\n",
       "\n",
       "    .dataframe tbody tr th {\n",
       "        vertical-align: top;\n",
       "    }\n",
       "\n",
       "    .dataframe thead th {\n",
       "        text-align: right;\n",
       "    }\n",
       "</style>\n",
       "<table border=\"1\" class=\"dataframe\">\n",
       "  <thead>\n",
       "    <tr style=\"text-align: right;\">\n",
       "      <th></th>\n",
       "      <th>CI_Cat</th>\n",
       "      <th>CI_Subcat</th>\n",
       "      <th>Status</th>\n",
       "      <th>Impact</th>\n",
       "      <th>Urgency</th>\n",
       "      <th>Priority</th>\n",
       "      <th>number_cnt</th>\n",
       "      <th>Category</th>\n",
       "      <th>Alert_Status</th>\n",
       "      <th>No_of_Reassignments</th>\n",
       "      <th>Open_Time</th>\n",
       "      <th>Reopen_Time</th>\n",
       "      <th>Resolved_Time</th>\n",
       "      <th>Close_Time</th>\n",
       "      <th>Handle_Time_hrs</th>\n",
       "      <th>Closure_Code</th>\n",
       "      <th>No_of_Related_Interactions</th>\n",
       "      <th>No_of_Related_Incidents</th>\n",
       "    </tr>\n",
       "  </thead>\n",
       "  <tbody>\n",
       "    <tr>\n",
       "      <th>0</th>\n",
       "      <td>subapplication</td>\n",
       "      <td>Web Based Application</td>\n",
       "      <td>Closed</td>\n",
       "      <td>4</td>\n",
       "      <td>4</td>\n",
       "      <td>4</td>\n",
       "      <td>0.601292279</td>\n",
       "      <td>incident</td>\n",
       "      <td>closed</td>\n",
       "      <td>26</td>\n",
       "      <td>05-02-2012 13:32</td>\n",
       "      <td></td>\n",
       "      <td>04-11-2013 13:50</td>\n",
       "      <td>04-11-2013 13:51</td>\n",
       "      <td>3,87,16,91,111</td>\n",
       "      <td>Other</td>\n",
       "      <td>1</td>\n",
       "      <td>2</td>\n",
       "    </tr>\n",
       "    <tr>\n",
       "      <th>1</th>\n",
       "      <td>application</td>\n",
       "      <td>Web Based Application</td>\n",
       "      <td>Closed</td>\n",
       "      <td>3</td>\n",
       "      <td>3</td>\n",
       "      <td>3</td>\n",
       "      <td>0.415049969</td>\n",
       "      <td>incident</td>\n",
       "      <td>closed</td>\n",
       "      <td>33</td>\n",
       "      <td>12-03-2012 15:44</td>\n",
       "      <td>02-12-2013 12:31</td>\n",
       "      <td>02-12-2013 12:36</td>\n",
       "      <td>02-12-2013 12:36</td>\n",
       "      <td>4,35,47,86,389</td>\n",
       "      <td>Software</td>\n",
       "      <td>1</td>\n",
       "      <td>1</td>\n",
       "    </tr>\n",
       "    <tr>\n",
       "      <th>2</th>\n",
       "      <td>application</td>\n",
       "      <td>Desktop Application</td>\n",
       "      <td>Closed</td>\n",
       "      <td>NS</td>\n",
       "      <td>3</td>\n",
       "      <td>NA</td>\n",
       "      <td>0.517551335</td>\n",
       "      <td>request for information</td>\n",
       "      <td>closed</td>\n",
       "      <td>3</td>\n",
       "      <td>29-03-2012 12:36</td>\n",
       "      <td></td>\n",
       "      <td>13-01-2014 15:12</td>\n",
       "      <td>13-01-2014 15:13</td>\n",
       "      <td>4,84,31,19,444</td>\n",
       "      <td>No error - works as designed</td>\n",
       "      <td>1</td>\n",
       "      <td></td>\n",
       "    </tr>\n",
       "    <tr>\n",
       "      <th>3</th>\n",
       "      <td>application</td>\n",
       "      <td>Web Based Application</td>\n",
       "      <td>Closed</td>\n",
       "      <td>4</td>\n",
       "      <td>4</td>\n",
       "      <td>4</td>\n",
       "      <td>0.642927218</td>\n",
       "      <td>incident</td>\n",
       "      <td>closed</td>\n",
       "      <td>13</td>\n",
       "      <td>17-07-2012 11:49</td>\n",
       "      <td></td>\n",
       "      <td>14-11-2013 09:31</td>\n",
       "      <td>14-11-2013 09:31</td>\n",
       "      <td>4,32,18,33,333</td>\n",
       "      <td>Operator error</td>\n",
       "      <td>1</td>\n",
       "      <td></td>\n",
       "    </tr>\n",
       "    <tr>\n",
       "      <th>4</th>\n",
       "      <td>application</td>\n",
       "      <td>Web Based Application</td>\n",
       "      <td>Closed</td>\n",
       "      <td>4</td>\n",
       "      <td>4</td>\n",
       "      <td>4</td>\n",
       "      <td>0.345258343</td>\n",
       "      <td>incident</td>\n",
       "      <td>closed</td>\n",
       "      <td>2</td>\n",
       "      <td>10-08-2012 11:01</td>\n",
       "      <td></td>\n",
       "      <td>08-11-2013 13:55</td>\n",
       "      <td>08-11-2013 13:55</td>\n",
       "      <td>3,38,39,03,333</td>\n",
       "      <td>Other</td>\n",
       "      <td>1</td>\n",
       "      <td></td>\n",
       "    </tr>\n",
       "  </tbody>\n",
       "</table>\n",
       "</div>"
      ],
      "text/plain": [
       "           CI_Cat              CI_Subcat  Status Impact Urgency Priority  \\\n",
       "0  subapplication  Web Based Application  Closed      4       4        4   \n",
       "1     application  Web Based Application  Closed      3       3        3   \n",
       "2     application    Desktop Application  Closed     NS       3       NA   \n",
       "3     application  Web Based Application  Closed      4       4        4   \n",
       "4     application  Web Based Application  Closed      4       4        4   \n",
       "\n",
       "    number_cnt                 Category Alert_Status No_of_Reassignments  \\\n",
       "0  0.601292279                 incident       closed                  26   \n",
       "1  0.415049969                 incident       closed                  33   \n",
       "2  0.517551335  request for information       closed                   3   \n",
       "3  0.642927218                 incident       closed                  13   \n",
       "4  0.345258343                 incident       closed                   2   \n",
       "\n",
       "          Open_Time       Reopen_Time     Resolved_Time        Close_Time  \\\n",
       "0  05-02-2012 13:32                    04-11-2013 13:50  04-11-2013 13:51   \n",
       "1  12-03-2012 15:44  02-12-2013 12:31  02-12-2013 12:36  02-12-2013 12:36   \n",
       "2  29-03-2012 12:36                    13-01-2014 15:12  13-01-2014 15:13   \n",
       "3  17-07-2012 11:49                    14-11-2013 09:31  14-11-2013 09:31   \n",
       "4  10-08-2012 11:01                    08-11-2013 13:55  08-11-2013 13:55   \n",
       "\n",
       "  Handle_Time_hrs                  Closure_Code No_of_Related_Interactions  \\\n",
       "0  3,87,16,91,111                         Other                          1   \n",
       "1  4,35,47,86,389                      Software                          1   \n",
       "2  4,84,31,19,444  No error - works as designed                          1   \n",
       "3  4,32,18,33,333                Operator error                          1   \n",
       "4  3,38,39,03,333                         Other                          1   \n",
       "\n",
       "  No_of_Related_Incidents  \n",
       "0                       2  \n",
       "1                       1  \n",
       "2                          \n",
       "3                          \n",
       "4                          "
      ]
     },
     "execution_count": 23,
     "metadata": {},
     "output_type": "execute_result"
    }
   ],
   "source": [
    "df.head()"
   ]
  },
  {
   "cell_type": "markdown",
   "metadata": {},
   "source": [
    "##### Converting cat into num"
   ]
  },
  {
   "cell_type": "code",
   "execution_count": 24,
   "metadata": {},
   "outputs": [
    {
     "data": {
      "text/plain": [
       "Index(['CI_Cat', 'CI_Subcat', 'Status', 'Impact', 'Urgency', 'Priority',\n",
       "       'number_cnt', 'Category', 'Alert_Status', 'No_of_Reassignments',\n",
       "       'Open_Time', 'Reopen_Time', 'Resolved_Time', 'Close_Time',\n",
       "       'Handle_Time_hrs', 'Closure_Code', 'No_of_Related_Interactions',\n",
       "       'No_of_Related_Incidents'],\n",
       "      dtype='object')"
      ]
     },
     "execution_count": 24,
     "metadata": {},
     "output_type": "execute_result"
    }
   ],
   "source": [
    "cat = df.select_dtypes(include='object').columns\n",
    "cat"
   ]
  },
  {
   "cell_type": "code",
   "execution_count": 25,
   "metadata": {},
   "outputs": [
    {
     "data": {
      "text/html": [
       "<div>\n",
       "<style scoped>\n",
       "    .dataframe tbody tr th:only-of-type {\n",
       "        vertical-align: middle;\n",
       "    }\n",
       "\n",
       "    .dataframe tbody tr th {\n",
       "        vertical-align: top;\n",
       "    }\n",
       "\n",
       "    .dataframe thead th {\n",
       "        text-align: right;\n",
       "    }\n",
       "</style>\n",
       "<table border=\"1\" class=\"dataframe\">\n",
       "  <thead>\n",
       "    <tr style=\"text-align: right;\">\n",
       "      <th></th>\n",
       "      <th>CI_Cat</th>\n",
       "      <th>CI_Subcat</th>\n",
       "      <th>Status</th>\n",
       "      <th>Impact</th>\n",
       "      <th>Urgency</th>\n",
       "      <th>Priority</th>\n",
       "      <th>number_cnt</th>\n",
       "      <th>Category</th>\n",
       "      <th>Alert_Status</th>\n",
       "      <th>No_of_Reassignments</th>\n",
       "      <th>Open_Time</th>\n",
       "      <th>Reopen_Time</th>\n",
       "      <th>Resolved_Time</th>\n",
       "      <th>Close_Time</th>\n",
       "      <th>Handle_Time_hrs</th>\n",
       "      <th>Closure_Code</th>\n",
       "      <th>No_of_Related_Interactions</th>\n",
       "      <th>No_of_Related_Incidents</th>\n",
       "    </tr>\n",
       "  </thead>\n",
       "  <tbody>\n",
       "    <tr>\n",
       "      <th>0</th>\n",
       "      <td>subapplication</td>\n",
       "      <td>Web Based Application</td>\n",
       "      <td>Closed</td>\n",
       "      <td>4</td>\n",
       "      <td>4</td>\n",
       "      <td>4</td>\n",
       "      <td>0.601292279</td>\n",
       "      <td>incident</td>\n",
       "      <td>closed</td>\n",
       "      <td>26</td>\n",
       "      <td>05-02-2012 13:32</td>\n",
       "      <td></td>\n",
       "      <td>04-11-2013 13:50</td>\n",
       "      <td>04-11-2013 13:51</td>\n",
       "      <td>3,87,16,91,111</td>\n",
       "      <td>Other</td>\n",
       "      <td>1</td>\n",
       "      <td>2</td>\n",
       "    </tr>\n",
       "    <tr>\n",
       "      <th>1</th>\n",
       "      <td>application</td>\n",
       "      <td>Web Based Application</td>\n",
       "      <td>Closed</td>\n",
       "      <td>3</td>\n",
       "      <td>3</td>\n",
       "      <td>3</td>\n",
       "      <td>0.415049969</td>\n",
       "      <td>incident</td>\n",
       "      <td>closed</td>\n",
       "      <td>33</td>\n",
       "      <td>12-03-2012 15:44</td>\n",
       "      <td>02-12-2013 12:31</td>\n",
       "      <td>02-12-2013 12:36</td>\n",
       "      <td>02-12-2013 12:36</td>\n",
       "      <td>4,35,47,86,389</td>\n",
       "      <td>Software</td>\n",
       "      <td>1</td>\n",
       "      <td>1</td>\n",
       "    </tr>\n",
       "    <tr>\n",
       "      <th>2</th>\n",
       "      <td>application</td>\n",
       "      <td>Desktop Application</td>\n",
       "      <td>Closed</td>\n",
       "      <td>NS</td>\n",
       "      <td>3</td>\n",
       "      <td>NA</td>\n",
       "      <td>0.517551335</td>\n",
       "      <td>request for information</td>\n",
       "      <td>closed</td>\n",
       "      <td>3</td>\n",
       "      <td>29-03-2012 12:36</td>\n",
       "      <td></td>\n",
       "      <td>13-01-2014 15:12</td>\n",
       "      <td>13-01-2014 15:13</td>\n",
       "      <td>4,84,31,19,444</td>\n",
       "      <td>No error - works as designed</td>\n",
       "      <td>1</td>\n",
       "      <td></td>\n",
       "    </tr>\n",
       "    <tr>\n",
       "      <th>3</th>\n",
       "      <td>application</td>\n",
       "      <td>Web Based Application</td>\n",
       "      <td>Closed</td>\n",
       "      <td>4</td>\n",
       "      <td>4</td>\n",
       "      <td>4</td>\n",
       "      <td>0.642927218</td>\n",
       "      <td>incident</td>\n",
       "      <td>closed</td>\n",
       "      <td>13</td>\n",
       "      <td>17-07-2012 11:49</td>\n",
       "      <td></td>\n",
       "      <td>14-11-2013 09:31</td>\n",
       "      <td>14-11-2013 09:31</td>\n",
       "      <td>4,32,18,33,333</td>\n",
       "      <td>Operator error</td>\n",
       "      <td>1</td>\n",
       "      <td></td>\n",
       "    </tr>\n",
       "    <tr>\n",
       "      <th>4</th>\n",
       "      <td>application</td>\n",
       "      <td>Web Based Application</td>\n",
       "      <td>Closed</td>\n",
       "      <td>4</td>\n",
       "      <td>4</td>\n",
       "      <td>4</td>\n",
       "      <td>0.345258343</td>\n",
       "      <td>incident</td>\n",
       "      <td>closed</td>\n",
       "      <td>2</td>\n",
       "      <td>10-08-2012 11:01</td>\n",
       "      <td></td>\n",
       "      <td>08-11-2013 13:55</td>\n",
       "      <td>08-11-2013 13:55</td>\n",
       "      <td>3,38,39,03,333</td>\n",
       "      <td>Other</td>\n",
       "      <td>1</td>\n",
       "      <td></td>\n",
       "    </tr>\n",
       "    <tr>\n",
       "      <th>...</th>\n",
       "      <td>...</td>\n",
       "      <td>...</td>\n",
       "      <td>...</td>\n",
       "      <td>...</td>\n",
       "      <td>...</td>\n",
       "      <td>...</td>\n",
       "      <td>...</td>\n",
       "      <td>...</td>\n",
       "      <td>...</td>\n",
       "      <td>...</td>\n",
       "      <td>...</td>\n",
       "      <td>...</td>\n",
       "      <td>...</td>\n",
       "      <td>...</td>\n",
       "      <td>...</td>\n",
       "      <td>...</td>\n",
       "      <td>...</td>\n",
       "      <td>...</td>\n",
       "    </tr>\n",
       "    <tr>\n",
       "      <th>95</th>\n",
       "      <td>subapplication</td>\n",
       "      <td>Web Based Application</td>\n",
       "      <td>Closed</td>\n",
       "      <td>5</td>\n",
       "      <td>5</td>\n",
       "      <td>5</td>\n",
       "      <td>0.399095833</td>\n",
       "      <td>incident</td>\n",
       "      <td>closed</td>\n",
       "      <td>1</td>\n",
       "      <td>05-06-2013 08:24</td>\n",
       "      <td></td>\n",
       "      <td>20-11-2013 16:43</td>\n",
       "      <td>20-11-2013 16:43</td>\n",
       "      <td>1,26,83,19,167</td>\n",
       "      <td>Software</td>\n",
       "      <td>1</td>\n",
       "      <td></td>\n",
       "    </tr>\n",
       "    <tr>\n",
       "      <th>96</th>\n",
       "      <td>application</td>\n",
       "      <td>SAP</td>\n",
       "      <td>Closed</td>\n",
       "      <td>5</td>\n",
       "      <td>5</td>\n",
       "      <td>5</td>\n",
       "      <td>0.602360706</td>\n",
       "      <td>request for information</td>\n",
       "      <td>closed</td>\n",
       "      <td>15</td>\n",
       "      <td>06-06-2013 08:54</td>\n",
       "      <td>13-09-2013 11:33</td>\n",
       "      <td>23-10-2013 17:21</td>\n",
       "      <td>23-10-2013 17:21</td>\n",
       "      <td>6,30,11,72,222</td>\n",
       "      <td>Questions</td>\n",
       "      <td>2</td>\n",
       "      <td></td>\n",
       "    </tr>\n",
       "    <tr>\n",
       "      <th>97</th>\n",
       "      <td>application</td>\n",
       "      <td>Server Based Application</td>\n",
       "      <td>Closed</td>\n",
       "      <td>4</td>\n",
       "      <td>4</td>\n",
       "      <td>4</td>\n",
       "      <td>0.428121508</td>\n",
       "      <td>incident</td>\n",
       "      <td>closed</td>\n",
       "      <td>6</td>\n",
       "      <td>06-06-2013 11:14</td>\n",
       "      <td>10-06-2013 12:22</td>\n",
       "      <td>04-12-2013 14:54</td>\n",
       "      <td>04-12-2013 14:54</td>\n",
       "      <td>1,32,05,49,722</td>\n",
       "      <td>Operator error</td>\n",
       "      <td>4</td>\n",
       "      <td></td>\n",
       "    </tr>\n",
       "    <tr>\n",
       "      <th>98</th>\n",
       "      <td>application</td>\n",
       "      <td>Web Based Application</td>\n",
       "      <td>Closed</td>\n",
       "      <td>4</td>\n",
       "      <td>5</td>\n",
       "      <td>4</td>\n",
       "      <td>0.587638286</td>\n",
       "      <td>incident</td>\n",
       "      <td>closed</td>\n",
       "      <td>15</td>\n",
       "      <td>10-06-2013 08:53</td>\n",
       "      <td></td>\n",
       "      <td>15-11-2013 15:27</td>\n",
       "      <td>15-11-2013 15:27</td>\n",
       "      <td>7,01,48,91,667</td>\n",
       "      <td>Unknown</td>\n",
       "      <td>1</td>\n",
       "      <td></td>\n",
       "    </tr>\n",
       "    <tr>\n",
       "      <th>99</th>\n",
       "      <td>application</td>\n",
       "      <td>Standard Application</td>\n",
       "      <td>Closed</td>\n",
       "      <td>3</td>\n",
       "      <td>3</td>\n",
       "      <td>3</td>\n",
       "      <td>0.939614352</td>\n",
       "      <td>incident</td>\n",
       "      <td>closed</td>\n",
       "      <td>3</td>\n",
       "      <td>10-06-2013 13:00</td>\n",
       "      <td></td>\n",
       "      <td>29-01-2014 14:30</td>\n",
       "      <td>29-01-2014 14:31</td>\n",
       "      <td>1,57,50,72,222</td>\n",
       "      <td>Other</td>\n",
       "      <td>1</td>\n",
       "      <td></td>\n",
       "    </tr>\n",
       "  </tbody>\n",
       "</table>\n",
       "<p>100 rows × 18 columns</p>\n",
       "</div>"
      ],
      "text/plain": [
       "            CI_Cat                 CI_Subcat  Status Impact Urgency Priority  \\\n",
       "0   subapplication     Web Based Application  Closed      4       4        4   \n",
       "1      application     Web Based Application  Closed      3       3        3   \n",
       "2      application       Desktop Application  Closed     NS       3       NA   \n",
       "3      application     Web Based Application  Closed      4       4        4   \n",
       "4      application     Web Based Application  Closed      4       4        4   \n",
       "..             ...                       ...     ...    ...     ...      ...   \n",
       "95  subapplication     Web Based Application  Closed      5       5        5   \n",
       "96     application                       SAP  Closed      5       5        5   \n",
       "97     application  Server Based Application  Closed      4       4        4   \n",
       "98     application     Web Based Application  Closed      4       5        4   \n",
       "99     application      Standard Application  Closed      3       3        3   \n",
       "\n",
       "     number_cnt                 Category Alert_Status No_of_Reassignments  \\\n",
       "0   0.601292279                 incident       closed                  26   \n",
       "1   0.415049969                 incident       closed                  33   \n",
       "2   0.517551335  request for information       closed                   3   \n",
       "3   0.642927218                 incident       closed                  13   \n",
       "4   0.345258343                 incident       closed                   2   \n",
       "..          ...                      ...          ...                 ...   \n",
       "95  0.399095833                 incident       closed                   1   \n",
       "96  0.602360706  request for information       closed                  15   \n",
       "97  0.428121508                 incident       closed                   6   \n",
       "98  0.587638286                 incident       closed                  15   \n",
       "99  0.939614352                 incident       closed                   3   \n",
       "\n",
       "           Open_Time       Reopen_Time     Resolved_Time        Close_Time  \\\n",
       "0   05-02-2012 13:32                    04-11-2013 13:50  04-11-2013 13:51   \n",
       "1   12-03-2012 15:44  02-12-2013 12:31  02-12-2013 12:36  02-12-2013 12:36   \n",
       "2   29-03-2012 12:36                    13-01-2014 15:12  13-01-2014 15:13   \n",
       "3   17-07-2012 11:49                    14-11-2013 09:31  14-11-2013 09:31   \n",
       "4   10-08-2012 11:01                    08-11-2013 13:55  08-11-2013 13:55   \n",
       "..               ...               ...               ...               ...   \n",
       "95  05-06-2013 08:24                    20-11-2013 16:43  20-11-2013 16:43   \n",
       "96  06-06-2013 08:54  13-09-2013 11:33  23-10-2013 17:21  23-10-2013 17:21   \n",
       "97  06-06-2013 11:14  10-06-2013 12:22  04-12-2013 14:54  04-12-2013 14:54   \n",
       "98  10-06-2013 08:53                    15-11-2013 15:27  15-11-2013 15:27   \n",
       "99  10-06-2013 13:00                    29-01-2014 14:30  29-01-2014 14:31   \n",
       "\n",
       "   Handle_Time_hrs                  Closure_Code No_of_Related_Interactions  \\\n",
       "0   3,87,16,91,111                         Other                          1   \n",
       "1   4,35,47,86,389                      Software                          1   \n",
       "2   4,84,31,19,444  No error - works as designed                          1   \n",
       "3   4,32,18,33,333                Operator error                          1   \n",
       "4   3,38,39,03,333                         Other                          1   \n",
       "..             ...                           ...                        ...   \n",
       "95  1,26,83,19,167                      Software                          1   \n",
       "96  6,30,11,72,222                     Questions                          2   \n",
       "97  1,32,05,49,722                Operator error                          4   \n",
       "98  7,01,48,91,667                       Unknown                          1   \n",
       "99  1,57,50,72,222                         Other                          1   \n",
       "\n",
       "   No_of_Related_Incidents  \n",
       "0                        2  \n",
       "1                        1  \n",
       "2                           \n",
       "3                           \n",
       "4                           \n",
       "..                     ...  \n",
       "95                          \n",
       "96                          \n",
       "97                          \n",
       "98                          \n",
       "99                          \n",
       "\n",
       "[100 rows x 18 columns]"
      ]
     },
     "execution_count": 25,
     "metadata": {},
     "output_type": "execute_result"
    }
   ],
   "source": [
    "df[cat].head(100)\n"
   ]
  },
  {
   "cell_type": "code",
   "execution_count": 26,
   "metadata": {},
   "outputs": [
    {
     "data": {
      "text/plain": [
       "0"
      ]
     },
     "execution_count": 26,
     "metadata": {},
     "output_type": "execute_result"
    }
   ],
   "source": [
    "cat.isnull().sum()"
   ]
  },
  {
   "cell_type": "code",
   "execution_count": 27,
   "metadata": {},
   "outputs": [
    {
     "data": {
      "text/plain": [
       "application             32900\n",
       "subapplication           7782\n",
       "computer                 3643\n",
       "storage                   703\n",
       "hardware                  442\n",
       "software                  333\n",
       "database                  214\n",
       "displaydevice             212\n",
       "officeelectronics         152\n",
       "                          111\n",
       "networkcomponents         107\n",
       "applicationcomponent        5\n",
       "Phone                       2\n",
       "Name: CI_Cat, dtype: int64"
      ]
     },
     "execution_count": 27,
     "metadata": {},
     "output_type": "execute_result"
    }
   ],
   "source": [
    "df['CI_Cat'].value_counts()"
   ]
  },
  {
   "cell_type": "code",
   "execution_count": 28,
   "metadata": {},
   "outputs": [
    {
     "data": {
      "text/html": [
       "<div>\n",
       "<style scoped>\n",
       "    .dataframe tbody tr th:only-of-type {\n",
       "        vertical-align: middle;\n",
       "    }\n",
       "\n",
       "    .dataframe tbody tr th {\n",
       "        vertical-align: top;\n",
       "    }\n",
       "\n",
       "    .dataframe thead th {\n",
       "        text-align: right;\n",
       "    }\n",
       "</style>\n",
       "<table border=\"1\" class=\"dataframe\">\n",
       "  <thead>\n",
       "    <tr style=\"text-align: right;\">\n",
       "      <th></th>\n",
       "    </tr>\n",
       "  </thead>\n",
       "  <tbody>\n",
       "    <tr>\n",
       "      <th>0</th>\n",
       "    </tr>\n",
       "    <tr>\n",
       "      <th>1</th>\n",
       "    </tr>\n",
       "    <tr>\n",
       "      <th>2</th>\n",
       "    </tr>\n",
       "    <tr>\n",
       "      <th>3</th>\n",
       "    </tr>\n",
       "    <tr>\n",
       "      <th>4</th>\n",
       "    </tr>\n",
       "    <tr>\n",
       "      <th>...</th>\n",
       "    </tr>\n",
       "    <tr>\n",
       "      <th>46601</th>\n",
       "    </tr>\n",
       "    <tr>\n",
       "      <th>46602</th>\n",
       "    </tr>\n",
       "    <tr>\n",
       "      <th>46603</th>\n",
       "    </tr>\n",
       "    <tr>\n",
       "      <th>46604</th>\n",
       "    </tr>\n",
       "    <tr>\n",
       "      <th>46605</th>\n",
       "    </tr>\n",
       "  </tbody>\n",
       "</table>\n",
       "<p>46606 rows × 0 columns</p>\n",
       "</div>"
      ],
      "text/plain": [
       "Empty DataFrame\n",
       "Columns: []\n",
       "Index: [0, 1, 2, 3, 4, 5, 6, 7, 8, 9, 10, 11, 12, 13, 14, 15, 16, 17, 18, 19, 20, 21, 22, 23, 24, 25, 26, 27, 28, 29, 30, 31, 32, 33, 34, 35, 36, 37, 38, 39, 40, 41, 42, 43, 44, 45, 46, 47, 48, 49, 50, 51, 52, 53, 54, 55, 56, 57, 58, 59, 60, 61, 62, 63, 64, 65, 66, 67, 68, 69, 70, 71, 72, 73, 74, 75, 76, 77, 78, 79, 80, 81, 82, 83, 84, 85, 86, 87, 88, 89, 90, 91, 92, 93, 94, 95, 96, 97, 98, 99, ...]\n",
       "\n",
       "[46606 rows x 0 columns]"
      ]
     },
     "execution_count": 28,
     "metadata": {},
     "output_type": "execute_result"
    }
   ],
   "source": [
    "numeric = ['int16','int32','int64','float16','float32','float64']\n",
    "num = df.select_dtypes(include=numeric)\n",
    "num"
   ]
  },
  {
   "cell_type": "code",
   "execution_count": 29,
   "metadata": {},
   "outputs": [],
   "source": [
    "from sklearn.preprocessing import LabelEncoder\n",
    "enc = LabelEncoder()\n",
    "df['CI_Cat'] = enc.fit_transform(df['CI_Cat'])\n",
    "df['CI_Subcat'] = enc.fit_transform(df['CI_Subcat'])\n",
    "df['Status'] = enc.fit_transform(df['Status'])\n",
    "df['Impact'] = enc.fit_transform(df['Impact'])\n",
    "df['Urgency'] = enc.fit_transform(df['Urgency'])\n",
    "#df['Priority'] = enc.fit_transform(df['Priority'])\n",
    "df['number_cnt'] = enc.fit_transform(df['number_cnt'])\n",
    "df['Category'] = enc.fit_transform(df['Category'])\n",
    "df['Alert_Status'] = enc.fit_transform(df['Alert_Status'])\n",
    "df['No_of_Reassignments'] = enc.fit_transform(df['No_of_Reassignments'])\n",
    "df['Open_Time'] = enc.fit_transform(df['Open_Time'])\n",
    "df['Reopen_Time'] = enc.fit_transform(df['Reopen_Time'])\n",
    "df['Resolved_Time'] = enc.fit_transform(df['Resolved_Time'])\n",
    "df['Close_Time'] = enc.fit_transform(df['Close_Time'])\n",
    "df['Handle_Time_hrs'] = enc.fit_transform(df['Handle_Time_hrs'])\n",
    "df['Closure_Code'] = enc.fit_transform(df['Closure_Code'])\n",
    "df['No_of_Related_Interactions'] = enc.fit_transform(df['No_of_Related_Interactions'])\n",
    "df['No_of_Related_Incidents'] = enc.fit_transform(df['No_of_Related_Incidents'])\n",
    "\n"
   ]
  },
  {
   "cell_type": "code",
   "execution_count": 30,
   "metadata": {},
   "outputs": [
    {
     "data": {
      "text/html": [
       "<div>\n",
       "<style scoped>\n",
       "    .dataframe tbody tr th:only-of-type {\n",
       "        vertical-align: middle;\n",
       "    }\n",
       "\n",
       "    .dataframe tbody tr th {\n",
       "        vertical-align: top;\n",
       "    }\n",
       "\n",
       "    .dataframe thead th {\n",
       "        text-align: right;\n",
       "    }\n",
       "</style>\n",
       "<table border=\"1\" class=\"dataframe\">\n",
       "  <thead>\n",
       "    <tr style=\"text-align: right;\">\n",
       "      <th></th>\n",
       "      <th>CI_Cat</th>\n",
       "      <th>CI_Subcat</th>\n",
       "      <th>Status</th>\n",
       "      <th>Impact</th>\n",
       "      <th>Urgency</th>\n",
       "      <th>Priority</th>\n",
       "      <th>number_cnt</th>\n",
       "      <th>Category</th>\n",
       "      <th>Alert_Status</th>\n",
       "      <th>No_of_Reassignments</th>\n",
       "      <th>Open_Time</th>\n",
       "      <th>Reopen_Time</th>\n",
       "      <th>Resolved_Time</th>\n",
       "      <th>Close_Time</th>\n",
       "      <th>Handle_Time_hrs</th>\n",
       "      <th>Closure_Code</th>\n",
       "      <th>No_of_Related_Interactions</th>\n",
       "      <th>No_of_Related_Incidents</th>\n",
       "    </tr>\n",
       "  </thead>\n",
       "  <tbody>\n",
       "    <tr>\n",
       "      <th>0</th>\n",
       "      <td>12</td>\n",
       "      <td>58</td>\n",
       "      <td>0</td>\n",
       "      <td>3</td>\n",
       "      <td>3</td>\n",
       "      <td>4</td>\n",
       "      <td>28044</td>\n",
       "      <td>1</td>\n",
       "      <td>0</td>\n",
       "      <td>20</td>\n",
       "      <td>4201</td>\n",
       "      <td>0</td>\n",
       "      <td>3526</td>\n",
       "      <td>3659</td>\n",
       "      <td>19911</td>\n",
       "      <td>7</td>\n",
       "      <td>1</td>\n",
       "      <td>10</td>\n",
       "    </tr>\n",
       "    <tr>\n",
       "      <th>1</th>\n",
       "      <td>2</td>\n",
       "      <td>58</td>\n",
       "      <td>0</td>\n",
       "      <td>2</td>\n",
       "      <td>2</td>\n",
       "      <td>3</td>\n",
       "      <td>19341</td>\n",
       "      <td>1</td>\n",
       "      <td>0</td>\n",
       "      <td>27</td>\n",
       "      <td>12770</td>\n",
       "      <td>76</td>\n",
       "      <td>1181</td>\n",
       "      <td>1222</td>\n",
       "      <td>21448</td>\n",
       "      <td>11</td>\n",
       "      <td>1</td>\n",
       "      <td>1</td>\n",
       "    </tr>\n",
       "    <tr>\n",
       "      <th>2</th>\n",
       "      <td>2</td>\n",
       "      <td>11</td>\n",
       "      <td>0</td>\n",
       "      <td>5</td>\n",
       "      <td>2</td>\n",
       "      <td>NA</td>\n",
       "      <td>24089</td>\n",
       "      <td>3</td>\n",
       "      <td>0</td>\n",
       "      <td>23</td>\n",
       "      <td>32203</td>\n",
       "      <td>0</td>\n",
       "      <td>13274</td>\n",
       "      <td>13734</td>\n",
       "      <td>22732</td>\n",
       "      <td>5</td>\n",
       "      <td>1</td>\n",
       "      <td>0</td>\n",
       "    </tr>\n",
       "    <tr>\n",
       "      <th>3</th>\n",
       "      <td>2</td>\n",
       "      <td>58</td>\n",
       "      <td>0</td>\n",
       "      <td>3</td>\n",
       "      <td>3</td>\n",
       "      <td>4</td>\n",
       "      <td>29998</td>\n",
       "      <td>1</td>\n",
       "      <td>0</td>\n",
       "      <td>6</td>\n",
       "      <td>18529</td>\n",
       "      <td>0</td>\n",
       "      <td>15382</td>\n",
       "      <td>15862</td>\n",
       "      <td>21363</td>\n",
       "      <td>6</td>\n",
       "      <td>1</td>\n",
       "      <td>0</td>\n",
       "    </tr>\n",
       "    <tr>\n",
       "      <th>4</th>\n",
       "      <td>2</td>\n",
       "      <td>58</td>\n",
       "      <td>0</td>\n",
       "      <td>3</td>\n",
       "      <td>3</td>\n",
       "      <td>4</td>\n",
       "      <td>16110</td>\n",
       "      <td>1</td>\n",
       "      <td>0</td>\n",
       "      <td>13</td>\n",
       "      <td>10522</td>\n",
       "      <td>0</td>\n",
       "      <td>8422</td>\n",
       "      <td>8699</td>\n",
       "      <td>18369</td>\n",
       "      <td>7</td>\n",
       "      <td>1</td>\n",
       "      <td>0</td>\n",
       "    </tr>\n",
       "  </tbody>\n",
       "</table>\n",
       "</div>"
      ],
      "text/plain": [
       "   CI_Cat  CI_Subcat  Status  Impact  Urgency Priority  number_cnt  Category  \\\n",
       "0      12         58       0       3        3        4       28044         1   \n",
       "1       2         58       0       2        2        3       19341         1   \n",
       "2       2         11       0       5        2       NA       24089         3   \n",
       "3       2         58       0       3        3        4       29998         1   \n",
       "4       2         58       0       3        3        4       16110         1   \n",
       "\n",
       "   Alert_Status  No_of_Reassignments  Open_Time  Reopen_Time  Resolved_Time  \\\n",
       "0             0                   20       4201            0           3526   \n",
       "1             0                   27      12770           76           1181   \n",
       "2             0                   23      32203            0          13274   \n",
       "3             0                    6      18529            0          15382   \n",
       "4             0                   13      10522            0           8422   \n",
       "\n",
       "   Close_Time  Handle_Time_hrs  Closure_Code  No_of_Related_Interactions  \\\n",
       "0        3659            19911             7                           1   \n",
       "1        1222            21448            11                           1   \n",
       "2       13734            22732             5                           1   \n",
       "3       15862            21363             6                           1   \n",
       "4        8699            18369             7                           1   \n",
       "\n",
       "   No_of_Related_Incidents  \n",
       "0                       10  \n",
       "1                        1  \n",
       "2                        0  \n",
       "3                        0  \n",
       "4                        0  "
      ]
     },
     "execution_count": 30,
     "metadata": {},
     "output_type": "execute_result"
    }
   ],
   "source": [
    "df.head()"
   ]
  },
  {
   "cell_type": "code",
   "execution_count": 31,
   "metadata": {},
   "outputs": [
    {
     "data": {
      "text/plain": [
       "CI_Cat                        0\n",
       "CI_Subcat                     0\n",
       "Status                        0\n",
       "Impact                        0\n",
       "Urgency                       0\n",
       "Priority                      0\n",
       "number_cnt                    0\n",
       "Category                      0\n",
       "Alert_Status                  0\n",
       "No_of_Reassignments           0\n",
       "Open_Time                     0\n",
       "Reopen_Time                   0\n",
       "Resolved_Time                 0\n",
       "Close_Time                    0\n",
       "Handle_Time_hrs               0\n",
       "Closure_Code                  0\n",
       "No_of_Related_Interactions    0\n",
       "No_of_Related_Incidents       0\n",
       "dtype: int64"
      ]
     },
     "execution_count": 31,
     "metadata": {},
     "output_type": "execute_result"
    }
   ],
   "source": [
    "df.isnull().sum()"
   ]
  },
  {
   "cell_type": "code",
   "execution_count": 32,
   "metadata": {},
   "outputs": [
    {
     "data": {
      "text/plain": [
       "2     32900\n",
       "12     7782\n",
       "4      3643\n",
       "11      703\n",
       "7       442\n",
       "10      333\n",
       "5       214\n",
       "6       212\n",
       "9       152\n",
       "0       111\n",
       "8       107\n",
       "3         5\n",
       "1         2\n",
       "Name: CI_Cat, dtype: int64"
      ]
     },
     "execution_count": 32,
     "metadata": {},
     "output_type": "execute_result"
    }
   ],
   "source": [
    "df['CI_Cat'].value_counts()"
   ]
  },
  {
   "cell_type": "code",
   "execution_count": 33,
   "metadata": {},
   "outputs": [
    {
     "data": {
      "text/plain": [
       "<seaborn.axisgrid.FacetGrid at 0x22a6ccf5f10>"
      ]
     },
     "execution_count": 33,
     "metadata": {},
     "output_type": "execute_result"
    },
    {
     "data": {
      "image/png": "[encoded data removed]",
      "text/plain": [
       "<Figure size 360x360 with 1 Axes>"
      ]
     },
     "metadata": {
      "needs_background": "light"
     },
     "output_type": "display_data"
    }
   ],
   "source": [
    "sns.catplot('Priority', data = df, kind = 'count')"
   ]
  },
  {
   "cell_type": "code",
   "execution_count": 34,
   "metadata": {},
   "outputs": [
    {
     "data": {
      "text/plain": [
       "Counter({'4': 22717, '3': 5323, 'NA': 1380, '5': 16486, '2': 697, '1': 3})"
      ]
     },
     "execution_count": 34,
     "metadata": {},
     "output_type": "execute_result"
    }
   ],
   "source": [
    "Counter(df.Priority)    # dependant variable"
   ]
  },
  {
   "cell_type": "markdown",
   "metadata": {},
   "source": [
    "- In dependant variable(Priority feature) having 6 n_neighbours  which is more than the n_samples=2...So we have to decrease the n_neighbours into 2"
   ]
  },
  {
   "cell_type": "markdown",
   "metadata": {},
   "source": [
    "- Making 2 groups i.e 0,1\n",
    "- Considering \n",
    "  * 0 as low Priority\n",
    "  * 1 as high Priority\n",
    "- So Replacing \n",
    "  * NA,1,2 as 0\n",
    "  *  3,4,5 as 1"
   ]
  },
  {
   "cell_type": "code",
   "execution_count": 35,
   "metadata": {},
   "outputs": [],
   "source": [
    "y_data1=df['Priority'].replace({'NA':0,'1':0,'2':0,'3':1,'4':1,'5':1})    \n"
   ]
  },
  {
   "cell_type": "code",
   "execution_count": 36,
   "metadata": {},
   "outputs": [
    {
     "data": {
      "text/plain": [
       "0        1\n",
       "1        1\n",
       "2        0\n",
       "3        1\n",
       "4        1\n",
       "        ..\n",
       "46601    1\n",
       "46602    1\n",
       "46603    1\n",
       "46604    1\n",
       "46605    1\n",
       "Name: Priority, Length: 46606, dtype: int64"
      ]
     },
     "execution_count": 36,
     "metadata": {},
     "output_type": "execute_result"
    }
   ],
   "source": [
    "y_data1"
   ]
  },
  {
   "cell_type": "code",
   "execution_count": 37,
   "metadata": {},
   "outputs": [
    {
     "data": {
      "text/plain": [
       "Counter({1: 44526, 0: 2080})"
      ]
     },
     "execution_count": 37,
     "metadata": {},
     "output_type": "execute_result"
    }
   ],
   "source": [
    "Counter(y_data1)  "
   ]
  },
  {
   "cell_type": "code",
   "execution_count": 38,
   "metadata": {},
   "outputs": [
    {
     "data": {
      "text/plain": [
       "Index(['CI_Cat', 'CI_Subcat', 'Status', 'Impact', 'Urgency', 'Priority',\n",
       "       'number_cnt', 'Category', 'Alert_Status', 'No_of_Reassignments',\n",
       "       'Open_Time', 'Reopen_Time', 'Resolved_Time', 'Close_Time',\n",
       "       'Handle_Time_hrs', 'Closure_Code', 'No_of_Related_Interactions',\n",
       "       'No_of_Related_Incidents'],\n",
       "      dtype='object')"
      ]
     },
     "execution_count": 38,
     "metadata": {},
     "output_type": "execute_result"
    }
   ],
   "source": [
    "df.columns"
   ]
  },
  {
   "cell_type": "code",
   "execution_count": 39,
   "metadata": {},
   "outputs": [],
   "source": [
    "df.drop(['Priority'],axis=1,inplace=True)"
   ]
  },
  {
   "cell_type": "code",
   "execution_count": 40,
   "metadata": {},
   "outputs": [
    {
     "data": {
      "text/plain": [
       "Index(['CI_Cat', 'CI_Subcat', 'Status', 'Impact', 'Urgency', 'number_cnt',\n",
       "       'Category', 'Alert_Status', 'No_of_Reassignments', 'Open_Time',\n",
       "       'Reopen_Time', 'Resolved_Time', 'Close_Time', 'Handle_Time_hrs',\n",
       "       'Closure_Code', 'No_of_Related_Interactions',\n",
       "       'No_of_Related_Incidents'],\n",
       "      dtype='object')"
      ]
     },
     "execution_count": 40,
     "metadata": {},
     "output_type": "execute_result"
    }
   ],
   "source": [
    "df.columns"
   ]
  },
  {
   "cell_type": "code",
   "execution_count": 41,
   "metadata": {},
   "outputs": [],
   "source": [
    "frames = [df,y_data1]\n",
    "data = pd.concat(frames,axis=1)"
   ]
  },
  {
   "cell_type": "code",
   "execution_count": 42,
   "metadata": {},
   "outputs": [
    {
     "data": {
      "text/html": [
       "<div>\n",
       "<style scoped>\n",
       "    .dataframe tbody tr th:only-of-type {\n",
       "        vertical-align: middle;\n",
       "    }\n",
       "\n",
       "    .dataframe tbody tr th {\n",
       "        vertical-align: top;\n",
       "    }\n",
       "\n",
       "    .dataframe thead th {\n",
       "        text-align: right;\n",
       "    }\n",
       "</style>\n",
       "<table border=\"1\" class=\"dataframe\">\n",
       "  <thead>\n",
       "    <tr style=\"text-align: right;\">\n",
       "      <th></th>\n",
       "      <th>CI_Cat</th>\n",
       "      <th>CI_Subcat</th>\n",
       "      <th>Status</th>\n",
       "      <th>Impact</th>\n",
       "      <th>Urgency</th>\n",
       "      <th>number_cnt</th>\n",
       "      <th>Category</th>\n",
       "      <th>Alert_Status</th>\n",
       "      <th>No_of_Reassignments</th>\n",
       "      <th>Open_Time</th>\n",
       "      <th>Reopen_Time</th>\n",
       "      <th>Resolved_Time</th>\n",
       "      <th>Close_Time</th>\n",
       "      <th>Handle_Time_hrs</th>\n",
       "      <th>Closure_Code</th>\n",
       "      <th>No_of_Related_Interactions</th>\n",
       "      <th>No_of_Related_Incidents</th>\n",
       "      <th>Priority</th>\n",
       "    </tr>\n",
       "  </thead>\n",
       "  <tbody>\n",
       "    <tr>\n",
       "      <th>0</th>\n",
       "      <td>12</td>\n",
       "      <td>58</td>\n",
       "      <td>0</td>\n",
       "      <td>3</td>\n",
       "      <td>3</td>\n",
       "      <td>28044</td>\n",
       "      <td>1</td>\n",
       "      <td>0</td>\n",
       "      <td>20</td>\n",
       "      <td>4201</td>\n",
       "      <td>0</td>\n",
       "      <td>3526</td>\n",
       "      <td>3659</td>\n",
       "      <td>19911</td>\n",
       "      <td>7</td>\n",
       "      <td>1</td>\n",
       "      <td>10</td>\n",
       "      <td>1</td>\n",
       "    </tr>\n",
       "    <tr>\n",
       "      <th>1</th>\n",
       "      <td>2</td>\n",
       "      <td>58</td>\n",
       "      <td>0</td>\n",
       "      <td>2</td>\n",
       "      <td>2</td>\n",
       "      <td>19341</td>\n",
       "      <td>1</td>\n",
       "      <td>0</td>\n",
       "      <td>27</td>\n",
       "      <td>12770</td>\n",
       "      <td>76</td>\n",
       "      <td>1181</td>\n",
       "      <td>1222</td>\n",
       "      <td>21448</td>\n",
       "      <td>11</td>\n",
       "      <td>1</td>\n",
       "      <td>1</td>\n",
       "      <td>1</td>\n",
       "    </tr>\n",
       "    <tr>\n",
       "      <th>2</th>\n",
       "      <td>2</td>\n",
       "      <td>11</td>\n",
       "      <td>0</td>\n",
       "      <td>5</td>\n",
       "      <td>2</td>\n",
       "      <td>24089</td>\n",
       "      <td>3</td>\n",
       "      <td>0</td>\n",
       "      <td>23</td>\n",
       "      <td>32203</td>\n",
       "      <td>0</td>\n",
       "      <td>13274</td>\n",
       "      <td>13734</td>\n",
       "      <td>22732</td>\n",
       "      <td>5</td>\n",
       "      <td>1</td>\n",
       "      <td>0</td>\n",
       "      <td>0</td>\n",
       "    </tr>\n",
       "    <tr>\n",
       "      <th>3</th>\n",
       "      <td>2</td>\n",
       "      <td>58</td>\n",
       "      <td>0</td>\n",
       "      <td>3</td>\n",
       "      <td>3</td>\n",
       "      <td>29998</td>\n",
       "      <td>1</td>\n",
       "      <td>0</td>\n",
       "      <td>6</td>\n",
       "      <td>18529</td>\n",
       "      <td>0</td>\n",
       "      <td>15382</td>\n",
       "      <td>15862</td>\n",
       "      <td>21363</td>\n",
       "      <td>6</td>\n",
       "      <td>1</td>\n",
       "      <td>0</td>\n",
       "      <td>1</td>\n",
       "    </tr>\n",
       "    <tr>\n",
       "      <th>4</th>\n",
       "      <td>2</td>\n",
       "      <td>58</td>\n",
       "      <td>0</td>\n",
       "      <td>3</td>\n",
       "      <td>3</td>\n",
       "      <td>16110</td>\n",
       "      <td>1</td>\n",
       "      <td>0</td>\n",
       "      <td>13</td>\n",
       "      <td>10522</td>\n",
       "      <td>0</td>\n",
       "      <td>8422</td>\n",
       "      <td>8699</td>\n",
       "      <td>18369</td>\n",
       "      <td>7</td>\n",
       "      <td>1</td>\n",
       "      <td>0</td>\n",
       "      <td>1</td>\n",
       "    </tr>\n",
       "  </tbody>\n",
       "</table>\n",
       "</div>"
      ],
      "text/plain": [
       "   CI_Cat  CI_Subcat  Status  Impact  Urgency  number_cnt  Category  \\\n",
       "0      12         58       0       3        3       28044         1   \n",
       "1       2         58       0       2        2       19341         1   \n",
       "2       2         11       0       5        2       24089         3   \n",
       "3       2         58       0       3        3       29998         1   \n",
       "4       2         58       0       3        3       16110         1   \n",
       "\n",
       "   Alert_Status  No_of_Reassignments  Open_Time  Reopen_Time  Resolved_Time  \\\n",
       "0             0                   20       4201            0           3526   \n",
       "1             0                   27      12770           76           1181   \n",
       "2             0                   23      32203            0          13274   \n",
       "3             0                    6      18529            0          15382   \n",
       "4             0                   13      10522            0           8422   \n",
       "\n",
       "   Close_Time  Handle_Time_hrs  Closure_Code  No_of_Related_Interactions  \\\n",
       "0        3659            19911             7                           1   \n",
       "1        1222            21448            11                           1   \n",
       "2       13734            22732             5                           1   \n",
       "3       15862            21363             6                           1   \n",
       "4        8699            18369             7                           1   \n",
       "\n",
       "   No_of_Related_Incidents  Priority  \n",
       "0                       10         1  \n",
       "1                        1         1  \n",
       "2                        0         0  \n",
       "3                        0         1  \n",
       "4                        0         1  "
      ]
     },
     "execution_count": 42,
     "metadata": {},
     "output_type": "execute_result"
    }
   ],
   "source": [
    "data.head()"
   ]
  },
  {
   "cell_type": "code",
   "execution_count": 43,
   "metadata": {},
   "outputs": [
    {
     "name": "stdout",
     "output_type": "stream",
     "text": [
      "<class 'pandas.core.frame.DataFrame'>\n",
      "RangeIndex: 46606 entries, 0 to 46605\n",
      "Data columns (total 18 columns):\n",
      " #   Column                      Non-Null Count  Dtype\n",
      "---  ------                      --------------  -----\n",
      " 0   CI_Cat                      46606 non-null  int32\n",
      " 1   CI_Subcat                   46606 non-null  int32\n",
      " 2   Status                      46606 non-null  int32\n",
      " 3   Impact                      46606 non-null  int32\n",
      " 4   Urgency                     46606 non-null  int32\n",
      " 5   number_cnt                  46606 non-null  int32\n",
      " 6   Category                    46606 non-null  int32\n",
      " 7   Alert_Status                46606 non-null  int32\n",
      " 8   No_of_Reassignments         46606 non-null  int32\n",
      " 9   Open_Time                   46606 non-null  int32\n",
      " 10  Reopen_Time                 46606 non-null  int32\n",
      " 11  Resolved_Time               46606 non-null  int32\n",
      " 12  Close_Time                  46606 non-null  int32\n",
      " 13  Handle_Time_hrs             46606 non-null  int32\n",
      " 14  Closure_Code                46606 non-null  int32\n",
      " 15  No_of_Related_Interactions  46606 non-null  int32\n",
      " 16  No_of_Related_Incidents     46606 non-null  int32\n",
      " 17  Priority                    46606 non-null  int64\n",
      "dtypes: int32(17), int64(1)\n",
      "memory usage: 3.4 MB\n"
     ]
    }
   ],
   "source": [
    "data.info()"
   ]
  },
  {
   "cell_type": "markdown",
   "metadata": {},
   "source": [
    "### Feature Scaling"
   ]
  },
  {
   "cell_type": "markdown",
   "metadata": {},
   "source": [
    "##### Check Distribution : Normalization\n"
   ]
  },
  {
   "cell_type": "code",
   "execution_count": 44,
   "metadata": {},
   "outputs": [],
   "source": [
    "X = data.iloc[ : , :-1] #independent columns\n",
    "y = data[\"Priority\"]   #target column "
   ]
  },
  {
   "cell_type": "code",
   "execution_count": 45,
   "metadata": {},
   "outputs": [
    {
     "data": {
      "text/plain": [
       "Index(['CI_Cat', 'CI_Subcat', 'Status', 'Impact', 'Urgency', 'number_cnt',\n",
       "       'Category', 'Alert_Status', 'No_of_Reassignments', 'Open_Time',\n",
       "       'Reopen_Time', 'Resolved_Time', 'Close_Time', 'Handle_Time_hrs',\n",
       "       'Closure_Code', 'No_of_Related_Interactions',\n",
       "       'No_of_Related_Incidents'],\n",
       "      dtype='object')"
      ]
     },
     "execution_count": 45,
     "metadata": {},
     "output_type": "execute_result"
    }
   ],
   "source": [
    "X.columns"
   ]
  },
  {
   "cell_type": "code",
   "execution_count": 46,
   "metadata": {},
   "outputs": [
    {
     "data": {
      "text/plain": [
       "0    1\n",
       "1    1\n",
       "2    0\n",
       "3    1\n",
       "4    1\n",
       "Name: Priority, dtype: int64"
      ]
     },
     "execution_count": 46,
     "metadata": {},
     "output_type": "execute_result"
    }
   ],
   "source": [
    "y.head()"
   ]
  },
  {
   "cell_type": "code",
   "execution_count": 47,
   "metadata": {},
   "outputs": [
    {
     "data": {
      "text/html": [
       "<div>\n",
       "<style scoped>\n",
       "    .dataframe tbody tr th:only-of-type {\n",
       "        vertical-align: middle;\n",
       "    }\n",
       "\n",
       "    .dataframe tbody tr th {\n",
       "        vertical-align: top;\n",
       "    }\n",
       "\n",
       "    .dataframe thead th {\n",
       "        text-align: right;\n",
       "    }\n",
       "</style>\n",
       "<table border=\"1\" class=\"dataframe\">\n",
       "  <thead>\n",
       "    <tr style=\"text-align: right;\">\n",
       "      <th></th>\n",
       "      <th>CI_Cat</th>\n",
       "      <th>CI_Subcat</th>\n",
       "      <th>Status</th>\n",
       "      <th>Impact</th>\n",
       "      <th>Urgency</th>\n",
       "      <th>number_cnt</th>\n",
       "      <th>Category</th>\n",
       "      <th>Alert_Status</th>\n",
       "      <th>No_of_Reassignments</th>\n",
       "      <th>Open_Time</th>\n",
       "      <th>Reopen_Time</th>\n",
       "      <th>Resolved_Time</th>\n",
       "      <th>Close_Time</th>\n",
       "      <th>Handle_Time_hrs</th>\n",
       "      <th>Closure_Code</th>\n",
       "      <th>No_of_Related_Interactions</th>\n",
       "      <th>No_of_Related_Incidents</th>\n",
       "    </tr>\n",
       "  </thead>\n",
       "  <tbody>\n",
       "    <tr>\n",
       "      <th>0</th>\n",
       "      <td>1.000000</td>\n",
       "      <td>0.906250</td>\n",
       "      <td>0.0</td>\n",
       "      <td>0.6</td>\n",
       "      <td>0.6</td>\n",
       "      <td>0.601738</td>\n",
       "      <td>0.333333</td>\n",
       "      <td>0.0</td>\n",
       "      <td>0.487805</td>\n",
       "      <td>0.121293</td>\n",
       "      <td>0.000000</td>\n",
       "      <td>0.104856</td>\n",
       "      <td>0.105975</td>\n",
       "      <td>0.649879</td>\n",
       "      <td>0.500000</td>\n",
       "      <td>0.020408</td>\n",
       "      <td>0.416667</td>\n",
       "    </tr>\n",
       "    <tr>\n",
       "      <th>1</th>\n",
       "      <td>0.166667</td>\n",
       "      <td>0.906250</td>\n",
       "      <td>0.0</td>\n",
       "      <td>0.4</td>\n",
       "      <td>0.4</td>\n",
       "      <td>0.414998</td>\n",
       "      <td>0.333333</td>\n",
       "      <td>0.0</td>\n",
       "      <td>0.658537</td>\n",
       "      <td>0.368702</td>\n",
       "      <td>0.033868</td>\n",
       "      <td>0.035121</td>\n",
       "      <td>0.035393</td>\n",
       "      <td>0.700046</td>\n",
       "      <td>0.785714</td>\n",
       "      <td>0.020408</td>\n",
       "      <td>0.041667</td>\n",
       "    </tr>\n",
       "    <tr>\n",
       "      <th>2</th>\n",
       "      <td>0.166667</td>\n",
       "      <td>0.171875</td>\n",
       "      <td>0.0</td>\n",
       "      <td>1.0</td>\n",
       "      <td>0.4</td>\n",
       "      <td>0.516876</td>\n",
       "      <td>1.000000</td>\n",
       "      <td>0.0</td>\n",
       "      <td>0.560976</td>\n",
       "      <td>0.929782</td>\n",
       "      <td>0.000000</td>\n",
       "      <td>0.394742</td>\n",
       "      <td>0.397776</td>\n",
       "      <td>0.741954</td>\n",
       "      <td>0.357143</td>\n",
       "      <td>0.020408</td>\n",
       "      <td>0.000000</td>\n",
       "    </tr>\n",
       "    <tr>\n",
       "      <th>3</th>\n",
       "      <td>0.166667</td>\n",
       "      <td>0.906250</td>\n",
       "      <td>0.0</td>\n",
       "      <td>0.6</td>\n",
       "      <td>0.6</td>\n",
       "      <td>0.643665</td>\n",
       "      <td>0.333333</td>\n",
       "      <td>0.0</td>\n",
       "      <td>0.146341</td>\n",
       "      <td>0.534979</td>\n",
       "      <td>0.000000</td>\n",
       "      <td>0.457430</td>\n",
       "      <td>0.459409</td>\n",
       "      <td>0.697271</td>\n",
       "      <td>0.428571</td>\n",
       "      <td>0.020408</td>\n",
       "      <td>0.000000</td>\n",
       "    </tr>\n",
       "    <tr>\n",
       "      <th>4</th>\n",
       "      <td>0.166667</td>\n",
       "      <td>0.906250</td>\n",
       "      <td>0.0</td>\n",
       "      <td>0.6</td>\n",
       "      <td>0.6</td>\n",
       "      <td>0.345671</td>\n",
       "      <td>0.333333</td>\n",
       "      <td>0.0</td>\n",
       "      <td>0.317073</td>\n",
       "      <td>0.303797</td>\n",
       "      <td>0.000000</td>\n",
       "      <td>0.250454</td>\n",
       "      <td>0.251948</td>\n",
       "      <td>0.599550</td>\n",
       "      <td>0.500000</td>\n",
       "      <td>0.020408</td>\n",
       "      <td>0.000000</td>\n",
       "    </tr>\n",
       "    <tr>\n",
       "      <th>...</th>\n",
       "      <td>...</td>\n",
       "      <td>...</td>\n",
       "      <td>...</td>\n",
       "      <td>...</td>\n",
       "      <td>...</td>\n",
       "      <td>...</td>\n",
       "      <td>...</td>\n",
       "      <td>...</td>\n",
       "      <td>...</td>\n",
       "      <td>...</td>\n",
       "      <td>...</td>\n",
       "      <td>...</td>\n",
       "      <td>...</td>\n",
       "      <td>...</td>\n",
       "      <td>...</td>\n",
       "      <td>...</td>\n",
       "      <td>...</td>\n",
       "    </tr>\n",
       "    <tr>\n",
       "      <th>46601</th>\n",
       "      <td>0.166667</td>\n",
       "      <td>0.718750</td>\n",
       "      <td>0.0</td>\n",
       "      <td>0.6</td>\n",
       "      <td>0.6</td>\n",
       "      <td>0.233687</td>\n",
       "      <td>0.333333</td>\n",
       "      <td>0.0</td>\n",
       "      <td>0.024390</td>\n",
       "      <td>0.986661</td>\n",
       "      <td>0.000000</td>\n",
       "      <td>0.985161</td>\n",
       "      <td>0.985229</td>\n",
       "      <td>0.010804</td>\n",
       "      <td>0.500000</td>\n",
       "      <td>0.020408</td>\n",
       "      <td>0.000000</td>\n",
       "    </tr>\n",
       "    <tr>\n",
       "      <th>46602</th>\n",
       "      <td>0.166667</td>\n",
       "      <td>0.718750</td>\n",
       "      <td>0.0</td>\n",
       "      <td>0.6</td>\n",
       "      <td>0.6</td>\n",
       "      <td>0.806759</td>\n",
       "      <td>0.333333</td>\n",
       "      <td>0.0</td>\n",
       "      <td>0.024390</td>\n",
       "      <td>0.986459</td>\n",
       "      <td>0.000000</td>\n",
       "      <td>0.984298</td>\n",
       "      <td>0.984331</td>\n",
       "      <td>0.048861</td>\n",
       "      <td>0.928571</td>\n",
       "      <td>0.020408</td>\n",
       "      <td>0.000000</td>\n",
       "    </tr>\n",
       "    <tr>\n",
       "      <th>46603</th>\n",
       "      <td>0.333333</td>\n",
       "      <td>0.343750</td>\n",
       "      <td>0.0</td>\n",
       "      <td>0.8</td>\n",
       "      <td>0.8</td>\n",
       "      <td>0.916640</td>\n",
       "      <td>0.333333</td>\n",
       "      <td>0.0</td>\n",
       "      <td>0.024390</td>\n",
       "      <td>0.986545</td>\n",
       "      <td>0.000000</td>\n",
       "      <td>0.984358</td>\n",
       "      <td>0.984389</td>\n",
       "      <td>0.008095</td>\n",
       "      <td>0.142857</td>\n",
       "      <td>0.020408</td>\n",
       "      <td>0.000000</td>\n",
       "    </tr>\n",
       "    <tr>\n",
       "      <th>46604</th>\n",
       "      <td>0.166667</td>\n",
       "      <td>0.906250</td>\n",
       "      <td>0.0</td>\n",
       "      <td>0.6</td>\n",
       "      <td>0.6</td>\n",
       "      <td>0.701191</td>\n",
       "      <td>0.333333</td>\n",
       "      <td>0.0</td>\n",
       "      <td>0.024390</td>\n",
       "      <td>0.986574</td>\n",
       "      <td>0.000000</td>\n",
       "      <td>0.984566</td>\n",
       "      <td>0.984621</td>\n",
       "      <td>0.013284</td>\n",
       "      <td>0.785714</td>\n",
       "      <td>0.020408</td>\n",
       "      <td>0.000000</td>\n",
       "    </tr>\n",
       "    <tr>\n",
       "      <th>46605</th>\n",
       "      <td>0.583333</td>\n",
       "      <td>0.109375</td>\n",
       "      <td>0.0</td>\n",
       "      <td>0.4</td>\n",
       "      <td>0.4</td>\n",
       "      <td>0.901169</td>\n",
       "      <td>0.333333</td>\n",
       "      <td>0.0</td>\n",
       "      <td>0.024390</td>\n",
       "      <td>0.986719</td>\n",
       "      <td>0.000000</td>\n",
       "      <td>0.985934</td>\n",
       "      <td>0.986011</td>\n",
       "      <td>0.066356</td>\n",
       "      <td>0.142857</td>\n",
       "      <td>0.020408</td>\n",
       "      <td>0.000000</td>\n",
       "    </tr>\n",
       "  </tbody>\n",
       "</table>\n",
       "<p>46606 rows × 17 columns</p>\n",
       "</div>"
      ],
      "text/plain": [
       "         CI_Cat  CI_Subcat  Status  Impact  Urgency  number_cnt  Category  \\\n",
       "0      1.000000   0.906250     0.0     0.6      0.6    0.601738  0.333333   \n",
       "1      0.166667   0.906250     0.0     0.4      0.4    0.414998  0.333333   \n",
       "2      0.166667   0.171875     0.0     1.0      0.4    0.516876  1.000000   \n",
       "3      0.166667   0.906250     0.0     0.6      0.6    0.643665  0.333333   \n",
       "4      0.166667   0.906250     0.0     0.6      0.6    0.345671  0.333333   \n",
       "...         ...        ...     ...     ...      ...         ...       ...   \n",
       "46601  0.166667   0.718750     0.0     0.6      0.6    0.233687  0.333333   \n",
       "46602  0.166667   0.718750     0.0     0.6      0.6    0.806759  0.333333   \n",
       "46603  0.333333   0.343750     0.0     0.8      0.8    0.916640  0.333333   \n",
       "46604  0.166667   0.906250     0.0     0.6      0.6    0.701191  0.333333   \n",
       "46605  0.583333   0.109375     0.0     0.4      0.4    0.901169  0.333333   \n",
       "\n",
       "       Alert_Status  No_of_Reassignments  Open_Time  Reopen_Time  \\\n",
       "0               0.0             0.487805   0.121293     0.000000   \n",
       "1               0.0             0.658537   0.368702     0.033868   \n",
       "2               0.0             0.560976   0.929782     0.000000   \n",
       "3               0.0             0.146341   0.534979     0.000000   \n",
       "4               0.0             0.317073   0.303797     0.000000   \n",
       "...             ...                  ...        ...          ...   \n",
       "46601           0.0             0.024390   0.986661     0.000000   \n",
       "46602           0.0             0.024390   0.986459     0.000000   \n",
       "46603           0.0             0.024390   0.986545     0.000000   \n",
       "46604           0.0             0.024390   0.986574     0.000000   \n",
       "46605           0.0             0.024390   0.986719     0.000000   \n",
       "\n",
       "       Resolved_Time  Close_Time  Handle_Time_hrs  Closure_Code  \\\n",
       "0           0.104856    0.105975         0.649879      0.500000   \n",
       "1           0.035121    0.035393         0.700046      0.785714   \n",
       "2           0.394742    0.397776         0.741954      0.357143   \n",
       "3           0.457430    0.459409         0.697271      0.428571   \n",
       "4           0.250454    0.251948         0.599550      0.500000   \n",
       "...              ...         ...              ...           ...   \n",
       "46601       0.985161    0.985229         0.010804      0.500000   \n",
       "46602       0.984298    0.984331         0.048861      0.928571   \n",
       "46603       0.984358    0.984389         0.008095      0.142857   \n",
       "46604       0.984566    0.984621         0.013284      0.785714   \n",
       "46605       0.985934    0.986011         0.066356      0.142857   \n",
       "\n",
       "       No_of_Related_Interactions  No_of_Related_Incidents  \n",
       "0                        0.020408                 0.416667  \n",
       "1                        0.020408                 0.041667  \n",
       "2                        0.020408                 0.000000  \n",
       "3                        0.020408                 0.000000  \n",
       "4                        0.020408                 0.000000  \n",
       "...                           ...                      ...  \n",
       "46601                    0.020408                 0.000000  \n",
       "46602                    0.020408                 0.000000  \n",
       "46603                    0.020408                 0.000000  \n",
       "46604                    0.020408                 0.000000  \n",
       "46605                    0.020408                 0.000000  \n",
       "\n",
       "[46606 rows x 17 columns]"
      ]
     },
     "execution_count": 47,
     "metadata": {},
     "output_type": "execute_result"
    }
   ],
   "source": [
    "scaler = MinMaxScaler()\n",
    "scaler.fit(X)\n",
    "scaled_features = scaler.transform(X)\n",
    "#Convert to table format - MinMaxScaler\n",
    "data_MinMax = pd.DataFrame(data=scaled_features, \n",
    "                            columns=['CI_Cat','CI_Subcat','Status','Impact','Urgency','number_cnt',\n",
    "                                     'Category','Alert_Status','No_of_Reassignments','Open_Time','Reopen_Time',\n",
    "                                     'Resolved_Time','Close_Time','Handle_Time_hrs','Closure_Code','No_of_Related_Interactions',\n",
    "                                     'No_of_Related_Incidents'])\n",
    "data_MinMax"
   ]
  },
  {
   "cell_type": "code",
   "execution_count": 48,
   "metadata": {},
   "outputs": [
    {
     "data": {
      "text/plain": [
       "<matplotlib.axes._subplots.AxesSubplot at 0x22a6d484280>"
      ]
     },
     "execution_count": 48,
     "metadata": {},
     "output_type": "execute_result"
    },
    {
     "data": {
      "image/png": "[encoded data removed]",
      "text/plain": [
       "<Figure size 432x288 with 1 Axes>"
      ]
     },
     "metadata": {
      "needs_background": "light"
     },
     "output_type": "display_data"
    }
   ],
   "source": [
    "# seaborn plot for dataset\n",
    "sns.distplot(data_MinMax)"
   ]
  },
  {
   "cell_type": "code",
   "execution_count": 49,
   "metadata": {},
   "outputs": [
    {
     "data": {
      "text/plain": [
       "array([ 1.43787157e+00, -1.15816573e+00,  7.19405632e+01, -3.06528019e-01,\n",
       "       -5.47764792e-01,  1.04760601e-16,  1.58000124e+00,  0.00000000e+00,\n",
       "        1.98512765e+00,  1.68132328e-02,  5.60581790e+00,  1.98911473e-02,\n",
       "        1.47657962e-03,  3.13124493e-01, -3.69996575e-01,  4.82642796e+00,\n",
       "        1.92722080e+01])"
      ]
     },
     "execution_count": 49,
     "metadata": {},
     "output_type": "execute_result"
    }
   ],
   "source": [
    "#skewness for dataset\n",
    "skewness = stats.skew(data_MinMax)\n",
    "skewness"
   ]
  },
  {
   "cell_type": "code",
   "execution_count": 50,
   "metadata": {},
   "outputs": [
    {
     "data": {
      "text/plain": [
       "array([ 2.19285532e-01,  3.53177235e-02,  5.17344464e+03,  2.42089113e-01,\n",
       "       -1.24205635e-01, -1.20000000e+00,  5.02061570e-01, -3.00000000e+00,\n",
       "        2.78530990e+00, -1.20198975e+00,  3.18790980e+01, -1.21816272e+00,\n",
       "       -1.20422131e+00, -1.21783778e+00, -6.28535708e-01,  2.81206882e+01,\n",
       "        4.13297554e+02])"
      ]
     },
     "execution_count": 50,
     "metadata": {},
     "output_type": "execute_result"
    }
   ],
   "source": [
    "#kurtosis for dataset\n",
    "kurtosis = stats.kurtosis(data_MinMax)\n",
    "kurtosis"
   ]
  },
  {
   "cell_type": "code",
   "execution_count": 51,
   "metadata": {},
   "outputs": [
    {
     "data": {
      "text/plain": [
       "<matplotlib.axes._subplots.AxesSubplot at 0x22a6d489790>"
      ]
     },
     "execution_count": 51,
     "metadata": {},
     "output_type": "execute_result"
    },
    {
     "data": {
      "image/png": "[encoded data removed]",
      "text/plain": [
       "<Figure size 432x288 with 1 Axes>"
      ]
     },
     "metadata": {
      "needs_background": "light"
     },
     "output_type": "display_data"
    }
   ],
   "source": [
    "# seaborn plot for skewness for dataset \n",
    "sns.distplot(skewness)"
   ]
  },
  {
   "cell_type": "code",
   "execution_count": 52,
   "metadata": {},
   "outputs": [
    {
     "data": {
      "text/plain": [
       "<matplotlib.axes._subplots.AxesSubplot at 0x22a6cace550>"
      ]
     },
     "execution_count": 52,
     "metadata": {},
     "output_type": "execute_result"
    },
    {
     "data": {
      "image/png": "[encoded data removed]",
      "text/plain": [
       "<Figure size 432x288 with 1 Axes>"
      ]
     },
     "metadata": {
      "needs_background": "light"
     },
     "output_type": "display_data"
    }
   ],
   "source": [
    "# seaborn plot for kurtosis for dataset \n",
    "sns.distplot(kurtosis)"
   ]
  },
  {
   "cell_type": "markdown",
   "metadata": {},
   "source": [
    "### Feature Engg"
   ]
  },
  {
   "cell_type": "markdown",
   "metadata": {},
   "source": [
    "##### Feature Selection :"
   ]
  },
  {
   "cell_type": "code",
   "execution_count": 53,
   "metadata": {},
   "outputs": [
    {
     "data": {
      "image/png": "[encoded data removed]",
      "text/plain": [
       "<Figure size 1152x648 with 2 Axes>"
      ]
     },
     "metadata": {
      "needs_background": "light"
     },
     "output_type": "display_data"
    }
   ],
   "source": [
    "# Check Correlation Matrix using pearson correlation\n",
    "corr = df.corr(method='pearson')\n",
    "top_corr_features = corr.index\n",
    "plt.figure(figsize=(16,9))\n",
    "#plot heat map\n",
    "g=sns.heatmap(df[top_corr_features].corr(),annot=True,cmap=\"PiYG\")"
   ]
  },
  {
   "cell_type": "code",
   "execution_count": 54,
   "metadata": {},
   "outputs": [
    {
     "data": {
      "text/plain": [
       "Index(['CI_Cat', 'CI_Subcat', 'Status', 'Impact', 'Urgency', 'number_cnt',\n",
       "       'Category', 'Alert_Status', 'No_of_Reassignments', 'Open_Time',\n",
       "       'Reopen_Time', 'Resolved_Time', 'Close_Time', 'Handle_Time_hrs',\n",
       "       'Closure_Code', 'No_of_Related_Interactions', 'No_of_Related_Incidents',\n",
       "       'Priority'],\n",
       "      dtype='object')"
      ]
     },
     "execution_count": 54,
     "metadata": {},
     "output_type": "execute_result"
    }
   ],
   "source": [
    "data.columns"
   ]
  },
  {
   "cell_type": "code",
   "execution_count": 55,
   "metadata": {},
   "outputs": [],
   "source": [
    "# Feature Importance\n",
    "X = data.iloc[ : , :-1] #independent columns\n",
    "y = data[\"Priority\"]   #target column \n",
    "from sklearn.ensemble import ExtraTreesClassifier\n",
    "model = ExtraTreesClassifier()"
   ]
  },
  {
   "cell_type": "code",
   "execution_count": 56,
   "metadata": {},
   "outputs": [
    {
     "data": {
      "text/html": [
       "<div>\n",
       "<style scoped>\n",
       "    .dataframe tbody tr th:only-of-type {\n",
       "        vertical-align: middle;\n",
       "    }\n",
       "\n",
       "    .dataframe tbody tr th {\n",
       "        vertical-align: top;\n",
       "    }\n",
       "\n",
       "    .dataframe thead th {\n",
       "        text-align: right;\n",
       "    }\n",
       "</style>\n",
       "<table border=\"1\" class=\"dataframe\">\n",
       "  <thead>\n",
       "    <tr style=\"text-align: right;\">\n",
       "      <th></th>\n",
       "      <th>CI_Cat</th>\n",
       "      <th>CI_Subcat</th>\n",
       "      <th>Status</th>\n",
       "      <th>Impact</th>\n",
       "      <th>Urgency</th>\n",
       "      <th>number_cnt</th>\n",
       "      <th>Category</th>\n",
       "      <th>Alert_Status</th>\n",
       "      <th>No_of_Reassignments</th>\n",
       "      <th>Open_Time</th>\n",
       "      <th>Reopen_Time</th>\n",
       "      <th>Resolved_Time</th>\n",
       "      <th>Close_Time</th>\n",
       "      <th>Handle_Time_hrs</th>\n",
       "      <th>Closure_Code</th>\n",
       "      <th>No_of_Related_Interactions</th>\n",
       "      <th>No_of_Related_Incidents</th>\n",
       "    </tr>\n",
       "  </thead>\n",
       "  <tbody>\n",
       "    <tr>\n",
       "      <th>0</th>\n",
       "      <td>12</td>\n",
       "      <td>58</td>\n",
       "      <td>0</td>\n",
       "      <td>3</td>\n",
       "      <td>3</td>\n",
       "      <td>28044</td>\n",
       "      <td>1</td>\n",
       "      <td>0</td>\n",
       "      <td>20</td>\n",
       "      <td>4201</td>\n",
       "      <td>0</td>\n",
       "      <td>3526</td>\n",
       "      <td>3659</td>\n",
       "      <td>19911</td>\n",
       "      <td>7</td>\n",
       "      <td>1</td>\n",
       "      <td>10</td>\n",
       "    </tr>\n",
       "    <tr>\n",
       "      <th>1</th>\n",
       "      <td>2</td>\n",
       "      <td>58</td>\n",
       "      <td>0</td>\n",
       "      <td>2</td>\n",
       "      <td>2</td>\n",
       "      <td>19341</td>\n",
       "      <td>1</td>\n",
       "      <td>0</td>\n",
       "      <td>27</td>\n",
       "      <td>12770</td>\n",
       "      <td>76</td>\n",
       "      <td>1181</td>\n",
       "      <td>1222</td>\n",
       "      <td>21448</td>\n",
       "      <td>11</td>\n",
       "      <td>1</td>\n",
       "      <td>1</td>\n",
       "    </tr>\n",
       "    <tr>\n",
       "      <th>2</th>\n",
       "      <td>2</td>\n",
       "      <td>11</td>\n",
       "      <td>0</td>\n",
       "      <td>5</td>\n",
       "      <td>2</td>\n",
       "      <td>24089</td>\n",
       "      <td>3</td>\n",
       "      <td>0</td>\n",
       "      <td>23</td>\n",
       "      <td>32203</td>\n",
       "      <td>0</td>\n",
       "      <td>13274</td>\n",
       "      <td>13734</td>\n",
       "      <td>22732</td>\n",
       "      <td>5</td>\n",
       "      <td>1</td>\n",
       "      <td>0</td>\n",
       "    </tr>\n",
       "    <tr>\n",
       "      <th>3</th>\n",
       "      <td>2</td>\n",
       "      <td>58</td>\n",
       "      <td>0</td>\n",
       "      <td>3</td>\n",
       "      <td>3</td>\n",
       "      <td>29998</td>\n",
       "      <td>1</td>\n",
       "      <td>0</td>\n",
       "      <td>6</td>\n",
       "      <td>18529</td>\n",
       "      <td>0</td>\n",
       "      <td>15382</td>\n",
       "      <td>15862</td>\n",
       "      <td>21363</td>\n",
       "      <td>6</td>\n",
       "      <td>1</td>\n",
       "      <td>0</td>\n",
       "    </tr>\n",
       "    <tr>\n",
       "      <th>4</th>\n",
       "      <td>2</td>\n",
       "      <td>58</td>\n",
       "      <td>0</td>\n",
       "      <td>3</td>\n",
       "      <td>3</td>\n",
       "      <td>16110</td>\n",
       "      <td>1</td>\n",
       "      <td>0</td>\n",
       "      <td>13</td>\n",
       "      <td>10522</td>\n",
       "      <td>0</td>\n",
       "      <td>8422</td>\n",
       "      <td>8699</td>\n",
       "      <td>18369</td>\n",
       "      <td>7</td>\n",
       "      <td>1</td>\n",
       "      <td>0</td>\n",
       "    </tr>\n",
       "  </tbody>\n",
       "</table>\n",
       "</div>"
      ],
      "text/plain": [
       "   CI_Cat  CI_Subcat  Status  Impact  Urgency  number_cnt  Category  \\\n",
       "0      12         58       0       3        3       28044         1   \n",
       "1       2         58       0       2        2       19341         1   \n",
       "2       2         11       0       5        2       24089         3   \n",
       "3       2         58       0       3        3       29998         1   \n",
       "4       2         58       0       3        3       16110         1   \n",
       "\n",
       "   Alert_Status  No_of_Reassignments  Open_Time  Reopen_Time  Resolved_Time  \\\n",
       "0             0                   20       4201            0           3526   \n",
       "1             0                   27      12770           76           1181   \n",
       "2             0                   23      32203            0          13274   \n",
       "3             0                    6      18529            0          15382   \n",
       "4             0                   13      10522            0           8422   \n",
       "\n",
       "   Close_Time  Handle_Time_hrs  Closure_Code  No_of_Related_Interactions  \\\n",
       "0        3659            19911             7                           1   \n",
       "1        1222            21448            11                           1   \n",
       "2       13734            22732             5                           1   \n",
       "3       15862            21363             6                           1   \n",
       "4        8699            18369             7                           1   \n",
       "\n",
       "   No_of_Related_Incidents  \n",
       "0                       10  \n",
       "1                        1  \n",
       "2                        0  \n",
       "3                        0  \n",
       "4                        0  "
      ]
     },
     "execution_count": 56,
     "metadata": {},
     "output_type": "execute_result"
    }
   ],
   "source": [
    "X.head()"
   ]
  },
  {
   "cell_type": "code",
   "execution_count": 57,
   "metadata": {},
   "outputs": [
    {
     "data": {
      "text/plain": [
       "0    1\n",
       "1    1\n",
       "2    0\n",
       "3    1\n",
       "4    1\n",
       "Name: Priority, dtype: int64"
      ]
     },
     "execution_count": 57,
     "metadata": {},
     "output_type": "execute_result"
    }
   ],
   "source": [
    "y.head()"
   ]
  },
  {
   "cell_type": "code",
   "execution_count": 58,
   "metadata": {},
   "outputs": [
    {
     "name": "stdout",
     "output_type": "stream",
     "text": [
      "[6.23166901e-03 1.87160541e-02 1.88354652e-04 6.61956535e-01\n",
      " 2.65751048e-01 2.51974877e-03 4.69424296e-03 0.00000000e+00\n",
      " 2.32351014e-03 2.59963500e-03 7.76053403e-04 5.65925995e-03\n",
      " 3.69173858e-03 4.86142726e-03 1.56906243e-02 1.63163698e-03\n",
      " 2.70846206e-03]\n"
     ]
    },
    {
     "data": {
      "image/png": "[encoded data removed]",
      "text/plain": [
       "<Figure size 432x288 with 1 Axes>"
      ]
     },
     "metadata": {
      "needs_background": "light"
     },
     "output_type": "display_data"
    }
   ],
   "source": [
    "model.fit(X,y)\n",
    "print(model.feature_importances_) #use inbuilt class feature_importances of tree based classifiers\n",
    "#plot graph of feature importances for better visualization\n",
    "feat_importances = pd.Series(model.feature_importances_, index=X.columns)\n",
    "feat_importances.nlargest(7).plot(kind='barh')\n",
    "plt.show()"
   ]
  },
  {
   "cell_type": "markdown",
   "metadata": {},
   "source": [
    "- After Visualize Above Plots, These Features Are Highly Correlated With Target Feature 'Priority'"
   ]
  },
  {
   "cell_type": "markdown",
   "metadata": {},
   "source": [
    "##### Removing Less Correlated Features"
   ]
  },
  {
   "cell_type": "code",
   "execution_count": 59,
   "metadata": {},
   "outputs": [
    {
     "data": {
      "text/plain": [
       "Index(['CI_Cat', 'CI_Subcat', 'Status', 'Impact', 'Urgency', 'number_cnt',\n",
       "       'Category', 'Alert_Status', 'No_of_Reassignments', 'Open_Time',\n",
       "       'Reopen_Time', 'Resolved_Time', 'Close_Time', 'Handle_Time_hrs',\n",
       "       'Closure_Code', 'No_of_Related_Interactions', 'No_of_Related_Incidents',\n",
       "       'Priority'],\n",
       "      dtype='object')"
      ]
     },
     "execution_count": 59,
     "metadata": {},
     "output_type": "execute_result"
    }
   ],
   "source": [
    "data.columns"
   ]
  },
  {
   "cell_type": "code",
   "execution_count": 60,
   "metadata": {},
   "outputs": [],
   "source": [
    "## remove less correlated features\n",
    "data.drop(['Status','number_cnt','Alert_Status','No_of_Reassignments','Open_Time','Reopen_Time','Resolved_Time',\n",
    "        'Close_Time','No_of_Related_Interactions','No_of_Related_Incidents'],\n",
    "      axis=1,inplace = True) "
   ]
  },
  {
   "cell_type": "code",
   "execution_count": 61,
   "metadata": {},
   "outputs": [
    {
     "data": {
      "text/html": [
       "<div>\n",
       "<style scoped>\n",
       "    .dataframe tbody tr th:only-of-type {\n",
       "        vertical-align: middle;\n",
       "    }\n",
       "\n",
       "    .dataframe tbody tr th {\n",
       "        vertical-align: top;\n",
       "    }\n",
       "\n",
       "    .dataframe thead th {\n",
       "        text-align: right;\n",
       "    }\n",
       "</style>\n",
       "<table border=\"1\" class=\"dataframe\">\n",
       "  <thead>\n",
       "    <tr style=\"text-align: right;\">\n",
       "      <th></th>\n",
       "      <th>CI_Cat</th>\n",
       "      <th>CI_Subcat</th>\n",
       "      <th>Impact</th>\n",
       "      <th>Urgency</th>\n",
       "      <th>Category</th>\n",
       "      <th>Handle_Time_hrs</th>\n",
       "      <th>Closure_Code</th>\n",
       "      <th>Priority</th>\n",
       "    </tr>\n",
       "  </thead>\n",
       "  <tbody>\n",
       "    <tr>\n",
       "      <th>0</th>\n",
       "      <td>12</td>\n",
       "      <td>58</td>\n",
       "      <td>3</td>\n",
       "      <td>3</td>\n",
       "      <td>1</td>\n",
       "      <td>19911</td>\n",
       "      <td>7</td>\n",
       "      <td>1</td>\n",
       "    </tr>\n",
       "    <tr>\n",
       "      <th>1</th>\n",
       "      <td>2</td>\n",
       "      <td>58</td>\n",
       "      <td>2</td>\n",
       "      <td>2</td>\n",
       "      <td>1</td>\n",
       "      <td>21448</td>\n",
       "      <td>11</td>\n",
       "      <td>1</td>\n",
       "    </tr>\n",
       "    <tr>\n",
       "      <th>2</th>\n",
       "      <td>2</td>\n",
       "      <td>11</td>\n",
       "      <td>5</td>\n",
       "      <td>2</td>\n",
       "      <td>3</td>\n",
       "      <td>22732</td>\n",
       "      <td>5</td>\n",
       "      <td>0</td>\n",
       "    </tr>\n",
       "    <tr>\n",
       "      <th>3</th>\n",
       "      <td>2</td>\n",
       "      <td>58</td>\n",
       "      <td>3</td>\n",
       "      <td>3</td>\n",
       "      <td>1</td>\n",
       "      <td>21363</td>\n",
       "      <td>6</td>\n",
       "      <td>1</td>\n",
       "    </tr>\n",
       "    <tr>\n",
       "      <th>4</th>\n",
       "      <td>2</td>\n",
       "      <td>58</td>\n",
       "      <td>3</td>\n",
       "      <td>3</td>\n",
       "      <td>1</td>\n",
       "      <td>18369</td>\n",
       "      <td>7</td>\n",
       "      <td>1</td>\n",
       "    </tr>\n",
       "  </tbody>\n",
       "</table>\n",
       "</div>"
      ],
      "text/plain": [
       "   CI_Cat  CI_Subcat  Impact  Urgency  Category  Handle_Time_hrs  \\\n",
       "0      12         58       3        3         1            19911   \n",
       "1       2         58       2        2         1            21448   \n",
       "2       2         11       5        2         3            22732   \n",
       "3       2         58       3        3         1            21363   \n",
       "4       2         58       3        3         1            18369   \n",
       "\n",
       "   Closure_Code  Priority  \n",
       "0             7         1  \n",
       "1            11         1  \n",
       "2             5         0  \n",
       "3             6         1  \n",
       "4             7         1  "
      ]
     },
     "execution_count": 61,
     "metadata": {},
     "output_type": "execute_result"
    }
   ],
   "source": [
    "data.head()"
   ]
  },
  {
   "cell_type": "code",
   "execution_count": 62,
   "metadata": {},
   "outputs": [
    {
     "data": {
      "text/plain": [
       "Index(['CI_Cat', 'CI_Subcat', 'Impact', 'Urgency', 'Category',\n",
       "       'Handle_Time_hrs', 'Closure_Code', 'Priority'],\n",
       "      dtype='object')"
      ]
     },
     "execution_count": 62,
     "metadata": {},
     "output_type": "execute_result"
    }
   ],
   "source": [
    "data.columns"
   ]
  },
  {
   "cell_type": "markdown",
   "metadata": {},
   "source": [
    "### Model Selection and Building\n"
   ]
  },
  {
   "cell_type": "markdown",
   "metadata": {},
   "source": [
    "##### Defining X and y"
   ]
  },
  {
   "cell_type": "code",
   "execution_count": 63,
   "metadata": {},
   "outputs": [],
   "source": [
    "X = data.iloc[ : , :-1]"
   ]
  },
  {
   "cell_type": "code",
   "execution_count": 64,
   "metadata": {},
   "outputs": [],
   "source": [
    "y = data[\"Priority\"]    #target column \n"
   ]
  },
  {
   "cell_type": "code",
   "execution_count": 65,
   "metadata": {},
   "outputs": [
    {
     "data": {
      "text/html": [
       "<div>\n",
       "<style scoped>\n",
       "    .dataframe tbody tr th:only-of-type {\n",
       "        vertical-align: middle;\n",
       "    }\n",
       "\n",
       "    .dataframe tbody tr th {\n",
       "        vertical-align: top;\n",
       "    }\n",
       "\n",
       "    .dataframe thead th {\n",
       "        text-align: right;\n",
       "    }\n",
       "</style>\n",
       "<table border=\"1\" class=\"dataframe\">\n",
       "  <thead>\n",
       "    <tr style=\"text-align: right;\">\n",
       "      <th></th>\n",
       "      <th>CI_Cat</th>\n",
       "      <th>CI_Subcat</th>\n",
       "      <th>Impact</th>\n",
       "      <th>Urgency</th>\n",
       "      <th>Category</th>\n",
       "      <th>Handle_Time_hrs</th>\n",
       "      <th>Closure_Code</th>\n",
       "    </tr>\n",
       "  </thead>\n",
       "  <tbody>\n",
       "    <tr>\n",
       "      <th>0</th>\n",
       "      <td>12</td>\n",
       "      <td>58</td>\n",
       "      <td>3</td>\n",
       "      <td>3</td>\n",
       "      <td>1</td>\n",
       "      <td>19911</td>\n",
       "      <td>7</td>\n",
       "    </tr>\n",
       "    <tr>\n",
       "      <th>1</th>\n",
       "      <td>2</td>\n",
       "      <td>58</td>\n",
       "      <td>2</td>\n",
       "      <td>2</td>\n",
       "      <td>1</td>\n",
       "      <td>21448</td>\n",
       "      <td>11</td>\n",
       "    </tr>\n",
       "    <tr>\n",
       "      <th>2</th>\n",
       "      <td>2</td>\n",
       "      <td>11</td>\n",
       "      <td>5</td>\n",
       "      <td>2</td>\n",
       "      <td>3</td>\n",
       "      <td>22732</td>\n",
       "      <td>5</td>\n",
       "    </tr>\n",
       "    <tr>\n",
       "      <th>3</th>\n",
       "      <td>2</td>\n",
       "      <td>58</td>\n",
       "      <td>3</td>\n",
       "      <td>3</td>\n",
       "      <td>1</td>\n",
       "      <td>21363</td>\n",
       "      <td>6</td>\n",
       "    </tr>\n",
       "    <tr>\n",
       "      <th>4</th>\n",
       "      <td>2</td>\n",
       "      <td>58</td>\n",
       "      <td>3</td>\n",
       "      <td>3</td>\n",
       "      <td>1</td>\n",
       "      <td>18369</td>\n",
       "      <td>7</td>\n",
       "    </tr>\n",
       "  </tbody>\n",
       "</table>\n",
       "</div>"
      ],
      "text/plain": [
       "   CI_Cat  CI_Subcat  Impact  Urgency  Category  Handle_Time_hrs  Closure_Code\n",
       "0      12         58       3        3         1            19911             7\n",
       "1       2         58       2        2         1            21448            11\n",
       "2       2         11       5        2         3            22732             5\n",
       "3       2         58       3        3         1            21363             6\n",
       "4       2         58       3        3         1            18369             7"
      ]
     },
     "execution_count": 65,
     "metadata": {},
     "output_type": "execute_result"
    }
   ],
   "source": [
    "X.head()"
   ]
  },
  {
   "cell_type": "code",
   "execution_count": 66,
   "metadata": {},
   "outputs": [
    {
     "data": {
      "text/plain": [
       "0    1\n",
       "1    1\n",
       "2    0\n",
       "3    1\n",
       "4    1\n",
       "Name: Priority, dtype: int64"
      ]
     },
     "execution_count": 66,
     "metadata": {},
     "output_type": "execute_result"
    }
   ],
   "source": [
    "y.head()"
   ]
  },
  {
   "cell_type": "markdown",
   "metadata": {},
   "source": [
    "##### Splitting the Data"
   ]
  },
  {
   "cell_type": "code",
   "execution_count": 67,
   "metadata": {},
   "outputs": [],
   "source": [
    "X_train, X_test, y_train, y_test = train_test_split(X,y,random_state=5,test_size=0.3)"
   ]
  },
  {
   "cell_type": "code",
   "execution_count": 68,
   "metadata": {},
   "outputs": [
    {
     "name": "stdout",
     "output_type": "stream",
     "text": [
      "X_train shape (32624, 7)\n",
      "X_test shape (13982, 7)\n",
      "y_train shape (32624,)\n",
      "y_test shape (13982,)\n"
     ]
    }
   ],
   "source": [
    "# shape of train test data\n",
    "print(\"X_train shape\", X_train.shape)\n",
    "print(\"X_test shape\", X_test.shape)\n",
    "print(\"y_train shape\", y_train.shape)\n",
    "print(\"y_test shape\", y_test.shape)"
   ]
  },
  {
   "cell_type": "markdown",
   "metadata": {},
   "source": [
    "##### Handle Imbalance Data"
   ]
  },
  {
   "cell_type": "code",
   "execution_count": 69,
   "metadata": {},
   "outputs": [],
   "source": [
    "from imblearn.over_sampling import SMOTE\n",
    "smote= SMOTE()\n",
    "X_train_smote, y_train_smote = smote.fit_sample(X_train.astype('float'),y_train)"
   ]
  },
  {
   "cell_type": "code",
   "execution_count": 70,
   "metadata": {},
   "outputs": [
    {
     "name": "stdout",
     "output_type": "stream",
     "text": [
      "Counter({1: 31161, 0: 1463})\n",
      "Counter({1: 31161, 0: 31161})\n"
     ]
    }
   ],
   "source": [
    "print(Counter(y_train))\n",
    "print(Counter(y_train_smote))"
   ]
  },
  {
   "cell_type": "code",
   "execution_count": 71,
   "metadata": {},
   "outputs": [
    {
     "name": "stdout",
     "output_type": "stream",
     "text": [
      "X_train Shape Before SMOTE =  (32624, 7)\n",
      "y_train Shape Before SMOTE =  (32624,)\n",
      "X_train Shape After SMOTE =  (62322, 7)\n",
      "y_train Shape After SMOTE =  (62322,)\n"
     ]
    }
   ],
   "source": [
    "# shape of train test data\n",
    "print(\"X_train Shape Before SMOTE = \", X_train.shape)\n",
    "print(\"y_train Shape Before SMOTE = \", y_train.shape)\n",
    "print(\"X_train Shape After SMOTE = \", X_train_smote.shape)\n",
    "print(\"y_train Shape After SMOTE = \", y_train_smote.shape)"
   ]
  },
  {
   "cell_type": "markdown",
   "metadata": {},
   "source": [
    "- Data is balanced"
   ]
  },
  {
   "cell_type": "markdown",
   "metadata": {},
   "source": [
    "##### Creating and Training the Model"
   ]
  },
  {
   "cell_type": "markdown",
   "metadata": {},
   "source": [
    "##### Hyperparameter Tuning Using GridSerchCV"
   ]
  },
  {
   "cell_type": "code",
   "execution_count": 72,
   "metadata": {},
   "outputs": [],
   "source": [
    "from sklearn.model_selection import GridSearchCV\n",
    "from sklearn.ensemble import RandomForestClassifier\n",
    "model = RandomForestClassifier()"
   ]
  },
  {
   "cell_type": "code",
   "execution_count": 73,
   "metadata": {},
   "outputs": [
    {
     "name": "stdout",
     "output_type": "stream",
     "text": [
      "Fitting 2 folds for each of 8 candidates, totalling 16 fits\n"
     ]
    },
    {
     "name": "stderr",
     "output_type": "stream",
     "text": [
      "[Parallel(n_jobs=1)]: Using backend SequentialBackend with 1 concurrent workers.\n",
      "[Parallel(n_jobs=1)]: Done  16 out of  16 | elapsed:  1.9min finished\n"
     ]
    },
    {
     "data": {
      "text/plain": [
       "GridSearchCV(cv=2, estimator=RandomForestClassifier(),\n",
       "             param_grid={'max_depth': [10, 20], 'n_estimators': [200, 500],\n",
       "                         'random_state': [1, 2]},\n",
       "             verbose=True)"
      ]
     },
     "execution_count": 73,
     "metadata": {},
     "output_type": "execute_result"
    }
   ],
   "source": [
    "model=RandomForestClassifier()\n",
    "parameters={'max_depth': [10, 20],\n",
    "           'n_estimators':[200, 500],\n",
    "           'random_state': [1,2]}\n",
    "grid = GridSearchCV(model,parameters,cv=2,verbose=True)\n",
    "grid.fit(X_train_smote,y_train_smote)"
   ]
  },
  {
   "cell_type": "code",
   "execution_count": 74,
   "metadata": {},
   "outputs": [
    {
     "data": {
      "text/plain": [
       "0.999951862905555"
      ]
     },
     "execution_count": 74,
     "metadata": {},
     "output_type": "execute_result"
    }
   ],
   "source": [
    "grid.best_score_"
   ]
  },
  {
   "cell_type": "code",
   "execution_count": 75,
   "metadata": {},
   "outputs": [
    {
     "data": {
      "text/plain": [
       "{'max_depth': 20, 'n_estimators': 200, 'random_state': 1}"
      ]
     },
     "execution_count": 75,
     "metadata": {},
     "output_type": "execute_result"
    }
   ],
   "source": [
    "grid.best_params_"
   ]
  },
  {
   "cell_type": "code",
   "execution_count": 76,
   "metadata": {},
   "outputs": [
    {
     "data": {
      "text/plain": [
       "RandomForestClassifier(max_depth=20, n_estimators=200, random_state=1)"
      ]
     },
     "execution_count": 76,
     "metadata": {},
     "output_type": "execute_result"
    }
   ],
   "source": [
    "grid.best_estimator_"
   ]
  },
  {
   "cell_type": "markdown",
   "metadata": {},
   "source": [
    "- This is Best Parameter For Random Forest Classifier For Model Fitting"
   ]
  },
  {
   "cell_type": "markdown",
   "metadata": {},
   "source": [
    "##### Fitting the Model"
   ]
  },
  {
   "cell_type": "code",
   "execution_count": 77,
   "metadata": {},
   "outputs": [
    {
     "data": {
      "text/plain": [
       "0.9997854384208268"
      ]
     },
     "execution_count": 77,
     "metadata": {},
     "output_type": "execute_result"
    }
   ],
   "source": [
    "model = RandomForestClassifier(max_depth=10, n_estimators=200, random_state=2)\n",
    "model.fit(X_train_smote,y_train_smote)\n",
    "model.score(X_train_smote,y_train_smote)\n",
    "y_predict=model.predict(X_test)\n",
    "accuracy_score(y_test,y_predict)"
   ]
  },
  {
   "cell_type": "markdown",
   "metadata": {},
   "source": [
    "### Model Evaluation :•For Classification Problem"
   ]
  },
  {
   "cell_type": "markdown",
   "metadata": {},
   "source": [
    "##### 1. Accuracy Score"
   ]
  },
  {
   "cell_type": "code",
   "execution_count": 78,
   "metadata": {},
   "outputs": [
    {
     "data": {
      "text/plain": [
       "0.9997854384208268"
      ]
     },
     "execution_count": 78,
     "metadata": {},
     "output_type": "execute_result"
    }
   ],
   "source": [
    "# acuracy score\n",
    "accuracy_score(y_test,y_predict)"
   ]
  },
  {
   "cell_type": "markdown",
   "metadata": {},
   "source": [
    "##### 2. Confusion Matrix"
   ]
  },
  {
   "cell_type": "code",
   "execution_count": 79,
   "metadata": {},
   "outputs": [
    {
     "name": "stdout",
     "output_type": "stream",
     "text": [
      "Counter({1: 13365, 0: 617})\n"
     ]
    },
    {
     "data": {
      "text/html": [
       "<div>\n",
       "<style scoped>\n",
       "    .dataframe tbody tr th:only-of-type {\n",
       "        vertical-align: middle;\n",
       "    }\n",
       "\n",
       "    .dataframe tbody tr th {\n",
       "        vertical-align: top;\n",
       "    }\n",
       "\n",
       "    .dataframe thead th {\n",
       "        text-align: right;\n",
       "    }\n",
       "</style>\n",
       "<table border=\"1\" class=\"dataframe\">\n",
       "  <thead>\n",
       "    <tr style=\"text-align: right;\">\n",
       "      <th>col_0</th>\n",
       "      <th>0</th>\n",
       "      <th>1</th>\n",
       "    </tr>\n",
       "    <tr>\n",
       "      <th>Priority</th>\n",
       "      <th></th>\n",
       "      <th></th>\n",
       "    </tr>\n",
       "  </thead>\n",
       "  <tbody>\n",
       "    <tr>\n",
       "      <th>0</th>\n",
       "      <td>616</td>\n",
       "      <td>1</td>\n",
       "    </tr>\n",
       "    <tr>\n",
       "      <th>1</th>\n",
       "      <td>2</td>\n",
       "      <td>13363</td>\n",
       "    </tr>\n",
       "  </tbody>\n",
       "</table>\n",
       "</div>"
      ],
      "text/plain": [
       "col_0       0      1\n",
       "Priority            \n",
       "0         616      1\n",
       "1           2  13363"
      ]
     },
     "execution_count": 79,
     "metadata": {},
     "output_type": "execute_result"
    }
   ],
   "source": [
    "print(Counter(y_test))\n",
    "pd.crosstab(y_test,y_predict)"
   ]
  },
  {
   "cell_type": "code",
   "execution_count": 80,
   "metadata": {},
   "outputs": [
    {
     "data": {
      "text/plain": [
       "array([[  616,     1],\n",
       "       [    2, 13363]], dtype=int64)"
      ]
     },
     "execution_count": 80,
     "metadata": {},
     "output_type": "execute_result"
    }
   ],
   "source": [
    "confusion_matrix(y_test,y_predict)"
   ]
  },
  {
   "cell_type": "markdown",
   "metadata": {},
   "source": [
    "##### 3. Error Rate"
   ]
  },
  {
   "cell_type": "code",
   "execution_count": 81,
   "metadata": {},
   "outputs": [
    {
     "name": "stdout",
     "output_type": "stream",
     "text": [
      "0.00021456157917322272\n",
      "0.014647920643327596\n"
     ]
    }
   ],
   "source": [
    "# errrors\n",
    "from sklearn.metrics import mean_squared_error\n",
    "import math\n",
    "print(mean_squared_error(y_test,y_predict))\n",
    "print(math.sqrt(mean_squared_error(y_test,y_predict)))"
   ]
  },
  {
   "cell_type": "markdown",
   "metadata": {},
   "source": [
    "#####  4. Precision Score"
   ]
  },
  {
   "cell_type": "code",
   "execution_count": 82,
   "metadata": {},
   "outputs": [
    {
     "name": "stdout",
     "output_type": "stream",
     "text": [
      "Precision: 1.000\n"
     ]
    }
   ],
   "source": [
    "from sklearn.metrics import precision_score, recall_score, f1_score, classification_report\n",
    "# Precision \n",
    "print('Precision: %.3f' % precision_score(y_test,y_predict))"
   ]
  },
  {
   "cell_type": "markdown",
   "metadata": {},
   "source": [
    "##### 5. Recall Score"
   ]
  },
  {
   "cell_type": "code",
   "execution_count": 83,
   "metadata": {},
   "outputs": [
    {
     "name": "stdout",
     "output_type": "stream",
     "text": [
      "Recall: 1.000\n"
     ]
    }
   ],
   "source": [
    "# Recall \n",
    "print('Recall: %.3f' % recall_score(y_test,y_predict))"
   ]
  },
  {
   "cell_type": "markdown",
   "metadata": {},
   "source": [
    "##### 6. F1 Score"
   ]
  },
  {
   "cell_type": "code",
   "execution_count": 84,
   "metadata": {},
   "outputs": [
    {
     "name": "stdout",
     "output_type": "stream",
     "text": [
      "F1_score: 1.000\n"
     ]
    }
   ],
   "source": [
    "# F1_score \n",
    "print('F1_score: %.3f' % f1_score(y_test,y_predict))"
   ]
  },
  {
   "cell_type": "markdown",
   "metadata": {},
   "source": [
    "##### 7. Evaluating Precision, recall,F1 score matrix"
   ]
  },
  {
   "cell_type": "code",
   "execution_count": 85,
   "metadata": {},
   "outputs": [
    {
     "name": "stdout",
     "output_type": "stream",
     "text": [
      "              precision    recall  f1-score   support\n",
      "\n",
      "           0       1.00      1.00      1.00       617\n",
      "           1       1.00      1.00      1.00     13365\n",
      "\n",
      "    accuracy                           1.00     13982\n",
      "   macro avg       1.00      1.00      1.00     13982\n",
      "weighted avg       1.00      1.00      1.00     13982\n",
      "\n"
     ]
    }
   ],
   "source": [
    "print(classification_report(y_test,y_predict))"
   ]
  },
  {
   "cell_type": "markdown",
   "metadata": {},
   "source": [
    "##### 9. ROC AUC Score & Curve"
   ]
  },
  {
   "cell_type": "code",
   "execution_count": 86,
   "metadata": {},
   "outputs": [
    {
     "data": {
      "text/plain": [
       "array([1, 1, 1, ..., 1, 1, 1], dtype=int64)"
      ]
     },
     "execution_count": 86,
     "metadata": {},
     "output_type": "execute_result"
    }
   ],
   "source": [
    "model.predict(X_test)"
   ]
  },
  {
   "cell_type": "code",
   "execution_count": 87,
   "metadata": {},
   "outputs": [
    {
     "data": {
      "text/plain": [
       "array([[2.96313888e-04, 9.99703686e-01],\n",
       "       [0.00000000e+00, 1.00000000e+00],\n",
       "       [3.52264729e-04, 9.99647735e-01],\n",
       "       ...,\n",
       "       [2.88173069e-04, 9.99711827e-01],\n",
       "       [6.96296335e-04, 9.99303704e-01],\n",
       "       [0.00000000e+00, 1.00000000e+00]])"
      ]
     },
     "execution_count": 87,
     "metadata": {},
     "output_type": "execute_result"
    }
   ],
   "source": [
    "model.predict_proba(X_test)"
   ]
  },
  {
   "cell_type": "code",
   "execution_count": 88,
   "metadata": {},
   "outputs": [],
   "source": [
    "y_predict_th2 = np.where(model.predict_proba(X_test)[:,1]>0.2,1,0) # Threshold is 0.2\n",
    "y_predict_th3 = np.where(model.predict_proba(X_test)[:,1]>0.3,1,0) # Threshold is 0.3\n",
    "y_predict_th4 = np.where(model.predict_proba(X_test)[:,1]>0.4,1,0) # Threshold is 0.4"
   ]
  },
  {
   "cell_type": "code",
   "execution_count": 89,
   "metadata": {},
   "outputs": [
    {
     "data": {
      "text/html": [
       "<div>\n",
       "<style scoped>\n",
       "    .dataframe tbody tr th:only-of-type {\n",
       "        vertical-align: middle;\n",
       "    }\n",
       "\n",
       "    .dataframe tbody tr th {\n",
       "        vertical-align: top;\n",
       "    }\n",
       "\n",
       "    .dataframe thead th {\n",
       "        text-align: right;\n",
       "    }\n",
       "</style>\n",
       "<table border=\"1\" class=\"dataframe\">\n",
       "  <thead>\n",
       "    <tr style=\"text-align: right;\">\n",
       "      <th>col_0</th>\n",
       "      <th>0</th>\n",
       "      <th>1</th>\n",
       "    </tr>\n",
       "    <tr>\n",
       "      <th>Priority</th>\n",
       "      <th></th>\n",
       "      <th></th>\n",
       "    </tr>\n",
       "  </thead>\n",
       "  <tbody>\n",
       "    <tr>\n",
       "      <th>0</th>\n",
       "      <td>616</td>\n",
       "      <td>1</td>\n",
       "    </tr>\n",
       "    <tr>\n",
       "      <th>1</th>\n",
       "      <td>2</td>\n",
       "      <td>13363</td>\n",
       "    </tr>\n",
       "  </tbody>\n",
       "</table>\n",
       "</div>"
      ],
      "text/plain": [
       "col_0       0      1\n",
       "Priority            \n",
       "0         616      1\n",
       "1           2  13363"
      ]
     },
     "execution_count": 89,
     "metadata": {},
     "output_type": "execute_result"
    }
   ],
   "source": [
    "pd.crosstab(y_test,y_predict_th4)"
   ]
  },
  {
   "cell_type": "code",
   "execution_count": 90,
   "metadata": {},
   "outputs": [],
   "source": [
    "def predict_threshold (model,X_test,thresholds):\n",
    "    import numpy as np\n",
    "    return np.where(model.predict_proba(X_test)[:,1]>thresholds,1,0) # Threshold is 0.3"
   ]
  },
  {
   "cell_type": "code",
   "execution_count": 91,
   "metadata": {},
   "outputs": [
    {
     "name": "stdout",
     "output_type": "stream",
     "text": [
      "Threshold : 0.0\n",
      "[[   11   606]\n",
      " [    0 13365]]\n",
      "Threshold : 0.1\n",
      "[[  611     6]\n",
      " [    0 13365]]\n",
      "Threshold : 0.2\n",
      "[[  616     1]\n",
      " [    0 13365]]\n",
      "Threshold : 0.30000000000000004\n",
      "[[  616     1]\n",
      " [    2 13363]]\n",
      "Threshold : 0.4\n",
      "[[  616     1]\n",
      " [    2 13363]]\n",
      "Threshold : 0.5\n",
      "[[  616     1]\n",
      " [    2 13363]]\n",
      "Threshold : 0.6000000000000001\n",
      "[[  617     0]\n",
      " [    3 13362]]\n",
      "Threshold : 0.7000000000000001\n",
      "[[  617     0]\n",
      " [    5 13360]]\n",
      "Threshold : 0.8\n",
      "[[  617     0]\n",
      " [    6 13359]]\n",
      "Threshold : 0.9\n",
      "[[  617     0]\n",
      " [   35 13330]]\n",
      "Threshold : 1.0\n",
      "[[  617     0]\n",
      " [13365     0]]\n"
     ]
    }
   ],
   "source": [
    "# thresholds\n",
    "for thr in np.arange(0,1.1,0.1):\n",
    "    y_predict = predict_threshold(model,X_test,thr)\n",
    "    print(\"Threshold :\",thr)\n",
    "    print(confusion_matrix(y_test,y_predict))"
   ]
  },
  {
   "cell_type": "code",
   "execution_count": 92,
   "metadata": {},
   "outputs": [],
   "source": [
    "from sklearn.metrics import roc_curve, roc_auc_score,auc\n",
    "from sklearn.preprocessing import label_binarize"
   ]
  },
  {
   "cell_type": "code",
   "execution_count": 93,
   "metadata": {},
   "outputs": [
    {
     "name": "stdout",
     "output_type": "stream",
     "text": [
      "[[1]\n",
      " [1]\n",
      " [0]\n",
      " ...\n",
      " [1]\n",
      " [1]\n",
      " [1]]\n"
     ]
    }
   ],
   "source": [
    "probs = model.predict_proba(X_test)\n",
    "y_score = probs\n",
    "y=label_binarize(y, classes=[0,1])\n",
    "print(y)"
   ]
  },
  {
   "cell_type": "code",
   "execution_count": 94,
   "metadata": {},
   "outputs": [],
   "source": [
    "fpr = {}\n",
    "tpr = {}\n",
    "threshold = {}\n",
    "roc_auc_score = {}"
   ]
  },
  {
   "cell_type": "code",
   "execution_count": 95,
   "metadata": {},
   "outputs": [],
   "source": [
    "for i in range(0,2):\n",
    "    fpr[i], tpr[i],threshold[i] = roc_curve(y_test,y_score[:,i], pos_label=i)\n",
    "    roc_auc_score = auc(fpr[i],tpr[i])"
   ]
  },
  {
   "cell_type": "code",
   "execution_count": 96,
   "metadata": {},
   "outputs": [
    {
     "name": "stdout",
     "output_type": "stream",
     "text": [
      "0.9999997574641912\n"
     ]
    }
   ],
   "source": [
    "print(roc_auc_score)"
   ]
  },
  {
   "cell_type": "code",
   "execution_count": 97,
   "metadata": {},
   "outputs": [
    {
     "data": {
      "text/plain": [
       "{0: array([0.        , 0.        , 0.        , ..., 0.86217733, 0.89517396,\n",
       "        1.        ]),\n",
       " 1: array([0.        , 0.        , 0.        , ..., 0.98055105, 0.9821718 ,\n",
       "        1.        ])}"
      ]
     },
     "execution_count": 97,
     "metadata": {},
     "output_type": "execute_result"
    }
   ],
   "source": [
    "fpr"
   ]
  },
  {
   "cell_type": "code",
   "execution_count": 98,
   "metadata": {},
   "outputs": [
    {
     "data": {
      "text/plain": [
       "{0: array([0.        , 0.0178282 , 0.01944895, ..., 1.        , 1.        ,\n",
       "        1.        ]),\n",
       " 1: array([0.        , 0.10482604, 0.13782267, ..., 1.        , 1.        ,\n",
       "        1.        ])}"
      ]
     },
     "execution_count": 98,
     "metadata": {},
     "output_type": "execute_result"
    }
   ],
   "source": [
    "tpr"
   ]
  },
  {
   "cell_type": "code",
   "execution_count": 99,
   "metadata": {},
   "outputs": [
    {
     "data": {
      "text/plain": [
       "{0: array([2.00000000e+00, 1.00000000e+00, 9.99819072e-01, ...,\n",
       "        2.43072436e-06, 1.88323917e-06, 0.00000000e+00]),\n",
       " 1: array([2.00000000e+00, 1.00000000e+00, 9.99998117e-01, ...,\n",
       "        2.91031538e-04, 1.80927818e-04, 0.00000000e+00])}"
      ]
     },
     "execution_count": 99,
     "metadata": {},
     "output_type": "execute_result"
    }
   ],
   "source": [
    "threshold"
   ]
  },
  {
   "cell_type": "code",
   "execution_count": 100,
   "metadata": {},
   "outputs": [
    {
     "data": {
      "image/png": "[encoded data removed]",
      "text/plain": [
       "<Figure size 432x288 with 1 Axes>"
      ]
     },
     "metadata": {
      "needs_background": "light"
     },
     "output_type": "display_data"
    }
   ],
   "source": [
    "# plot of ROC curve\n",
    "plt.plot(fpr[0], tpr[0], linestyle='--',color='red', label='Class 0 vs Rest') \n",
    "plt.plot(fpr[1], tpr[1], linestyle='--',color='green', label='Class 1 vs Rest')\n",
    "plt.plot([0, 1], [0, 1], color='blue', linestyle='--')\n",
    "plt.title('Multiclass ROC curve for ITSM Ticket Portal') \n",
    "plt.xlabel('False Positive Rate') \n",
    "plt.ylabel('True Positive rate') \n",
    "plt.legend(loc='best') \n",
    "plt.savefig('Multiclass ROC',dpi=500);"
   ]
  },
  {
   "cell_type": "markdown",
   "metadata": {},
   "source": [
    "### Time Series Forcasting"
   ]
  },
  {
   "cell_type": "code",
   "execution_count": 101,
   "metadata": {},
   "outputs": [
    {
     "data": {
      "text/plain": [
       "Index(['CI_Name', 'CI_Cat', 'CI_Subcat', 'WBS', 'Incident_ID', 'Status',\n",
       "       'Impact', 'Urgency', 'Priority', 'number_cnt', 'Category', 'KB_number',\n",
       "       'Alert_Status', 'No_of_Reassignments', 'Open_Time', 'Reopen_Time',\n",
       "       'Resolved_Time', 'Close_Time', 'Handle_Time_hrs', 'Closure_Code',\n",
       "       'No_of_Related_Interactions', 'Related_Interaction',\n",
       "       'No_of_Related_Incidents', 'No_of_Related_Changes', 'Related_Change'],\n",
       "      dtype='object')"
      ]
     },
     "execution_count": 101,
     "metadata": {},
     "output_type": "execute_result"
    }
   ],
   "source": [
    "data1.columns"
   ]
  },
  {
   "cell_type": "code",
   "execution_count": 102,
   "metadata": {
    "scrolled": true
   },
   "outputs": [
    {
     "name": "stdout",
     "output_type": "stream",
     "text": [
      "<class 'pandas.core.frame.DataFrame'>\n",
      "RangeIndex: 46606 entries, 0 to 46605\n",
      "Data columns (total 25 columns):\n",
      " #   Column                      Non-Null Count  Dtype \n",
      "---  ------                      --------------  ----- \n",
      " 0   CI_Name                     46606 non-null  object\n",
      " 1   CI_Cat                      46606 non-null  object\n",
      " 2   CI_Subcat                   46606 non-null  object\n",
      " 3   WBS                         46606 non-null  object\n",
      " 4   Incident_ID                 46606 non-null  object\n",
      " 5   Status                      46606 non-null  object\n",
      " 6   Impact                      46606 non-null  object\n",
      " 7   Urgency                     46606 non-null  object\n",
      " 8   Priority                    46606 non-null  object\n",
      " 9   number_cnt                  46606 non-null  object\n",
      " 10  Category                    46606 non-null  object\n",
      " 11  KB_number                   46606 non-null  object\n",
      " 12  Alert_Status                46606 non-null  object\n",
      " 13  No_of_Reassignments         46606 non-null  object\n",
      " 14  Open_Time                   46606 non-null  object\n",
      " 15  Reopen_Time                 46606 non-null  object\n",
      " 16  Resolved_Time               46606 non-null  object\n",
      " 17  Close_Time                  46606 non-null  object\n",
      " 18  Handle_Time_hrs             46606 non-null  object\n",
      " 19  Closure_Code                46606 non-null  object\n",
      " 20  No_of_Related_Interactions  46606 non-null  object\n",
      " 21  Related_Interaction         46606 non-null  object\n",
      " 22  No_of_Related_Incidents     46606 non-null  object\n",
      " 23  No_of_Related_Changes       46606 non-null  object\n",
      " 24  Related_Change              46606 non-null  object\n",
      "dtypes: object(25)\n",
      "memory usage: 8.9+ MB\n"
     ]
    }
   ],
   "source": [
    "data1.info()"
   ]
  },
  {
   "cell_type": "code",
   "execution_count": 103,
   "metadata": {},
   "outputs": [],
   "source": [
    "# Imporing the necessary columns\n",
    "itsm= data1.loc[:,['Incident_ID','Open_Time']]"
   ]
  },
  {
   "cell_type": "code",
   "execution_count": 104,
   "metadata": {},
   "outputs": [
    {
     "data": {
      "text/html": [
       "<div>\n",
       "<style scoped>\n",
       "    .dataframe tbody tr th:only-of-type {\n",
       "        vertical-align: middle;\n",
       "    }\n",
       "\n",
       "    .dataframe tbody tr th {\n",
       "        vertical-align: top;\n",
       "    }\n",
       "\n",
       "    .dataframe thead th {\n",
       "        text-align: right;\n",
       "    }\n",
       "</style>\n",
       "<table border=\"1\" class=\"dataframe\">\n",
       "  <thead>\n",
       "    <tr style=\"text-align: right;\">\n",
       "      <th></th>\n",
       "      <th>Incident_ID</th>\n",
       "      <th>Open_Time</th>\n",
       "    </tr>\n",
       "  </thead>\n",
       "  <tbody>\n",
       "    <tr>\n",
       "      <th>0</th>\n",
       "      <td>IM0000004</td>\n",
       "      <td>05-02-2012 13:32</td>\n",
       "    </tr>\n",
       "    <tr>\n",
       "      <th>1</th>\n",
       "      <td>IM0000005</td>\n",
       "      <td>12-03-2012 15:44</td>\n",
       "    </tr>\n",
       "    <tr>\n",
       "      <th>2</th>\n",
       "      <td>IM0000006</td>\n",
       "      <td>29-03-2012 12:36</td>\n",
       "    </tr>\n",
       "    <tr>\n",
       "      <th>3</th>\n",
       "      <td>IM0000011</td>\n",
       "      <td>17-07-2012 11:49</td>\n",
       "    </tr>\n",
       "    <tr>\n",
       "      <th>4</th>\n",
       "      <td>IM0000012</td>\n",
       "      <td>10-08-2012 11:01</td>\n",
       "    </tr>\n",
       "    <tr>\n",
       "      <th>...</th>\n",
       "      <td>...</td>\n",
       "      <td>...</td>\n",
       "    </tr>\n",
       "    <tr>\n",
       "      <th>46601</th>\n",
       "      <td>IM0047053</td>\n",
       "      <td>31-03-2014 16:23</td>\n",
       "    </tr>\n",
       "    <tr>\n",
       "      <th>46602</th>\n",
       "      <td>IM0047054</td>\n",
       "      <td>31-03-2014 15:03</td>\n",
       "    </tr>\n",
       "    <tr>\n",
       "      <th>46603</th>\n",
       "      <td>IM0047055</td>\n",
       "      <td>31-03-2014 15:28</td>\n",
       "    </tr>\n",
       "    <tr>\n",
       "      <th>46604</th>\n",
       "      <td>IM0047056</td>\n",
       "      <td>31-03-2014 15:35</td>\n",
       "    </tr>\n",
       "    <tr>\n",
       "      <th>46605</th>\n",
       "      <td>IM0047057</td>\n",
       "      <td>31-03-2014 17:24</td>\n",
       "    </tr>\n",
       "  </tbody>\n",
       "</table>\n",
       "<p>46606 rows × 2 columns</p>\n",
       "</div>"
      ],
      "text/plain": [
       "      Incident_ID         Open_Time\n",
       "0       IM0000004  05-02-2012 13:32\n",
       "1       IM0000005  12-03-2012 15:44\n",
       "2       IM0000006  29-03-2012 12:36\n",
       "3       IM0000011  17-07-2012 11:49\n",
       "4       IM0000012  10-08-2012 11:01\n",
       "...           ...               ...\n",
       "46601   IM0047053  31-03-2014 16:23\n",
       "46602   IM0047054  31-03-2014 15:03\n",
       "46603   IM0047055  31-03-2014 15:28\n",
       "46604   IM0047056  31-03-2014 15:35\n",
       "46605   IM0047057  31-03-2014 17:24\n",
       "\n",
       "[46606 rows x 2 columns]"
      ]
     },
     "execution_count": 104,
     "metadata": {},
     "output_type": "execute_result"
    }
   ],
   "source": [
    "# Imporing the necessary columns\n",
    "itsm = itsm.loc[:,['Incident_ID','Open_Time']]\n",
    "itsm"
   ]
  },
  {
   "cell_type": "markdown",
   "metadata": {},
   "source": [
    "- Important Columns for time sereis "
   ]
  },
  {
   "cell_type": "code",
   "execution_count": 105,
   "metadata": {
    "scrolled": true
   },
   "outputs": [],
   "source": [
    "import datetime as dt"
   ]
  },
  {
   "cell_type": "markdown",
   "metadata": {},
   "source": [
    "- All the values Coverting in proper Datetime format"
   ]
  },
  {
   "cell_type": "code",
   "execution_count": 106,
   "metadata": {},
   "outputs": [],
   "source": [
    "for i in range(len(itsm.Open_Time)):\n",
    "    if (itsm.Open_Time[i][1]=='/'):\n",
    "        itsm.Open_Time[i] = dt.datetime.strptime(itsm.Open_Time[i],'%d/%m/%Y %H:%M').date()\n",
    "    elif (itsm.Open_Time[i][2]=='/'):\n",
    "        itsm.Open_Time[i] = dt.datetime.strptime(itsm.Open_Time[i],'%d/%m/%Y %H:%M').date()\n",
    "    else:\n",
    "        itsm.Open_Time[i] = dt.datetime.strptime(itsm.Open_Time[i],'%d-%m-%Y %H:%M').date()"
   ]
  },
  {
   "cell_type": "code",
   "execution_count": 107,
   "metadata": {},
   "outputs": [
    {
     "data": {
      "text/html": [
       "<div>\n",
       "<style scoped>\n",
       "    .dataframe tbody tr th:only-of-type {\n",
       "        vertical-align: middle;\n",
       "    }\n",
       "\n",
       "    .dataframe tbody tr th {\n",
       "        vertical-align: top;\n",
       "    }\n",
       "\n",
       "    .dataframe thead th {\n",
       "        text-align: right;\n",
       "    }\n",
       "</style>\n",
       "<table border=\"1\" class=\"dataframe\">\n",
       "  <thead>\n",
       "    <tr style=\"text-align: right;\">\n",
       "      <th></th>\n",
       "      <th>Incident_ID</th>\n",
       "      <th>Open_Time</th>\n",
       "    </tr>\n",
       "  </thead>\n",
       "  <tbody>\n",
       "    <tr>\n",
       "      <th>0</th>\n",
       "      <td>IM0000004</td>\n",
       "      <td>2012-02-05</td>\n",
       "    </tr>\n",
       "    <tr>\n",
       "      <th>1</th>\n",
       "      <td>IM0000005</td>\n",
       "      <td>2012-03-12</td>\n",
       "    </tr>\n",
       "    <tr>\n",
       "      <th>2</th>\n",
       "      <td>IM0000006</td>\n",
       "      <td>2012-03-29</td>\n",
       "    </tr>\n",
       "    <tr>\n",
       "      <th>3</th>\n",
       "      <td>IM0000011</td>\n",
       "      <td>2012-07-17</td>\n",
       "    </tr>\n",
       "    <tr>\n",
       "      <th>4</th>\n",
       "      <td>IM0000012</td>\n",
       "      <td>2012-08-10</td>\n",
       "    </tr>\n",
       "  </tbody>\n",
       "</table>\n",
       "</div>"
      ],
      "text/plain": [
       "  Incident_ID   Open_Time\n",
       "0   IM0000004  2012-02-05\n",
       "1   IM0000005  2012-03-12\n",
       "2   IM0000006  2012-03-29\n",
       "3   IM0000011  2012-07-17\n",
       "4   IM0000012  2012-08-10"
      ]
     },
     "execution_count": 107,
     "metadata": {},
     "output_type": "execute_result"
    }
   ],
   "source": [
    "itsm.head()"
   ]
  },
  {
   "cell_type": "markdown",
   "metadata": {},
   "source": [
    "- Adding a new column which will have the number of tickets per day"
   ]
  },
  {
   "cell_type": "code",
   "execution_count": 108,
   "metadata": {},
   "outputs": [],
   "source": [
    "itsm['No_incidents'] = itsm.groupby('Open_Time')['Incident_ID'].transform('count')"
   ]
  },
  {
   "cell_type": "code",
   "execution_count": 109,
   "metadata": {},
   "outputs": [],
   "source": [
    "itsm.drop(['Incident_ID'],axis=1,inplace=True)\n",
    "itsm.drop_duplicates(inplace=True)"
   ]
  },
  {
   "cell_type": "code",
   "execution_count": 110,
   "metadata": {},
   "outputs": [
    {
     "data": {
      "text/html": [
       "<div>\n",
       "<style scoped>\n",
       "    .dataframe tbody tr th:only-of-type {\n",
       "        vertical-align: middle;\n",
       "    }\n",
       "\n",
       "    .dataframe tbody tr th {\n",
       "        vertical-align: top;\n",
       "    }\n",
       "\n",
       "    .dataframe thead th {\n",
       "        text-align: right;\n",
       "    }\n",
       "</style>\n",
       "<table border=\"1\" class=\"dataframe\">\n",
       "  <thead>\n",
       "    <tr style=\"text-align: right;\">\n",
       "      <th></th>\n",
       "      <th>Open_Time</th>\n",
       "      <th>No_incidents</th>\n",
       "    </tr>\n",
       "  </thead>\n",
       "  <tbody>\n",
       "    <tr>\n",
       "      <th>0</th>\n",
       "      <td>2012-02-05</td>\n",
       "      <td>1</td>\n",
       "    </tr>\n",
       "    <tr>\n",
       "      <th>1</th>\n",
       "      <td>2012-03-12</td>\n",
       "      <td>1</td>\n",
       "    </tr>\n",
       "    <tr>\n",
       "      <th>2</th>\n",
       "      <td>2012-03-29</td>\n",
       "      <td>1</td>\n",
       "    </tr>\n",
       "    <tr>\n",
       "      <th>3</th>\n",
       "      <td>2012-07-17</td>\n",
       "      <td>1</td>\n",
       "    </tr>\n",
       "    <tr>\n",
       "      <th>4</th>\n",
       "      <td>2012-08-10</td>\n",
       "      <td>2</td>\n",
       "    </tr>\n",
       "  </tbody>\n",
       "</table>\n",
       "</div>"
      ],
      "text/plain": [
       "    Open_Time  No_incidents\n",
       "0  2012-02-05             1\n",
       "1  2012-03-12             1\n",
       "2  2012-03-29             1\n",
       "3  2012-07-17             1\n",
       "4  2012-08-10             2"
      ]
     },
     "execution_count": 110,
     "metadata": {},
     "output_type": "execute_result"
    }
   ],
   "source": [
    "itsm.head()"
   ]
  },
  {
   "cell_type": "code",
   "execution_count": 111,
   "metadata": {},
   "outputs": [
    {
     "data": {
      "text/plain": [
       "(331, 2)"
      ]
     },
     "execution_count": 111,
     "metadata": {},
     "output_type": "execute_result"
    }
   ],
   "source": [
    "itsm.shape"
   ]
  },
  {
   "cell_type": "markdown",
   "metadata": {},
   "source": [
    "- Setting date as the index"
   ]
  },
  {
   "cell_type": "code",
   "execution_count": 112,
   "metadata": {},
   "outputs": [
    {
     "data": {
      "text/plain": [
       "DatetimeIndex(['2012-02-05', '2012-03-12', '2012-03-29', '2012-07-17',\n",
       "               '2012-08-10', '2012-08-15', '2012-08-22', '2012-08-29',\n",
       "               '2012-09-03', '2012-09-21',\n",
       "               ...\n",
       "               '2014-03-22', '2014-03-24', '2014-03-23', '2014-03-25',\n",
       "               '2014-03-26', '2014-03-27', '2014-03-28', '2014-03-29',\n",
       "               '2014-03-30', '2014-03-31'],\n",
       "              dtype='datetime64[ns]', name='Open_Time', length=331, freq=None)"
      ]
     },
     "execution_count": 112,
     "metadata": {},
     "output_type": "execute_result"
    }
   ],
   "source": [
    "itsm = itsm.set_index('Open_Time')\n",
    "itsm.index = pd.to_datetime(itsm.index)\n",
    "itsm.index"
   ]
  },
  {
   "cell_type": "code",
   "execution_count": 113,
   "metadata": {},
   "outputs": [
    {
     "data": {
      "text/html": [
       "<div>\n",
       "<style scoped>\n",
       "    .dataframe tbody tr th:only-of-type {\n",
       "        vertical-align: middle;\n",
       "    }\n",
       "\n",
       "    .dataframe tbody tr th {\n",
       "        vertical-align: top;\n",
       "    }\n",
       "\n",
       "    .dataframe thead th {\n",
       "        text-align: right;\n",
       "    }\n",
       "</style>\n",
       "<table border=\"1\" class=\"dataframe\">\n",
       "  <thead>\n",
       "    <tr style=\"text-align: right;\">\n",
       "      <th></th>\n",
       "      <th>No_incidents</th>\n",
       "    </tr>\n",
       "    <tr>\n",
       "      <th>Open_Time</th>\n",
       "      <th></th>\n",
       "    </tr>\n",
       "  </thead>\n",
       "  <tbody>\n",
       "    <tr>\n",
       "      <th>2012-02-05</th>\n",
       "      <td>1</td>\n",
       "    </tr>\n",
       "    <tr>\n",
       "      <th>2012-03-12</th>\n",
       "      <td>1</td>\n",
       "    </tr>\n",
       "    <tr>\n",
       "      <th>2012-03-29</th>\n",
       "      <td>1</td>\n",
       "    </tr>\n",
       "    <tr>\n",
       "      <th>2012-07-17</th>\n",
       "      <td>1</td>\n",
       "    </tr>\n",
       "    <tr>\n",
       "      <th>2012-08-10</th>\n",
       "      <td>2</td>\n",
       "    </tr>\n",
       "  </tbody>\n",
       "</table>\n",
       "</div>"
      ],
      "text/plain": [
       "            No_incidents\n",
       "Open_Time               \n",
       "2012-02-05             1\n",
       "2012-03-12             1\n",
       "2012-03-29             1\n",
       "2012-07-17             1\n",
       "2012-08-10             2"
      ]
     },
     "execution_count": 113,
     "metadata": {},
     "output_type": "execute_result"
    }
   ],
   "source": [
    "itsm.head()"
   ]
  },
  {
   "cell_type": "code",
   "execution_count": 114,
   "metadata": {},
   "outputs": [
    {
     "name": "stdout",
     "output_type": "stream",
     "text": [
      "2012-02-05 00:00:00 to 2014-03-31 00:00:00\n"
     ]
    }
   ],
   "source": [
    "# Checking range of dates for our values\n",
    "print(itsm.index.min(),'to',itsm.index.max())"
   ]
  },
  {
   "cell_type": "markdown",
   "metadata": {},
   "source": [
    "- Range of dates"
   ]
  },
  {
   "cell_type": "markdown",
   "metadata": {},
   "source": [
    "- Making a new Series with frequency as Day"
   ]
  },
  {
   "cell_type": "code",
   "execution_count": 115,
   "metadata": {},
   "outputs": [
    {
     "data": {
      "text/plain": [
       "DatetimeIndex(['2012-02-05', '2012-02-06', '2012-02-07', '2012-02-08',\n",
       "               '2012-02-09', '2012-02-10', '2012-02-11', '2012-02-12',\n",
       "               '2012-02-13', '2012-02-14',\n",
       "               ...\n",
       "               '2014-03-22', '2014-03-23', '2014-03-24', '2014-03-25',\n",
       "               '2014-03-26', '2014-03-27', '2014-03-28', '2014-03-29',\n",
       "               '2014-03-30', '2014-03-31'],\n",
       "              dtype='datetime64[ns]', name='Open_Time', length=786, freq='D')"
      ]
     },
     "execution_count": 115,
     "metadata": {},
     "output_type": "execute_result"
    }
   ],
   "source": [
    "data = itsm['No_incidents']\n",
    "data = data.asfreq('D')\n",
    "data.index"
   ]
  },
  {
   "cell_type": "code",
   "execution_count": 116,
   "metadata": {},
   "outputs": [
    {
     "data": {
      "text/plain": [
       "Open_Time\n",
       "2012-02-05    1.0\n",
       "2012-02-06    NaN\n",
       "2012-02-07    NaN\n",
       "2012-02-08    NaN\n",
       "2012-02-09    NaN\n",
       "Freq: D, Name: No_incidents, dtype: float64"
      ]
     },
     "execution_count": 116,
     "metadata": {},
     "output_type": "execute_result"
    }
   ],
   "source": [
    "data.head()"
   ]
  },
  {
   "cell_type": "markdown",
   "metadata": {},
   "source": [
    "- Plotting number of tickets per day"
   ]
  },
  {
   "cell_type": "code",
   "execution_count": 117,
   "metadata": {},
   "outputs": [
    {
     "data": {
      "image/png": "[encoded data removed]",
      "text/plain": [
       "<Figure size 1080x432 with 1 Axes>"
      ]
     },
     "metadata": {
      "needs_background": "light"
     },
     "output_type": "display_data"
    }
   ],
   "source": [
    "data.plot(figsize=(15,6))\n",
    "plt.show()"
   ]
  },
  {
   "cell_type": "markdown",
   "metadata": {},
   "source": [
    "- Since not many tickets before October 2013, we consider only the latter values"
   ]
  },
  {
   "cell_type": "code",
   "execution_count": 118,
   "metadata": {},
   "outputs": [],
   "source": [
    "from2013 = itsm[itsm.index > dt.datetime(2013,10,1)]"
   ]
  },
  {
   "cell_type": "code",
   "execution_count": 119,
   "metadata": {},
   "outputs": [
    {
     "data": {
      "text/html": [
       "<div>\n",
       "<style scoped>\n",
       "    .dataframe tbody tr th:only-of-type {\n",
       "        vertical-align: middle;\n",
       "    }\n",
       "\n",
       "    .dataframe tbody tr th {\n",
       "        vertical-align: top;\n",
       "    }\n",
       "\n",
       "    .dataframe thead th {\n",
       "        text-align: right;\n",
       "    }\n",
       "</style>\n",
       "<table border=\"1\" class=\"dataframe\">\n",
       "  <thead>\n",
       "    <tr style=\"text-align: right;\">\n",
       "      <th></th>\n",
       "      <th>No_incidents</th>\n",
       "    </tr>\n",
       "    <tr>\n",
       "      <th>Open_Time</th>\n",
       "      <th></th>\n",
       "    </tr>\n",
       "  </thead>\n",
       "  <tbody>\n",
       "    <tr>\n",
       "      <th>2013-10-02</th>\n",
       "      <td>412</td>\n",
       "    </tr>\n",
       "    <tr>\n",
       "      <th>2013-10-03</th>\n",
       "      <td>455</td>\n",
       "    </tr>\n",
       "    <tr>\n",
       "      <th>2013-10-04</th>\n",
       "      <td>345</td>\n",
       "    </tr>\n",
       "    <tr>\n",
       "      <th>2013-10-07</th>\n",
       "      <td>456</td>\n",
       "    </tr>\n",
       "    <tr>\n",
       "      <th>2013-10-05</th>\n",
       "      <td>6</td>\n",
       "    </tr>\n",
       "  </tbody>\n",
       "</table>\n",
       "</div>"
      ],
      "text/plain": [
       "            No_incidents\n",
       "Open_Time               \n",
       "2013-10-02           412\n",
       "2013-10-03           455\n",
       "2013-10-04           345\n",
       "2013-10-07           456\n",
       "2013-10-05             6"
      ]
     },
     "execution_count": 119,
     "metadata": {},
     "output_type": "execute_result"
    }
   ],
   "source": [
    "from2013.head()"
   ]
  },
  {
   "cell_type": "markdown",
   "metadata": {},
   "source": [
    "- Taking New series which have tickets after October 2013"
   ]
  },
  {
   "cell_type": "code",
   "execution_count": 120,
   "metadata": {},
   "outputs": [
    {
     "data": {
      "text/plain": [
       "DatetimeIndex(['2013-10-02', '2013-10-03', '2013-10-04', '2013-10-05',\n",
       "               '2013-10-06', '2013-10-07', '2013-10-08', '2013-10-09',\n",
       "               '2013-10-10', '2013-10-11',\n",
       "               ...\n",
       "               '2014-03-22', '2014-03-23', '2014-03-24', '2014-03-25',\n",
       "               '2014-03-26', '2014-03-27', '2014-03-28', '2014-03-29',\n",
       "               '2014-03-30', '2014-03-31'],\n",
       "              dtype='datetime64[ns]', name='Open_Time', length=181, freq='D')"
      ]
     },
     "execution_count": 120,
     "metadata": {},
     "output_type": "execute_result"
    }
   ],
   "source": [
    "# new Series\n",
    "data = from2013['No_incidents']\n",
    "data = data.asfreq('D')\n",
    "data.index"
   ]
  },
  {
   "cell_type": "code",
   "execution_count": 121,
   "metadata": {
    "scrolled": true
   },
   "outputs": [
    {
     "data": {
      "image/png": "[encoded data removed]",
      "text/plain": [
       "<Figure size 1080x432 with 1 Axes>"
      ]
     },
     "metadata": {
      "needs_background": "light"
     },
     "output_type": "display_data"
    }
   ],
   "source": [
    "# Plotting number of tickets per day after October 2013\n",
    "data.plot(figsize=(15,6))\n",
    "plt.show()"
   ]
  },
  {
   "cell_type": "code",
   "execution_count": 122,
   "metadata": {},
   "outputs": [
    {
     "data": {
      "text/plain": [
       "(179, 1)"
      ]
     },
     "execution_count": 122,
     "metadata": {},
     "output_type": "execute_result"
    }
   ],
   "source": [
    "from2013.shape"
   ]
  },
  {
   "cell_type": "code",
   "execution_count": 123,
   "metadata": {},
   "outputs": [
    {
     "data": {
      "text/plain": [
       "(181,)"
      ]
     },
     "execution_count": 123,
     "metadata": {},
     "output_type": "execute_result"
    }
   ],
   "source": [
    "data.shape"
   ]
  },
  {
   "cell_type": "markdown",
   "metadata": {},
   "source": [
    "- Making a list of values for p,d & q"
   ]
  },
  {
   "cell_type": "code",
   "execution_count": 124,
   "metadata": {},
   "outputs": [
    {
     "data": {
      "text/plain": [
       "[(0, 0, 0),\n",
       " (0, 0, 1),\n",
       " (0, 1, 0),\n",
       " (0, 1, 1),\n",
       " (1, 0, 0),\n",
       " (1, 0, 1),\n",
       " (1, 1, 0),\n",
       " (1, 1, 1)]"
      ]
     },
     "execution_count": 124,
     "metadata": {},
     "output_type": "execute_result"
    }
   ],
   "source": [
    "import itertools\n",
    "p=d=q=range(0,2)\n",
    "pdq = list(itertools.product(p,d,q))\n",
    "pdq"
   ]
  },
  {
   "cell_type": "code",
   "execution_count": 125,
   "metadata": {},
   "outputs": [
    {
     "name": "stdout",
     "output_type": "stream",
     "text": [
      "ARIMA(0, 0, 0) - AIC:2539.6180293605685\n",
      "ARIMA(0, 0, 1) - AIC:2373.7853824722297\n",
      "ARIMA(0, 1, 0) - AIC:2371.128960804689\n",
      "ARIMA(0, 1, 1) - AIC:2313.1363346533485\n",
      "ARIMA(1, 0, 0) - AIC:2365.2916469365928\n",
      "ARIMA(1, 0, 1) - AIC:2337.312508693355\n",
      "ARIMA(1, 1, 0) - AIC:2373.1280680651544\n",
      "ARIMA(1, 1, 1) - AIC:2294.4315812436853\n"
     ]
    }
   ],
   "source": [
    "import warnings\n",
    "warnings.filterwarnings('ignore')\n",
    "import statsmodels.api as sm\n",
    "# Checking the AIC values per pairs\n",
    "for param in pdq:\n",
    "    mod = sm.tsa.statespace.SARIMAX(data,order=param,enforce_stationarity=False,enforce_invertibility=False)\n",
    "    results = mod.fit()\n",
    "    print('ARIMA{} - AIC:{}'.format(param, results.aic))"
   ]
  },
  {
   "cell_type": "markdown",
   "metadata": {},
   "source": [
    "- Choosing the model with minimum AIC and the ARIMA Model for Time Series Forecasting"
   ]
  },
  {
   "cell_type": "code",
   "execution_count": 126,
   "metadata": {},
   "outputs": [
    {
     "name": "stdout",
     "output_type": "stream",
     "text": [
      "==============================================================================\n",
      "                 coef    std err          z      P>|z|      [0.025      0.975]\n",
      "------------------------------------------------------------------------------\n",
      "ar.L1          0.3386      0.090      3.771      0.000       0.163       0.515\n",
      "ma.L1         -0.9989      0.428     -2.332      0.020      -1.839      -0.159\n",
      "sigma2       2.52e+04   9781.735      2.576      0.010    6023.506    4.44e+04\n",
      "==============================================================================\n"
     ]
    }
   ],
   "source": [
    "mod = sm.tsa.statespace.SARIMAX(data,order=(1,1,1))\n",
    "results = mod.fit()\n",
    "print(results.summary().tables[1])"
   ]
  },
  {
   "cell_type": "markdown",
   "metadata": {},
   "source": [
    "- Predicting the future values and the confidence interval"
   ]
  },
  {
   "cell_type": "code",
   "execution_count": 127,
   "metadata": {},
   "outputs": [
    {
     "data": {
      "text/plain": [
       "2014-03-03    172.0\n",
       "2014-03-04    266.0\n",
       "2014-03-05    279.0\n",
       "2014-03-06    272.0\n",
       "2014-03-07    291.0\n",
       "              ...  \n",
       "2014-10-26    252.0\n",
       "2014-10-27    252.0\n",
       "2014-10-28    252.0\n",
       "2014-10-29    252.0\n",
       "2014-10-30    252.0\n",
       "Freq: D, Length: 242, dtype: float64"
      ]
     },
     "execution_count": 127,
     "metadata": {},
     "output_type": "execute_result"
    }
   ],
   "source": [
    "pred = results.get_prediction(start=pd.to_datetime('2014-3-3'),end=pd.to_datetime('2014-10-30'),dynamic=False)\n",
    "pred_ci = pred.conf_int()\n",
    "pred.predicted_mean.round()"
   ]
  },
  {
   "cell_type": "markdown",
   "metadata": {},
   "source": [
    "## Visualization"
   ]
  },
  {
   "cell_type": "code",
   "execution_count": 128,
   "metadata": {},
   "outputs": [
    {
     "data": {
      "image/png": "[encoded data removed]",
      "text/plain": [
       "<Figure size 1080x432 with 1 Axes>"
      ]
     },
     "metadata": {
      "needs_background": "light"
     },
     "output_type": "display_data"
    }
   ],
   "source": [
    "ax = data['2013':].plot(label='observed')\n",
    "pred.predicted_mean.plot(ax=ax,label='One-step ahead Forecast',figsize=(15, 6))\n",
    "ax.fill_between(pred_ci.index,pred_ci.iloc[:,0],pred_ci.iloc[:,1],color='grey',alpha=0.3)\n",
    "ax.set_xlabel('Date')\n",
    "ax.set_ylabel('Priority')\n",
    "plt.legend()\n",
    "plt.show()"
   ]
  },
  {
   "cell_type": "markdown",
   "metadata": {},
   "source": [
    "# 3.Predicting Request for change"
   ]
  },
  {
   "cell_type": "code",
   "execution_count": 129,
   "metadata": {},
   "outputs": [
    {
     "data": {
      "text/html": [
       "<div>\n",
       "<style scoped>\n",
       "    .dataframe tbody tr th:only-of-type {\n",
       "        vertical-align: middle;\n",
       "    }\n",
       "\n",
       "    .dataframe tbody tr th {\n",
       "        vertical-align: top;\n",
       "    }\n",
       "\n",
       "    .dataframe thead th {\n",
       "        text-align: right;\n",
       "    }\n",
       "</style>\n",
       "<table border=\"1\" class=\"dataframe\">\n",
       "  <thead>\n",
       "    <tr style=\"text-align: right;\">\n",
       "      <th></th>\n",
       "      <th>CI_Name</th>\n",
       "      <th>CI_Cat</th>\n",
       "      <th>CI_Subcat</th>\n",
       "      <th>WBS</th>\n",
       "      <th>Incident_ID</th>\n",
       "      <th>Status</th>\n",
       "      <th>Impact</th>\n",
       "      <th>Urgency</th>\n",
       "      <th>Priority</th>\n",
       "      <th>number_cnt</th>\n",
       "      <th>...</th>\n",
       "      <th>Reopen_Time</th>\n",
       "      <th>Resolved_Time</th>\n",
       "      <th>Close_Time</th>\n",
       "      <th>Handle_Time_hrs</th>\n",
       "      <th>Closure_Code</th>\n",
       "      <th>No_of_Related_Interactions</th>\n",
       "      <th>Related_Interaction</th>\n",
       "      <th>No_of_Related_Incidents</th>\n",
       "      <th>No_of_Related_Changes</th>\n",
       "      <th>Related_Change</th>\n",
       "    </tr>\n",
       "  </thead>\n",
       "  <tbody>\n",
       "    <tr>\n",
       "      <th>0</th>\n",
       "      <td>SUB000508</td>\n",
       "      <td>subapplication</td>\n",
       "      <td>Web Based Application</td>\n",
       "      <td>WBS000162</td>\n",
       "      <td>IM0000004</td>\n",
       "      <td>Closed</td>\n",
       "      <td>4</td>\n",
       "      <td>4</td>\n",
       "      <td>4</td>\n",
       "      <td>0.601292279</td>\n",
       "      <td>...</td>\n",
       "      <td></td>\n",
       "      <td>04-11-2013 13:50</td>\n",
       "      <td>04-11-2013 13:51</td>\n",
       "      <td>3,87,16,91,111</td>\n",
       "      <td>Other</td>\n",
       "      <td>1</td>\n",
       "      <td>SD0000007</td>\n",
       "      <td>2</td>\n",
       "      <td></td>\n",
       "      <td></td>\n",
       "    </tr>\n",
       "    <tr>\n",
       "      <th>1</th>\n",
       "      <td>WBA000124</td>\n",
       "      <td>application</td>\n",
       "      <td>Web Based Application</td>\n",
       "      <td>WBS000088</td>\n",
       "      <td>IM0000005</td>\n",
       "      <td>Closed</td>\n",
       "      <td>3</td>\n",
       "      <td>3</td>\n",
       "      <td>3</td>\n",
       "      <td>0.415049969</td>\n",
       "      <td>...</td>\n",
       "      <td>02-12-2013 12:31</td>\n",
       "      <td>02-12-2013 12:36</td>\n",
       "      <td>02-12-2013 12:36</td>\n",
       "      <td>4,35,47,86,389</td>\n",
       "      <td>Software</td>\n",
       "      <td>1</td>\n",
       "      <td>SD0000011</td>\n",
       "      <td>1</td>\n",
       "      <td></td>\n",
       "      <td></td>\n",
       "    </tr>\n",
       "    <tr>\n",
       "      <th>2</th>\n",
       "      <td>DTA000024</td>\n",
       "      <td>application</td>\n",
       "      <td>Desktop Application</td>\n",
       "      <td>WBS000092</td>\n",
       "      <td>IM0000006</td>\n",
       "      <td>Closed</td>\n",
       "      <td>NS</td>\n",
       "      <td>3</td>\n",
       "      <td>NA</td>\n",
       "      <td>0.517551335</td>\n",
       "      <td>...</td>\n",
       "      <td></td>\n",
       "      <td>13-01-2014 15:12</td>\n",
       "      <td>13-01-2014 15:13</td>\n",
       "      <td>4,84,31,19,444</td>\n",
       "      <td>No error - works as designed</td>\n",
       "      <td>1</td>\n",
       "      <td>SD0000017</td>\n",
       "      <td></td>\n",
       "      <td></td>\n",
       "      <td></td>\n",
       "    </tr>\n",
       "    <tr>\n",
       "      <th>3</th>\n",
       "      <td>WBA000124</td>\n",
       "      <td>application</td>\n",
       "      <td>Web Based Application</td>\n",
       "      <td>WBS000088</td>\n",
       "      <td>IM0000011</td>\n",
       "      <td>Closed</td>\n",
       "      <td>4</td>\n",
       "      <td>4</td>\n",
       "      <td>4</td>\n",
       "      <td>0.642927218</td>\n",
       "      <td>...</td>\n",
       "      <td></td>\n",
       "      <td>14-11-2013 09:31</td>\n",
       "      <td>14-11-2013 09:31</td>\n",
       "      <td>4,32,18,33,333</td>\n",
       "      <td>Operator error</td>\n",
       "      <td>1</td>\n",
       "      <td>SD0000025</td>\n",
       "      <td></td>\n",
       "      <td></td>\n",
       "      <td></td>\n",
       "    </tr>\n",
       "    <tr>\n",
       "      <th>4</th>\n",
       "      <td>WBA000124</td>\n",
       "      <td>application</td>\n",
       "      <td>Web Based Application</td>\n",
       "      <td>WBS000088</td>\n",
       "      <td>IM0000012</td>\n",
       "      <td>Closed</td>\n",
       "      <td>4</td>\n",
       "      <td>4</td>\n",
       "      <td>4</td>\n",
       "      <td>0.345258343</td>\n",
       "      <td>...</td>\n",
       "      <td></td>\n",
       "      <td>08-11-2013 13:55</td>\n",
       "      <td>08-11-2013 13:55</td>\n",
       "      <td>3,38,39,03,333</td>\n",
       "      <td>Other</td>\n",
       "      <td>1</td>\n",
       "      <td>SD0000029</td>\n",
       "      <td></td>\n",
       "      <td></td>\n",
       "      <td></td>\n",
       "    </tr>\n",
       "  </tbody>\n",
       "</table>\n",
       "<p>5 rows × 25 columns</p>\n",
       "</div>"
      ],
      "text/plain": [
       "     CI_Name          CI_Cat              CI_Subcat        WBS Incident_ID  \\\n",
       "0  SUB000508  subapplication  Web Based Application  WBS000162   IM0000004   \n",
       "1  WBA000124     application  Web Based Application  WBS000088   IM0000005   \n",
       "2  DTA000024     application    Desktop Application  WBS000092   IM0000006   \n",
       "3  WBA000124     application  Web Based Application  WBS000088   IM0000011   \n",
       "4  WBA000124     application  Web Based Application  WBS000088   IM0000012   \n",
       "\n",
       "   Status Impact Urgency Priority   number_cnt  ...       Reopen_Time  \\\n",
       "0  Closed      4       4        4  0.601292279  ...                     \n",
       "1  Closed      3       3        3  0.415049969  ...  02-12-2013 12:31   \n",
       "2  Closed     NS       3       NA  0.517551335  ...                     \n",
       "3  Closed      4       4        4  0.642927218  ...                     \n",
       "4  Closed      4       4        4  0.345258343  ...                     \n",
       "\n",
       "      Resolved_Time        Close_Time Handle_Time_hrs  \\\n",
       "0  04-11-2013 13:50  04-11-2013 13:51  3,87,16,91,111   \n",
       "1  02-12-2013 12:36  02-12-2013 12:36  4,35,47,86,389   \n",
       "2  13-01-2014 15:12  13-01-2014 15:13  4,84,31,19,444   \n",
       "3  14-11-2013 09:31  14-11-2013 09:31  4,32,18,33,333   \n",
       "4  08-11-2013 13:55  08-11-2013 13:55  3,38,39,03,333   \n",
       "\n",
       "                   Closure_Code No_of_Related_Interactions  \\\n",
       "0                         Other                          1   \n",
       "1                      Software                          1   \n",
       "2  No error - works as designed                          1   \n",
       "3                Operator error                          1   \n",
       "4                         Other                          1   \n",
       "\n",
       "  Related_Interaction No_of_Related_Incidents No_of_Related_Changes  \\\n",
       "0           SD0000007                       2                         \n",
       "1           SD0000011                       1                         \n",
       "2           SD0000017                                                 \n",
       "3           SD0000025                                                 \n",
       "4           SD0000029                                                 \n",
       "\n",
       "  Related_Change  \n",
       "0                 \n",
       "1                 \n",
       "2                 \n",
       "3                 \n",
       "4                 \n",
       "\n",
       "[5 rows x 25 columns]"
      ]
     },
     "execution_count": 129,
     "metadata": {},
     "output_type": "execute_result"
    }
   ],
   "source": [
    "data1.head()"
   ]
  },
  {
   "cell_type": "code",
   "execution_count": 130,
   "metadata": {},
   "outputs": [
    {
     "data": {
      "text/plain": [
       "(46606, 25)"
      ]
     },
     "execution_count": 130,
     "metadata": {},
     "output_type": "execute_result"
    }
   ],
   "source": [
    "data1.shape"
   ]
  },
  {
   "cell_type": "code",
   "execution_count": 131,
   "metadata": {},
   "outputs": [
    {
     "data": {
      "text/plain": [
       "Index(['CI_Name', 'CI_Cat', 'CI_Subcat', 'WBS', 'Incident_ID', 'Status',\n",
       "       'Impact', 'Urgency', 'Priority', 'number_cnt', 'Category', 'KB_number',\n",
       "       'Alert_Status', 'No_of_Reassignments', 'Open_Time', 'Reopen_Time',\n",
       "       'Resolved_Time', 'Close_Time', 'Handle_Time_hrs', 'Closure_Code',\n",
       "       'No_of_Related_Interactions', 'Related_Interaction',\n",
       "       'No_of_Related_Incidents', 'No_of_Related_Changes', 'Related_Change'],\n",
       "      dtype='object')"
      ]
     },
     "execution_count": 131,
     "metadata": {},
     "output_type": "execute_result"
    }
   ],
   "source": [
    "data1.columns"
   ]
  },
  {
   "cell_type": "code",
   "execution_count": 132,
   "metadata": {},
   "outputs": [],
   "source": [
    "# Selecting the predictors\n",
    "X1 = data1.loc[:,['CI_Subcat','WBS','Priority','Category','No_of_Related_Interactions','No_of_Related_Incidents']]\n",
    "y1 = data1.No_of_Related_Changes"
   ]
  },
  {
   "cell_type": "code",
   "execution_count": 133,
   "metadata": {},
   "outputs": [
    {
     "data": {
      "text/plain": [
       "0    \n",
       "1    \n",
       "2    \n",
       "3    \n",
       "4    \n",
       "Name: No_of_Related_Changes, dtype: object"
      ]
     },
     "execution_count": 133,
     "metadata": {},
     "output_type": "execute_result"
    }
   ],
   "source": [
    "y1.head()"
   ]
  },
  {
   "cell_type": "markdown",
   "metadata": {},
   "source": [
    "## converting Cat into numerical"
   ]
  },
  {
   "cell_type": "code",
   "execution_count": 134,
   "metadata": {},
   "outputs": [],
   "source": [
    "enc= LabelEncoder()\n",
    "data1['CI_Subcat'] = enc.fit_transform(data1['CI_Subcat'])\n",
    "data1['WBS'] = enc.fit_transform(data1['WBS'])\n",
    "data1['Category'] = enc.fit_transform(data1['Category'])"
   ]
  },
  {
   "cell_type": "markdown",
   "metadata": {},
   "source": [
    "- removing null values by replacing them"
   ]
  },
  {
   "cell_type": "code",
   "execution_count": 135,
   "metadata": {},
   "outputs": [],
   "source": [
    "data1.No_of_Related_Interactions.replace('',1,inplace=True)\n",
    "data1.Priority.replace('NA',4,inplace=True)\n",
    "data1.No_of_Related_Incidents.replace('',0,inplace=True)\n"
   ]
  },
  {
   "cell_type": "markdown",
   "metadata": {},
   "source": [
    "- decresing the N_neighbours into 2 groups "
   ]
  },
  {
   "cell_type": "code",
   "execution_count": 136,
   "metadata": {},
   "outputs": [],
   "source": [
    "data1.No_of_Related_Changes.replace({'':0,'2':1,'3':1,'9':1},inplace=True)"
   ]
  },
  {
   "cell_type": "code",
   "execution_count": 137,
   "metadata": {},
   "outputs": [],
   "source": [
    "X1 = data1.loc[:,['CI_Subcat','WBS','Priority','Category','No_of_Related_Interactions','No_of_Related_Incidents']]\n",
    "y1 = data1.No_of_Related_Changes"
   ]
  },
  {
   "cell_type": "code",
   "execution_count": 138,
   "metadata": {},
   "outputs": [
    {
     "data": {
      "text/plain": [
       "46    18811\n",
       "58    15311\n",
       "11     3876\n",
       "22     1921\n",
       "43     1199\n",
       "      ...  \n",
       "39        1\n",
       "40        1\n",
       "53        1\n",
       "19        1\n",
       "56        1\n",
       "Name: CI_Subcat, Length: 65, dtype: int64"
      ]
     },
     "execution_count": 138,
     "metadata": {},
     "output_type": "execute_result"
    }
   ],
   "source": [
    "data1['CI_Subcat'].value_counts()"
   ]
  },
  {
   "cell_type": "code",
   "execution_count": 139,
   "metadata": {},
   "outputs": [
    {
     "data": {
      "text/plain": [
       "1    37748\n",
       "3     8846\n",
       "0       11\n",
       "2        1\n",
       "Name: Category, dtype: int64"
      ]
     },
     "execution_count": 139,
     "metadata": {},
     "output_type": "execute_result"
    }
   ],
   "source": [
    "data1['Category'].value_counts()"
   ]
  },
  {
   "cell_type": "code",
   "execution_count": 140,
   "metadata": {},
   "outputs": [
    {
     "data": {
      "text/plain": [
       "0    46046\n",
       "1      560\n",
       "Name: No_of_Related_Changes, dtype: int64"
      ]
     },
     "execution_count": 140,
     "metadata": {},
     "output_type": "execute_result"
    }
   ],
   "source": [
    "data1['No_of_Related_Changes'].value_counts()"
   ]
  },
  {
   "cell_type": "code",
   "execution_count": 141,
   "metadata": {},
   "outputs": [
    {
     "data": {
      "text/plain": [
       "0     45384\n",
       "1      1057\n",
       "2        74\n",
       "3        20\n",
       "4        13\n",
       "5         8\n",
       "6         8\n",
       "9         6\n",
       "8         5\n",
       "11        4\n",
       "12        4\n",
       "7         4\n",
       "17        3\n",
       "16        3\n",
       "10        2\n",
       "24        2\n",
       "26        1\n",
       "13        1\n",
       "14        1\n",
       "25        1\n",
       "63        1\n",
       "23        1\n",
       "54        1\n",
       "15        1\n",
       "21        1\n",
       "Name: No_of_Related_Incidents, dtype: int64"
      ]
     },
     "execution_count": 141,
     "metadata": {},
     "output_type": "execute_result"
    }
   ],
   "source": [
    "data1['No_of_Related_Incidents'].value_counts()"
   ]
  },
  {
   "cell_type": "code",
   "execution_count": 142,
   "metadata": {},
   "outputs": [
    {
     "data": {
      "text/plain": [
       "1      43058\n",
       "2       2736\n",
       "3        429\n",
       "4        124\n",
       "1        114\n",
       "5         30\n",
       "6         16\n",
       "7         12\n",
       "8          6\n",
       "12         6\n",
       "9          5\n",
       "20         5\n",
       "13         4\n",
       "42         3\n",
       "15         3\n",
       "10         3\n",
       "19         3\n",
       "22         3\n",
       "16         2\n",
       "17         2\n",
       "23         2\n",
       "18         2\n",
       "14         2\n",
       "28         2\n",
       "33         2\n",
       "26         2\n",
       "45         2\n",
       "34         2\n",
       "29         2\n",
       "44         2\n",
       "11         2\n",
       "39         2\n",
       "30         1\n",
       "88         1\n",
       "25         1\n",
       "288        1\n",
       "370        1\n",
       "21         1\n",
       "118        1\n",
       "57         1\n",
       "24         1\n",
       "54         1\n",
       "41         1\n",
       "74         1\n",
       "31         1\n",
       "55         1\n",
       "37         1\n",
       "40         1\n",
       "43         1\n",
       "27         1\n",
       "Name: No_of_Related_Interactions, dtype: int64"
      ]
     },
     "execution_count": 142,
     "metadata": {},
     "output_type": "execute_result"
    }
   ],
   "source": [
    "data1['No_of_Related_Interactions'].value_counts()"
   ]
  },
  {
   "cell_type": "code",
   "execution_count": 143,
   "metadata": {},
   "outputs": [
    {
     "data": {
      "text/html": [
       "<div>\n",
       "<style scoped>\n",
       "    .dataframe tbody tr th:only-of-type {\n",
       "        vertical-align: middle;\n",
       "    }\n",
       "\n",
       "    .dataframe tbody tr th {\n",
       "        vertical-align: top;\n",
       "    }\n",
       "\n",
       "    .dataframe thead th {\n",
       "        text-align: right;\n",
       "    }\n",
       "</style>\n",
       "<table border=\"1\" class=\"dataframe\">\n",
       "  <thead>\n",
       "    <tr style=\"text-align: right;\">\n",
       "      <th></th>\n",
       "      <th>CI_Subcat</th>\n",
       "      <th>WBS</th>\n",
       "      <th>Priority</th>\n",
       "      <th>Category</th>\n",
       "      <th>No_of_Related_Interactions</th>\n",
       "      <th>No_of_Related_Incidents</th>\n",
       "    </tr>\n",
       "  </thead>\n",
       "  <tbody>\n",
       "    <tr>\n",
       "      <th>0</th>\n",
       "      <td>58</td>\n",
       "      <td>137</td>\n",
       "      <td>4</td>\n",
       "      <td>1</td>\n",
       "      <td>1</td>\n",
       "      <td>2</td>\n",
       "    </tr>\n",
       "    <tr>\n",
       "      <th>1</th>\n",
       "      <td>58</td>\n",
       "      <td>70</td>\n",
       "      <td>3</td>\n",
       "      <td>1</td>\n",
       "      <td>1</td>\n",
       "      <td>1</td>\n",
       "    </tr>\n",
       "    <tr>\n",
       "      <th>2</th>\n",
       "      <td>11</td>\n",
       "      <td>74</td>\n",
       "      <td>4</td>\n",
       "      <td>3</td>\n",
       "      <td>1</td>\n",
       "      <td>0</td>\n",
       "    </tr>\n",
       "    <tr>\n",
       "      <th>3</th>\n",
       "      <td>58</td>\n",
       "      <td>70</td>\n",
       "      <td>4</td>\n",
       "      <td>1</td>\n",
       "      <td>1</td>\n",
       "      <td>0</td>\n",
       "    </tr>\n",
       "    <tr>\n",
       "      <th>4</th>\n",
       "      <td>58</td>\n",
       "      <td>70</td>\n",
       "      <td>4</td>\n",
       "      <td>1</td>\n",
       "      <td>1</td>\n",
       "      <td>0</td>\n",
       "    </tr>\n",
       "  </tbody>\n",
       "</table>\n",
       "</div>"
      ],
      "text/plain": [
       "   CI_Subcat  WBS Priority  Category No_of_Related_Interactions  \\\n",
       "0         58  137        4         1                          1   \n",
       "1         58   70        3         1                          1   \n",
       "2         11   74        4         3                          1   \n",
       "3         58   70        4         1                          1   \n",
       "4         58   70        4         1                          1   \n",
       "\n",
       "  No_of_Related_Incidents  \n",
       "0                       2  \n",
       "1                       1  \n",
       "2                       0  \n",
       "3                       0  \n",
       "4                       0  "
      ]
     },
     "execution_count": 143,
     "metadata": {},
     "output_type": "execute_result"
    }
   ],
   "source": [
    "X1.head()"
   ]
  },
  {
   "cell_type": "code",
   "execution_count": 144,
   "metadata": {},
   "outputs": [],
   "source": [
    "# Splitting into train and test for calculating the accuracy\n",
    "X1_train, X1_test, y1_train, y1_test = train_test_split(X1,y1,test_size=0.3,random_state=10)"
   ]
  },
  {
   "cell_type": "code",
   "execution_count": 145,
   "metadata": {},
   "outputs": [],
   "source": [
    "# Standardization technique is used\n",
    "sc = StandardScaler()\n",
    "X1_train = sc.fit_transform(X1_train)\n",
    "X1_test = sc.transform(X1_test)"
   ]
  },
  {
   "cell_type": "code",
   "execution_count": 146,
   "metadata": {},
   "outputs": [
    {
     "data": {
      "text/plain": [
       "(32624, 6)"
      ]
     },
     "execution_count": 146,
     "metadata": {},
     "output_type": "execute_result"
    }
   ],
   "source": [
    "X1_train.shape"
   ]
  },
  {
   "cell_type": "code",
   "execution_count": 147,
   "metadata": {},
   "outputs": [
    {
     "data": {
      "text/plain": [
       "(13982, 6)"
      ]
     },
     "execution_count": 147,
     "metadata": {},
     "output_type": "execute_result"
    }
   ],
   "source": [
    "X1_test.shape"
   ]
  },
  {
   "cell_type": "markdown",
   "metadata": {},
   "source": [
    "# Training the model"
   ]
  },
  {
   "cell_type": "code",
   "execution_count": 148,
   "metadata": {},
   "outputs": [
    {
     "data": {
      "text/plain": [
       "RandomForestClassifier()"
      ]
     },
     "execution_count": 148,
     "metadata": {},
     "output_type": "execute_result"
    }
   ],
   "source": [
    "# Training the model\n",
    "from sklearn.ensemble import RandomForestClassifier\n",
    "model1_rf = RandomForestClassifier()\n",
    "model1_rf.fit(X1_train,y1_train)"
   ]
  },
  {
   "cell_type": "code",
   "execution_count": 149,
   "metadata": {},
   "outputs": [],
   "source": [
    "# Predicting the model\n",
    "y1_predict_rf = model1_rf.predict(X1_test)"
   ]
  },
  {
   "cell_type": "code",
   "execution_count": 150,
   "metadata": {},
   "outputs": [
    {
     "name": "stdout",
     "output_type": "stream",
     "text": [
      "0.9891288799885567\n",
      "              precision    recall  f1-score   support\n",
      "\n",
      "           0       0.99      1.00      0.99     13835\n",
      "           1       0.31      0.03      0.05       147\n",
      "\n",
      "    accuracy                           0.99     13982\n",
      "   macro avg       0.65      0.51      0.52     13982\n",
      "weighted avg       0.98      0.99      0.98     13982\n",
      "\n"
     ]
    }
   ],
   "source": [
    "# Finding accuracy, precision, recall and confusion matrix\n",
    "print(accuracy_score(y1_test,y1_predict_rf))\n",
    "print(classification_report(y1_test,y1_predict_rf))"
   ]
  },
  {
   "cell_type": "markdown",
   "metadata": {},
   "source": [
    "##### we predicted ITSM ticket priority with 99% accuracy"
   ]
  },
  {
   "cell_type": "code",
   "execution_count": null,
   "metadata": {},
   "outputs": [],
   "source": []
  }
 ],
 "metadata": {
  "kernelspec": {
   "display_name": "Python 3",
   "language": "python",
   "name": "python3"
  },
  "language_info": {
   "codemirror_mode": {
    "name": "ipython",
    "version": 3
   },
   "file_extension": ".py",
   "mimetype": "text/x-python",
   "name": "python",
   "nbconvert_exporter": "python",
   "pygments_lexer": "ipython3",
   "version": "3.8.3"
  }
 },
 "nbformat": 4,
 "nbformat_minor": 4
}
